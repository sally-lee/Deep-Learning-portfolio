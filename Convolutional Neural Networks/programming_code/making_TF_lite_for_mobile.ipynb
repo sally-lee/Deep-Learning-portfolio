{
  "nbformat": 4,
  "nbformat_minor": 0,
  "metadata": {
    "colab": {
      "provenance": [],
      "machine_shape": "hm"
    },
    "kernelspec": {
      "name": "python3",
      "display_name": "Python 3"
    },
    "language_info": {
      "name": "python"
    },
    "accelerator": "GPU",
    "gpuClass": "premium"
  },
  "cells": [
    {
      "cell_type": "code",
      "execution_count": null,
      "metadata": {
        "colab": {
          "base_uri": "https://localhost:8080/"
        },
        "id": "p_J9QQHizS0X",
        "outputId": "73c6b5a6-f64b-425f-d0a8-6da508e23abf"
      },
      "outputs": [
        {
          "output_type": "stream",
          "name": "stdout",
          "text": [
            "Mounted at /content/drive\n"
          ]
        }
      ],
      "source": [
        "from google.colab import drive\n",
        "drive.mount('/content/drive')"
      ]
    },
    {
      "cell_type": "code",
      "source": [
        "import os\n",
        "import pathlib\n",
        "\n",
        "if \"models\" in pathlib.Path.cwd().parts:\n",
        "  while \"models\" in pathlib.Path.cwd().parts:\n",
        "    os.chdir('..')\n",
        "elif not pathlib.Path('models').exists():\n",
        "  !git clone https://github.com/tensorflow/models"
      ],
      "metadata": {
        "colab": {
          "base_uri": "https://localhost:8080/"
        },
        "id": "l0mnVFm6zew9",
        "outputId": "07d5f976-dcdb-40be-8a34-4f0faff56007"
      },
      "execution_count": null,
      "outputs": [
        {
          "output_type": "stream",
          "name": "stdout",
          "text": [
            "Cloning into 'models'...\n",
            "remote: Enumerating objects: 79952, done.\u001b[K\n",
            "remote: Counting objects: 100% (128/128), done.\u001b[K\n",
            "remote: Compressing objects: 100% (109/109), done.\u001b[K\n",
            "remote: Total 79952 (delta 46), reused 43 (delta 18), pack-reused 79824\u001b[K\n",
            "Receiving objects: 100% (79952/79952), 594.17 MiB | 48.98 MiB/s, done.\n",
            "Resolving deltas: 100% (56889/56889), done.\n"
          ]
        }
      ]
    },
    {
      "cell_type": "code",
      "source": [
        "%%bash\n",
        "sudo apt install -y protobuf-compiler\n",
        "cd /content/models/research/\n",
        "protoc object_detection/protos/*.proto --python_out=.\n",
        "cd /content\n",
        "git clone https://github.com/cocodataset/cocoapi.git\n",
        "cd /content/cocoapi/PythonAPI\n",
        "make\n",
        "cp -r pycocotools /content/models/research/\n",
        "cd /content/models/research/\n",
        "cp object_detection/packages/tf2/setup.py .\n",
        "python -m pip install .\n",
        "cd /content"
      ],
      "metadata": {
        "id": "-P4X61lAzikt"
      },
      "execution_count": null,
      "outputs": []
    },
    {
      "cell_type": "code",
      "source": [
        "!python /content/models/research/object_detection/builders/model_builder_tf2_test.py"
      ],
      "metadata": {
        "id": "G80pavk1zl92"
      },
      "execution_count": null,
      "outputs": []
    },
    {
      "cell_type": "code",
      "source": [
        "!pip uninstall imgaug\n",
        "!pip install imgaug==0.4.0"
      ],
      "metadata": {
        "id": "ucqo6-DSzn5l"
      },
      "execution_count": null,
      "outputs": []
    },
    {
      "cell_type": "code",
      "source": [
        "!pip install -q tflite-model-maker"
      ],
      "metadata": {
        "id": "Oi28yBezzpdd"
      },
      "execution_count": null,
      "outputs": []
    },
    {
      "cell_type": "code",
      "source": [
        "import numpy as np\n",
        "import os\n",
        "import shutil\n",
        "import random\n",
        "from lxml import etree\n",
        "import re\n",
        "import xml.etree.ElementTree as ET\n",
        "\n",
        "import tensorflow as tf\n",
        "assert tf.__version__.startswith('2')\n",
        "\n",
        "tf.get_logger().setLevel('ERROR')\n",
        "from absl import logging\n",
        "logging.set_verbosity(logging.ERROR)"
      ],
      "metadata": {
        "id": "rmHQNNvFztem"
      },
      "execution_count": null,
      "outputs": []
    },
    {
      "cell_type": "code",
      "source": [],
      "metadata": {
        "id": "oMUhmzf0z47U"
      },
      "execution_count": null,
      "outputs": []
    },
    {
      "cell_type": "code",
      "source": [
        "from tflite_model_maker.config import ExportFormat\n",
        "from tflite_model_maker import model_spec\n",
        "from tflite_model_maker import object_detector"
      ],
      "metadata": {
        "colab": {
          "base_uri": "https://localhost:8080/"
        },
        "id": "biarfVDD0GoF",
        "outputId": "b1246696-5421-4345-e003-71e1c31f493c"
      },
      "execution_count": null,
      "outputs": [
        {
          "output_type": "stream",
          "name": "stderr",
          "text": [
            "/usr/local/lib/python3.8/dist-packages/tensorflow_addons/utils/ensure_tf_install.py:53: UserWarning: Tensorflow Addons supports using Python ops for all Tensorflow versions above or equal to 2.9.0 and strictly below 2.12.0 (nightly versions are not supported). \n",
            " The versions of TensorFlow you are currently using is 2.8.4 and is not supported. \n",
            "Some things might work, some things might not.\n",
            "If you were to encounter a bug, do not file an issue.\n",
            "If you want to make sure you're using a tested and supported configuration, either change the TensorFlow version or the TensorFlow Addons's version. \n",
            "You can find the compatibility matrix in TensorFlow Addon's readme:\n",
            "https://github.com/tensorflow/addons\n",
            "  warnings.warn(\n"
          ]
        }
      ]
    },
    {
      "cell_type": "code",
      "source": [
        "import tensorflow as tf"
      ],
      "metadata": {
        "id": "4yBF2QRT1qtk"
      },
      "execution_count": null,
      "outputs": []
    },
    {
      "cell_type": "code",
      "source": [
        "# from tensorflow_datasets.core.utils.lazy_imports_utils import tensorflow as tf\n",
        "# import tensorflow_datasets.public_api as tfds"
      ],
      "metadata": {
        "id": "dsh94GnU0JI9"
      },
      "execution_count": null,
      "outputs": []
    },
    {
      "cell_type": "code",
      "source": [
        "from object_detection.utils import dataset_util"
      ],
      "metadata": {
        "id": "UwUB5z110Lps"
      },
      "execution_count": null,
      "outputs": []
    },
    {
      "cell_type": "code",
      "source": [
        "!mkdir dataset"
      ],
      "metadata": {
        "id": "nDK1-UMN13dm"
      },
      "execution_count": null,
      "outputs": []
    },
    {
      "cell_type": "code",
      "source": [
        "%cd dataset"
      ],
      "metadata": {
        "colab": {
          "base_uri": "https://localhost:8080/"
        },
        "id": "JTGLc3ba15qe",
        "outputId": "0d04a3a2-a794-48a3-c6ec-e92c8be5506d"
      },
      "execution_count": null,
      "outputs": [
        {
          "output_type": "stream",
          "name": "stdout",
          "text": [
            "/content/dataset\n"
          ]
        }
      ]
    },
    {
      "cell_type": "code",
      "source": [
        "!tar -xvf /content/drive/MyDrive/dataset/oxford_pet/annotations.tar.gz"
      ],
      "metadata": {
        "id": "qPPEmSuR17Y2"
      },
      "execution_count": null,
      "outputs": []
    },
    {
      "cell_type": "code",
      "source": [
        "!tar -xvf /content/drive/MyDrive/dataset/oxford_pet/images.tar.gz"
      ],
      "metadata": {
        "id": "nbTTyCV12Ge-"
      },
      "execution_count": null,
      "outputs": []
    },
    {
      "cell_type": "code",
      "source": [
        "data_dir = \"/content/dataset\""
      ],
      "metadata": {
        "id": "yOxe_SQj2eL2"
      },
      "execution_count": null,
      "outputs": []
    },
    {
      "cell_type": "code",
      "source": [
        "%cd /content"
      ],
      "metadata": {
        "colab": {
          "base_uri": "https://localhost:8080/"
        },
        "id": "JUNF7sHc2gkW",
        "outputId": "53dcb97c-b5f9-4e41-9d5b-33b9ecabae7e"
      },
      "execution_count": null,
      "outputs": [
        {
          "output_type": "stream",
          "name": "stdout",
          "text": [
            "/content\n"
          ]
        }
      ]
    },
    {
      "cell_type": "code",
      "source": [
        "image_dir = os.path.join(data_dir, 'images')\n",
        "annotations_dir = os.path.join(data_dir, 'annotations')\n",
        "examples_path = os.path.join(annotations_dir, 'trainval.txt')\n",
        "examples_list = dataset_util.read_examples_list(examples_path)"
      ],
      "metadata": {
        "id": "Ow1YYlx72i-G"
      },
      "execution_count": null,
      "outputs": []
    },
    {
      "cell_type": "code",
      "source": [
        "print(image_dir)\n",
        "print(annotations_dir)\n",
        "print(examples_path)\n",
        "print(examples_list)\n",
        "print(\"examples_list size=\", len(examples_list))"
      ],
      "metadata": {
        "id": "h5CvokCQ2l8G"
      },
      "execution_count": null,
      "outputs": []
    },
    {
      "cell_type": "code",
      "source": [
        "# Test images are not included in the downloaded data set, so we shall perform\n",
        "# our own split.\n",
        "random.seed(42)\n",
        "random.shuffle(examples_list)\n",
        "num_examples = len(examples_list)\n",
        "num_train = int(0.7 * num_examples)\n",
        "train_examples = examples_list[:num_train]\n",
        "val_examples = examples_list[num_train:]\n",
        "print('%d training and %d validation examples.',\n",
        "              len(train_examples), len(val_examples))"
      ],
      "metadata": {
        "colab": {
          "base_uri": "https://localhost:8080/"
        },
        "id": "IkfT7Kg72oG-",
        "outputId": "0cddf89b-6252-4aa9-a215-6931cc39e781"
      },
      "execution_count": null,
      "outputs": [
        {
          "output_type": "stream",
          "name": "stdout",
          "text": [
            "%d training and %d validation examples. 2576 1104\n"
          ]
        }
      ]
    },
    {
      "cell_type": "code",
      "source": [
        "use_custom_dataset=True"
      ],
      "metadata": {
        "id": "SRf788362v7r"
      },
      "execution_count": null,
      "outputs": []
    },
    {
      "cell_type": "code",
      "source": [
        "dataset_is_split=True"
      ],
      "metadata": {
        "id": "eWStlsdr2xZ6"
      },
      "execution_count": null,
      "outputs": []
    },
    {
      "cell_type": "code",
      "source": [
        "if use_custom_dataset:\n",
        "  \n",
        "  # Your labels map as a dictionary (zero is reserved):\n",
        "  label_map = {1: 'Abyssinian', 2: 'american_bulldog', 3: 'american_pit_bull_terrier', 4: 'basset_hound', 5: 'beagle',\n",
        "               6: 'Bengal', 7: 'Birman', 8: 'Bombay', 9: 'boxer', 10: 'British_Shorthair',\n",
        "               11: 'chihuahua', 12: 'Egyptian_Mau', 13: 'english_cocker_spaniel', 14: 'english_setter', 15: 'german_shorthaired', \n",
        "               16: 'great_pyrenees', 17: 'havanese', 18: 'japanese_chin', 19: 'keeshond', 20: 'leonberger',\n",
        "               21: 'Maine_Coon', 22: 'miniature_pinscher', 23: 'newfoundland', 24: 'Persian', 25: 'pomeranian',\n",
        "               26: 'pug', 27: 'Ragdoll', 28: 'Russian_Blue', 29: 'saint_bernard', 30: 'samoyed',\n",
        "               31: 'scottish_terrier', 32: 'shiba_inu', 33: 'Siamese', 34: 'Sphynx', 35: 'staffordshire_bull_terrier',\n",
        "               36: 'wheaten_terrier', 37: 'yorkshire_terrier' } \n",
        "\n",
        "  if dataset_is_split:\n",
        "    # If your dataset is already split, specify each path:\n",
        "    train_images_dir = '/content/dataset/train/images'\n",
        "    train_annotations_dir = '/content/dataset/train/annotations'\n",
        "    val_images_dir = '/content/dataset/validation/images'\n",
        "    val_annotations_dir = '/content/dataset/validation/annotations'\n",
        "    test_images_dir = '/content/dataset/test/images'\n",
        "    test_annotations_dir = '/content/dataset/test/annotations'\n",
        "  else:\n",
        "    # If it's NOT split yet, specify the path to all images and annotations\n",
        "    images_in = '/content/dataset/images'\n",
        "    annotations_in = '/content/dataset/annotations'\n",
        "  "
      ],
      "metadata": {
        "id": "yD8oYVZ_2y-S"
      },
      "execution_count": null,
      "outputs": []
    },
    {
      "cell_type": "code",
      "source": [
        "!mkdir \"/content/dataset/train\""
      ],
      "metadata": {
        "id": "1mdqxcdT219b"
      },
      "execution_count": null,
      "outputs": []
    },
    {
      "cell_type": "code",
      "source": [
        "!mkdir \"/content/dataset/train/images\""
      ],
      "metadata": {
        "id": "lDhJCOhE22YC"
      },
      "execution_count": null,
      "outputs": []
    },
    {
      "cell_type": "code",
      "source": [
        "!mkdir \"/content/dataset/train/annotations\""
      ],
      "metadata": {
        "id": "dT-e-IcQ22oj"
      },
      "execution_count": null,
      "outputs": []
    },
    {
      "cell_type": "code",
      "source": [
        "!mkdir \"/content/dataset/validation\""
      ],
      "metadata": {
        "id": "AQ6i7gUz224C"
      },
      "execution_count": null,
      "outputs": []
    },
    {
      "cell_type": "code",
      "source": [
        "!mkdir \"/content/dataset/validation/images\""
      ],
      "metadata": {
        "id": "GNGqCRWh25eS"
      },
      "execution_count": null,
      "outputs": []
    },
    {
      "cell_type": "code",
      "source": [
        "!mkdir '/content/dataset/validation/annotations'"
      ],
      "metadata": {
        "id": "H9M8pMDX252i"
      },
      "execution_count": null,
      "outputs": []
    },
    {
      "cell_type": "code",
      "source": [
        "def get_class_name_from_filename(file_name):\n",
        "  \"\"\"Gets the class name from a file.\n",
        "\n",
        "  Args:\n",
        "    file_name: The file name to get the class name from.\n",
        "               ie. \"american_pit_bull_terrier_105.jpg\"\n",
        "\n",
        "  Returns:\n",
        "    A string of the class name.\n",
        "  \"\"\"\n",
        "  match = re.match(r'([A-Za-z_]+)(_[0-9]+\\.jpg)', file_name, re.I)\n",
        "  return match.groups()[0]"
      ],
      "metadata": {
        "id": "kAfM6_rP3EYe"
      },
      "execution_count": null,
      "outputs": []
    },
    {
      "cell_type": "code",
      "source": [
        "def adjust_to_annotation(data,target_path):\n",
        "  \"\"\"Notice that this function normalizes the bounding box coordinates provided\n",
        "  by the raw data.\n",
        "\n",
        "  Args:\n",
        "    data: dict holding PASCAL XML fields for a single image (obtained by\n",
        "      running dataset_util.recursive_parse_xml_to_dict)\n",
        "    \n",
        "    label_map_dict: A map from string label names to integers ids.\n",
        "    image_subdirectory: String specifying subdirectory within the\n",
        "      Pascal dataset directory holding the actual image data.\n",
        "    ignore_difficult_instances: Whether to skip difficult instances in the\n",
        "      dataset  (default: False).\n",
        "    faces_only: If True, generates bounding boxes for pet faces.  Otherwise\n",
        "      generates bounding boxes (as well as segmentations for full pet bodies).\n",
        "    \n",
        "\n",
        "  Returns:\n",
        "    example: The converted tf.Example.\n",
        "\n",
        "  Raises:\n",
        "    ValueError: if the image pointed to by data['filename'] is not a valid JPEG\n",
        "  \"\"\"\n",
        "    \n",
        "  class_name = get_class_name_from_filename(data['filename']) \n",
        "  targetXML = open(target_path, 'rt', encoding='UTF8')\n",
        "  tree = ET.parse(targetXML)\n",
        "\n",
        "  root = tree.getroot() #\n",
        "\n",
        "  for obj in root.findall('object'): \n",
        "    \n",
        "    name_tag = obj.find('name')\n",
        "    \n",
        "    name_tag.text = class_name \n",
        "  \n",
        "  tree.write(target_path)  \n",
        "\n",
        "  \n",
        "  "
      ],
      "metadata": {
        "id": "7tIyDXLD3HTW"
      },
      "execution_count": null,
      "outputs": []
    },
    {
      "cell_type": "code",
      "source": [
        "# xml_file = os.path.join(ANNO_DIR, '2007_000032.xml')\n",
        "\n",
        "# #XML 파일을 Parsing 하여 Element 생성\n",
        "# tree = ET.parse(xml_file) #트리를 만든다\n",
        "# root = tree.getroot() #루트를 가져온다\n",
        "\n",
        "# #image 관련 정보는 root의 자식으로 존재\n",
        "# image_name = root.find('filename').text #루트에서 파일 이름 가져온다\n",
        "# full_image_name = os.path.join(IMAGE_DIR, image_name)\n",
        "# image_size = root.find('size')\n",
        "# image_width = int(image_size.find('width').text) #size에서 다시 find를 하면 size의 width를 가져온다\n",
        "# image_height = int(image_size.find('height').text)\n",
        "\n",
        "# #파일내에 있는 모든 object Element를 찾음\n",
        "# objects_list = []\n",
        "# for obj in root.findall('object'): #모든 object\n",
        "#     #object element의 자식 element에서 bndbox를 찾음\n",
        "#     name_tag = obj.find('name')\n",
        "    \n",
        "    \n",
        "    \n",
        "#     class_name=obj.find('name').text\n",
        "#     object_dict={'class_name': class_name, 'bndbox_pos':bndbox_pos} #딕셔너리\n",
        "#     objects_list.append(object_dict) #리스트에 넣는다"
      ],
      "metadata": {
        "id": "JKhPUPWP3PS_"
      },
      "execution_count": null,
      "outputs": []
    },
    {
      "cell_type": "code",
      "source": [
        "import tensorflow.compat.v1 as tf"
      ],
      "metadata": {
        "id": "l_YKYqaD4n0f"
      },
      "execution_count": null,
      "outputs": []
    },
    {
      "cell_type": "code",
      "source": [
        "for idx, example in enumerate(train_examples):\n",
        "      xml_path = os.path.join(annotations_dir, 'xmls', example + '.xml')\n",
        "      # print(xml_path)\n",
        "      if not os.path.exists(xml_path):\n",
        "        print(\"no xml...:\", xml_path)\n",
        "        continue\n",
        "\n",
        "      with tf.gfile.GFile(xml_path, 'r') as fid:\n",
        "        xml_str = fid.read()\n",
        "      xml = etree.fromstring(xml_str)\n",
        "      data = dataset_util.recursive_parse_xml_to_dict(xml)['annotation']\n",
        "\n",
        "      img_path = os.path.join(image_dir, data['filename'])\n",
        "      # print(img_path)\n",
        "\n",
        "      trainimgsource = img_path\n",
        "      trainimgdestination = os.path.join(train_images_dir, data['filename'])\n",
        "      shutil.copyfile(trainimgsource, trainimgdestination)\n",
        "      # print(destination)\n",
        "\n",
        "      trainxmlsource = xml_path\n",
        "      trainxmldestination = os.path.join(train_annotations_dir, example + '.xml')\n",
        "      shutil.copyfile(trainxmlsource, trainxmldestination)\n",
        "\n",
        "      with tf.gfile.GFile(trainxmldestination, 'r') as fid:\n",
        "        xml_str = fid.read()\n",
        "      xml = etree.fromstring(xml_str)\n",
        "      data = dataset_util.recursive_parse_xml_to_dict(xml)['annotation']\n",
        "      \n",
        "      adjust_to_annotation(data, trainxmldestination)\n",
        "      "
      ],
      "metadata": {
        "id": "CODlqevA4a0R"
      },
      "execution_count": null,
      "outputs": []
    },
    {
      "cell_type": "code",
      "source": [
        "for idx, example in enumerate(val_examples):\n",
        "      xml_path = os.path.join(annotations_dir, 'xmls', example + '.xml')\n",
        "      # print(xml_path)\n",
        "      if not os.path.exists(xml_path):\n",
        "        print(\"no xml...:\", xml_path)\n",
        "        continue\n",
        "\n",
        "      with tf.gfile.GFile(xml_path, 'r') as fid:\n",
        "        xml_str = fid.read()\n",
        "      xml = etree.fromstring(xml_str)\n",
        "      data = dataset_util.recursive_parse_xml_to_dict(xml)['annotation']\n",
        "\n",
        "      img_path = os.path.join(image_dir, data['filename'])\n",
        "      # print(img_path)\n",
        "\n",
        "      valimgsource = img_path\n",
        "      valimgdestination = os.path.join(val_images_dir, data['filename'])\n",
        "      shutil.copyfile(valimgsource, valimgdestination)\n",
        "      # print(destination)\n",
        "\n",
        "      valxmlsource = xml_path\n",
        "      valxmldestination = os.path.join(val_annotations_dir, example + '.xml')\n",
        "      shutil.copyfile(valxmlsource, valxmldestination)\n",
        "\n",
        "      with tf.gfile.GFile(valxmldestination, 'r') as fid:\n",
        "        xml_str = fid.read()\n",
        "      xml = etree.fromstring(xml_str)\n",
        "      data = dataset_util.recursive_parse_xml_to_dict(xml)['annotation']\n",
        "      adjust_to_annotation(data, valxmldestination)\n",
        "      "
      ],
      "metadata": {
        "colab": {
          "base_uri": "https://localhost:8080/"
        },
        "id": "segPMbC74skH",
        "outputId": "af0eab40-397d-434d-c334-964b19c4daf6"
      },
      "execution_count": null,
      "outputs": [
        {
          "output_type": "stream",
          "name": "stdout",
          "text": [
            "no xml...: /content/dataset/annotations/xmls/Bengal_111.xml\n"
          ]
        }
      ]
    },
    {
      "cell_type": "code",
      "source": [
        "# We need to instantiate a separate DataLoader for each split dataset\n",
        "if use_custom_dataset:\n",
        "  if dataset_is_split:\n",
        "    train_data = object_detector.DataLoader.from_pascal_voc(\n",
        "        train_images_dir, train_annotations_dir, label_map=label_map)\n",
        "    validation_data = object_detector.DataLoader.from_pascal_voc(\n",
        "        val_images_dir, val_annotations_dir, label_map=label_map)\n",
        "    # test_data = object_detector.DataLoader.from_pascal_voc(\n",
        "    #     test_images_dir, test_annotations_dir, label_map=label_map)\n",
        "# 내부에서 tf.record를 만들어주는 함수\n",
        "\n",
        "  else:\n",
        "    train_dir, val_dir, test_dir = split_dataset(images_in, annotations_in,\n",
        "                                                 val_split=0.2, test_split=0.2,\n",
        "                                                 out_path='split-dataset')\n",
        "    train_data = object_detector.DataLoader.from_pascal_voc(\n",
        "        os.path.join(train_dir, 'images'),\n",
        "        os.path.join(train_dir, 'annotations'), label_map=label_map)\n",
        "    validation_data = object_detector.DataLoader.from_pascal_voc(\n",
        "        os.path.join(val_dir, 'images'),\n",
        "        os.path.join(val_dir, 'annotations'), label_map=label_map)\n",
        "    test_data = object_detector.DataLoader.from_pascal_voc(\n",
        "        os.path.join(test_dir, 'images'),\n",
        "        os.path.join(test_dir, 'annotations'), label_map=label_map)\n",
        "    \n",
        "  print(f'train count: {len(train_data)}')\n",
        "  print(f'validation count: {len(validation_data)}')\n",
        "  # print(f'test count: {len(test_data)}')"
      ],
      "metadata": {
        "colab": {
          "base_uri": "https://localhost:8080/"
        },
        "id": "UomrqlRe4yuN",
        "outputId": "bc5eb8f2-6d6f-40f0-d12d-3171e51fe947"
      },
      "execution_count": null,
      "outputs": [
        {
          "output_type": "stream",
          "name": "stdout",
          "text": [
            "train count: 2568\n",
            "validation count: 1103\n"
          ]
        }
      ]
    },
    {
      "cell_type": "code",
      "source": [
        "import tensorflow as tf"
      ],
      "metadata": {
        "id": "MCuS6ThT5Fy3"
      },
      "execution_count": null,
      "outputs": []
    },
    {
      "cell_type": "code",
      "source": [
        "spec = object_detector.EfficientDetLite1Spec()"
      ],
      "metadata": {
        "id": "2YQkqJBK45Vu"
      },
      "execution_count": null,
      "outputs": []
    },
    {
      "cell_type": "code",
      "source": [
        "model = object_detector.create(train_data=train_data, \n",
        "                               model_spec=spec, \n",
        "                               validation_data=validation_data, \n",
        "                               epochs=125, \n",
        "                               batch_size=16, \n",
        "                               train_whole_model=True)"
      ],
      "metadata": {
        "colab": {
          "base_uri": "https://localhost:8080/"
        },
        "id": "HkKyflqp48TF",
        "outputId": "ae962cf4-5fd6-4fee-e681-b4b2c9d59800"
      },
      "execution_count": null,
      "outputs": [
        {
          "output_type": "stream",
          "name": "stdout",
          "text": [
            "Epoch 1/125\n",
            "160/160 [==============================] - 129s 532ms/step - det_loss: 1.7759 - cls_loss: 1.4619 - box_loss: 0.0063 - reg_l2_loss: 0.0768 - loss: 1.8527 - learning_rate: 0.0140 - gradient_norm: 1.6615 - val_det_loss: 1.3558 - val_cls_loss: 1.1342 - val_box_loss: 0.0044 - val_reg_l2_loss: 0.0770 - val_loss: 1.4328\n",
            "Epoch 2/125\n",
            "160/160 [==============================] - 83s 518ms/step - det_loss: 1.0239 - cls_loss: 0.8779 - box_loss: 0.0029 - reg_l2_loss: 0.0772 - loss: 1.1012 - learning_rate: 0.0200 - gradient_norm: 2.2835 - val_det_loss: 1.0131 - val_cls_loss: 0.8266 - val_box_loss: 0.0037 - val_reg_l2_loss: 0.0775 - val_loss: 1.0907\n",
            "Epoch 3/125\n",
            "160/160 [==============================] - 83s 517ms/step - det_loss: 0.8418 - cls_loss: 0.7189 - box_loss: 0.0025 - reg_l2_loss: 0.0777 - loss: 0.9196 - learning_rate: 0.0200 - gradient_norm: 2.1690 - val_det_loss: 0.8463 - val_cls_loss: 0.6714 - val_box_loss: 0.0035 - val_reg_l2_loss: 0.0779 - val_loss: 0.9243\n",
            "Epoch 4/125\n",
            "160/160 [==============================] - 83s 522ms/step - det_loss: 0.7753 - cls_loss: 0.6637 - box_loss: 0.0022 - reg_l2_loss: 0.0781 - loss: 0.8533 - learning_rate: 0.0200 - gradient_norm: 2.0809 - val_det_loss: 0.9013 - val_cls_loss: 0.7208 - val_box_loss: 0.0036 - val_reg_l2_loss: 0.0783 - val_loss: 0.9796\n",
            "Epoch 5/125\n",
            "160/160 [==============================] - 129s 806ms/step - det_loss: 0.7221 - cls_loss: 0.6218 - box_loss: 0.0020 - reg_l2_loss: 0.0785 - loss: 0.8006 - learning_rate: 0.0199 - gradient_norm: 2.2103 - val_det_loss: 0.6525 - val_cls_loss: 0.5731 - val_box_loss: 0.0016 - val_reg_l2_loss: 0.0787 - val_loss: 0.7312\n",
            "Epoch 6/125\n",
            "160/160 [==============================] - 84s 524ms/step - det_loss: 0.6985 - cls_loss: 0.5942 - box_loss: 0.0021 - reg_l2_loss: 0.0789 - loss: 0.7773 - learning_rate: 0.0199 - gradient_norm: 2.2236 - val_det_loss: 0.5621 - val_cls_loss: 0.5150 - val_box_loss: 9.4204e-04 - val_reg_l2_loss: 0.0791 - val_loss: 0.6412\n",
            "Epoch 7/125\n",
            "160/160 [==============================] - 83s 522ms/step - det_loss: 0.6590 - cls_loss: 0.5652 - box_loss: 0.0019 - reg_l2_loss: 0.0793 - loss: 0.7383 - learning_rate: 0.0199 - gradient_norm: 2.2510 - val_det_loss: 0.5939 - val_cls_loss: 0.5313 - val_box_loss: 0.0013 - val_reg_l2_loss: 0.0795 - val_loss: 0.6734\n",
            "Epoch 8/125\n",
            "160/160 [==============================] - 83s 518ms/step - det_loss: 0.6426 - cls_loss: 0.5461 - box_loss: 0.0019 - reg_l2_loss: 0.0798 - loss: 0.7224 - learning_rate: 0.0198 - gradient_norm: 2.3528 - val_det_loss: 0.7182 - val_cls_loss: 0.6402 - val_box_loss: 0.0016 - val_reg_l2_loss: 0.0800 - val_loss: 0.7982\n",
            "Epoch 9/125\n",
            "160/160 [==============================] - 84s 524ms/step - det_loss: 0.6087 - cls_loss: 0.5205 - box_loss: 0.0018 - reg_l2_loss: 0.0802 - loss: 0.6889 - learning_rate: 0.0198 - gradient_norm: 2.2282 - val_det_loss: 0.6331 - val_cls_loss: 0.5876 - val_box_loss: 9.0991e-04 - val_reg_l2_loss: 0.0804 - val_loss: 0.7135\n",
            "Epoch 10/125\n",
            "160/160 [==============================] - 112s 701ms/step - det_loss: 0.5826 - cls_loss: 0.5009 - box_loss: 0.0016 - reg_l2_loss: 0.0806 - loss: 0.6633 - learning_rate: 0.0197 - gradient_norm: 2.2200 - val_det_loss: 0.4637 - val_cls_loss: 0.4258 - val_box_loss: 7.5693e-04 - val_reg_l2_loss: 0.0808 - val_loss: 0.5445\n",
            "Epoch 11/125\n",
            "160/160 [==============================] - 83s 518ms/step - det_loss: 0.5716 - cls_loss: 0.4844 - box_loss: 0.0017 - reg_l2_loss: 0.0811 - loss: 0.6526 - learning_rate: 0.0196 - gradient_norm: 2.2494 - val_det_loss: 0.5733 - val_cls_loss: 0.4994 - val_box_loss: 0.0015 - val_reg_l2_loss: 0.0813 - val_loss: 0.6545\n",
            "Epoch 12/125\n",
            "160/160 [==============================] - 84s 522ms/step - det_loss: 0.5421 - cls_loss: 0.4629 - box_loss: 0.0016 - reg_l2_loss: 0.0814 - loss: 0.6235 - learning_rate: 0.0196 - gradient_norm: 2.1219 - val_det_loss: 0.4777 - val_cls_loss: 0.4136 - val_box_loss: 0.0013 - val_reg_l2_loss: 0.0816 - val_loss: 0.5593\n",
            "Epoch 13/125\n",
            "160/160 [==============================] - 83s 521ms/step - det_loss: 0.5298 - cls_loss: 0.4523 - box_loss: 0.0015 - reg_l2_loss: 0.0818 - loss: 0.6115 - learning_rate: 0.0195 - gradient_norm: 2.1473 - val_det_loss: 0.4250 - val_cls_loss: 0.3932 - val_box_loss: 6.3732e-04 - val_reg_l2_loss: 0.0819 - val_loss: 0.5070\n",
            "Epoch 14/125\n",
            "160/160 [==============================] - 83s 517ms/step - det_loss: 0.5164 - cls_loss: 0.4394 - box_loss: 0.0015 - reg_l2_loss: 0.0821 - loss: 0.5986 - learning_rate: 0.0194 - gradient_norm: 2.1848 - val_det_loss: 0.4852 - val_cls_loss: 0.4213 - val_box_loss: 0.0013 - val_reg_l2_loss: 0.0823 - val_loss: 0.5675\n",
            "Epoch 15/125\n",
            "160/160 [==============================] - 113s 705ms/step - det_loss: 0.4974 - cls_loss: 0.4212 - box_loss: 0.0015 - reg_l2_loss: 0.0825 - loss: 0.5799 - learning_rate: 0.0193 - gradient_norm: 2.1547 - val_det_loss: 0.4711 - val_cls_loss: 0.4062 - val_box_loss: 0.0013 - val_reg_l2_loss: 0.0827 - val_loss: 0.5538\n",
            "Epoch 16/125\n",
            "160/160 [==============================] - 84s 523ms/step - det_loss: 0.4754 - cls_loss: 0.4064 - box_loss: 0.0014 - reg_l2_loss: 0.0828 - loss: 0.5582 - learning_rate: 0.0192 - gradient_norm: 2.1575 - val_det_loss: 0.3793 - val_cls_loss: 0.3419 - val_box_loss: 7.4712e-04 - val_reg_l2_loss: 0.0830 - val_loss: 0.4623\n",
            "Epoch 17/125\n",
            "160/160 [==============================] - 84s 524ms/step - det_loss: 0.4715 - cls_loss: 0.4010 - box_loss: 0.0014 - reg_l2_loss: 0.0832 - loss: 0.5547 - learning_rate: 0.0191 - gradient_norm: 2.3026 - val_det_loss: 0.4890 - val_cls_loss: 0.4406 - val_box_loss: 9.6721e-04 - val_reg_l2_loss: 0.0834 - val_loss: 0.5724\n",
            "Epoch 18/125\n",
            "160/160 [==============================] - 83s 522ms/step - det_loss: 0.4578 - cls_loss: 0.3884 - box_loss: 0.0014 - reg_l2_loss: 0.0836 - loss: 0.5414 - learning_rate: 0.0190 - gradient_norm: 2.2217 - val_det_loss: 0.4367 - val_cls_loss: 0.3846 - val_box_loss: 0.0010 - val_reg_l2_loss: 0.0838 - val_loss: 0.5205\n",
            "Epoch 19/125\n",
            "160/160 [==============================] - 83s 518ms/step - det_loss: 0.4481 - cls_loss: 0.3802 - box_loss: 0.0014 - reg_l2_loss: 0.0839 - loss: 0.5321 - learning_rate: 0.0189 - gradient_norm: 2.2133 - val_det_loss: 0.3899 - val_cls_loss: 0.3477 - val_box_loss: 8.4299e-04 - val_reg_l2_loss: 0.0841 - val_loss: 0.4740\n",
            "Epoch 20/125\n",
            "160/160 [==============================] - 111s 694ms/step - det_loss: 0.4383 - cls_loss: 0.3699 - box_loss: 0.0014 - reg_l2_loss: 0.0843 - loss: 0.5226 - learning_rate: 0.0188 - gradient_norm: 2.2029 - val_det_loss: 0.4143 - val_cls_loss: 0.3598 - val_box_loss: 0.0011 - val_reg_l2_loss: 0.0845 - val_loss: 0.4988\n",
            "Epoch 21/125\n",
            "160/160 [==============================] - 85s 528ms/step - det_loss: 0.4337 - cls_loss: 0.3645 - box_loss: 0.0014 - reg_l2_loss: 0.0846 - loss: 0.5183 - learning_rate: 0.0187 - gradient_norm: 2.2803 - val_det_loss: 0.4015 - val_cls_loss: 0.3347 - val_box_loss: 0.0013 - val_reg_l2_loss: 0.0848 - val_loss: 0.4864\n",
            "Epoch 22/125\n",
            "160/160 [==============================] - 83s 521ms/step - det_loss: 0.4165 - cls_loss: 0.3535 - box_loss: 0.0013 - reg_l2_loss: 0.0850 - loss: 0.5015 - learning_rate: 0.0186 - gradient_norm: 2.1745 - val_det_loss: 0.3920 - val_cls_loss: 0.3420 - val_box_loss: 0.0010 - val_reg_l2_loss: 0.0852 - val_loss: 0.4772\n",
            "Epoch 23/125\n",
            "160/160 [==============================] - 83s 521ms/step - det_loss: 0.4083 - cls_loss: 0.3443 - box_loss: 0.0013 - reg_l2_loss: 0.0853 - loss: 0.4937 - learning_rate: 0.0184 - gradient_norm: 2.2496 - val_det_loss: 0.2931 - val_cls_loss: 0.2576 - val_box_loss: 7.1050e-04 - val_reg_l2_loss: 0.0855 - val_loss: 0.3786\n",
            "Epoch 24/125\n",
            "160/160 [==============================] - 83s 521ms/step - det_loss: 0.3967 - cls_loss: 0.3371 - box_loss: 0.0012 - reg_l2_loss: 0.0857 - loss: 0.4823 - learning_rate: 0.0183 - gradient_norm: 2.2302 - val_det_loss: 0.3265 - val_cls_loss: 0.2812 - val_box_loss: 9.0610e-04 - val_reg_l2_loss: 0.0858 - val_loss: 0.4123\n",
            "Epoch 25/125\n",
            "160/160 [==============================] - 112s 704ms/step - det_loss: 0.3997 - cls_loss: 0.3368 - box_loss: 0.0013 - reg_l2_loss: 0.0860 - loss: 0.4857 - learning_rate: 0.0181 - gradient_norm: 2.3265 - val_det_loss: 0.3468 - val_cls_loss: 0.2853 - val_box_loss: 0.0012 - val_reg_l2_loss: 0.0862 - val_loss: 0.4330\n",
            "Epoch 26/125\n",
            "160/160 [==============================] - 83s 521ms/step - det_loss: 0.3928 - cls_loss: 0.3277 - box_loss: 0.0013 - reg_l2_loss: 0.0863 - loss: 0.4791 - learning_rate: 0.0180 - gradient_norm: 2.2153 - val_det_loss: 0.3690 - val_cls_loss: 0.3352 - val_box_loss: 6.7564e-04 - val_reg_l2_loss: 0.0865 - val_loss: 0.4555\n",
            "Epoch 27/125\n",
            "160/160 [==============================] - 83s 521ms/step - det_loss: 0.3882 - cls_loss: 0.3236 - box_loss: 0.0013 - reg_l2_loss: 0.0867 - loss: 0.4749 - learning_rate: 0.0178 - gradient_norm: 2.3103 - val_det_loss: 0.3048 - val_cls_loss: 0.2537 - val_box_loss: 0.0010 - val_reg_l2_loss: 0.0868 - val_loss: 0.3916\n",
            "Epoch 28/125\n",
            "160/160 [==============================] - 83s 517ms/step - det_loss: 0.3756 - cls_loss: 0.3133 - box_loss: 0.0012 - reg_l2_loss: 0.0870 - loss: 0.4626 - learning_rate: 0.0177 - gradient_norm: 2.1782 - val_det_loss: 0.3014 - val_cls_loss: 0.2742 - val_box_loss: 5.4523e-04 - val_reg_l2_loss: 0.0871 - val_loss: 0.3886\n",
            "Epoch 29/125\n",
            "160/160 [==============================] - 83s 521ms/step - det_loss: 0.3635 - cls_loss: 0.3052 - box_loss: 0.0012 - reg_l2_loss: 0.0873 - loss: 0.4508 - learning_rate: 0.0175 - gradient_norm: 2.2400 - val_det_loss: 0.3038 - val_cls_loss: 0.2772 - val_box_loss: 5.3265e-04 - val_reg_l2_loss: 0.0874 - val_loss: 0.3912\n",
            "Epoch 30/125\n",
            "160/160 [==============================] - 113s 709ms/step - det_loss: 0.3521 - cls_loss: 0.2959 - box_loss: 0.0011 - reg_l2_loss: 0.0876 - loss: 0.4397 - learning_rate: 0.0173 - gradient_norm: 2.2592 - val_det_loss: 0.3887 - val_cls_loss: 0.3493 - val_box_loss: 7.8693e-04 - val_reg_l2_loss: 0.0877 - val_loss: 0.4764\n",
            "Epoch 31/125\n",
            "160/160 [==============================] - 84s 527ms/step - det_loss: 0.3617 - cls_loss: 0.3028 - box_loss: 0.0012 - reg_l2_loss: 0.0879 - loss: 0.4496 - learning_rate: 0.0172 - gradient_norm: 2.3562 - val_det_loss: 0.2455 - val_cls_loss: 0.2170 - val_box_loss: 5.6954e-04 - val_reg_l2_loss: 0.0881 - val_loss: 0.3336\n",
            "Epoch 32/125\n",
            "160/160 [==============================] - 83s 522ms/step - det_loss: 0.3589 - cls_loss: 0.2984 - box_loss: 0.0012 - reg_l2_loss: 0.0882 - loss: 0.4471 - learning_rate: 0.0170 - gradient_norm: 2.3270 - val_det_loss: 0.2989 - val_cls_loss: 0.2479 - val_box_loss: 0.0010 - val_reg_l2_loss: 0.0884 - val_loss: 0.3873\n",
            "Epoch 33/125\n",
            "160/160 [==============================] - 84s 523ms/step - det_loss: 0.3407 - cls_loss: 0.2835 - box_loss: 0.0011 - reg_l2_loss: 0.0885 - loss: 0.4292 - learning_rate: 0.0168 - gradient_norm: 2.2547 - val_det_loss: 0.3249 - val_cls_loss: 0.2950 - val_box_loss: 5.9865e-04 - val_reg_l2_loss: 0.0887 - val_loss: 0.4136\n",
            "Epoch 34/125\n",
            "160/160 [==============================] - 84s 525ms/step - det_loss: 0.3359 - cls_loss: 0.2801 - box_loss: 0.0011 - reg_l2_loss: 0.0888 - loss: 0.4247 - learning_rate: 0.0166 - gradient_norm: 2.1539 - val_det_loss: 0.2698 - val_cls_loss: 0.2366 - val_box_loss: 6.6427e-04 - val_reg_l2_loss: 0.0889 - val_loss: 0.3587\n",
            "Epoch 35/125\n",
            "160/160 [==============================] - 113s 707ms/step - det_loss: 0.3330 - cls_loss: 0.2775 - box_loss: 0.0011 - reg_l2_loss: 0.0890 - loss: 0.4220 - learning_rate: 0.0164 - gradient_norm: 2.2395 - val_det_loss: 0.2903 - val_cls_loss: 0.2488 - val_box_loss: 8.3054e-04 - val_reg_l2_loss: 0.0892 - val_loss: 0.3795\n",
            "Epoch 36/125\n",
            "160/160 [==============================] - 84s 523ms/step - det_loss: 0.3227 - cls_loss: 0.2686 - box_loss: 0.0011 - reg_l2_loss: 0.0893 - loss: 0.4120 - learning_rate: 0.0162 - gradient_norm: 2.3936 - val_det_loss: 0.2678 - val_cls_loss: 0.2280 - val_box_loss: 7.9628e-04 - val_reg_l2_loss: 0.0895 - val_loss: 0.3573\n",
            "Epoch 37/125\n",
            "160/160 [==============================] - 83s 520ms/step - det_loss: 0.3217 - cls_loss: 0.2683 - box_loss: 0.0011 - reg_l2_loss: 0.0897 - loss: 0.4114 - learning_rate: 0.0160 - gradient_norm: 2.2799 - val_det_loss: 0.3205 - val_cls_loss: 0.2866 - val_box_loss: 6.7751e-04 - val_reg_l2_loss: 0.0898 - val_loss: 0.4103\n",
            "Epoch 38/125\n",
            "160/160 [==============================] - 83s 520ms/step - det_loss: 0.3068 - cls_loss: 0.2563 - box_loss: 0.0010 - reg_l2_loss: 0.0899 - loss: 0.3967 - learning_rate: 0.0158 - gradient_norm: 2.2123 - val_det_loss: 0.4861 - val_cls_loss: 0.4461 - val_box_loss: 7.9896e-04 - val_reg_l2_loss: 0.0900 - val_loss: 0.5761\n",
            "Epoch 39/125\n",
            "160/160 [==============================] - 84s 524ms/step - det_loss: 0.3139 - cls_loss: 0.2625 - box_loss: 0.0010 - reg_l2_loss: 0.0901 - loss: 0.4040 - learning_rate: 0.0156 - gradient_norm: 2.3152 - val_det_loss: 0.2463 - val_cls_loss: 0.2136 - val_box_loss: 6.5450e-04 - val_reg_l2_loss: 0.0903 - val_loss: 0.3366\n",
            "Epoch 40/125\n",
            "160/160 [==============================] - 112s 700ms/step - det_loss: 0.3136 - cls_loss: 0.2598 - box_loss: 0.0011 - reg_l2_loss: 0.0904 - loss: 0.4039 - learning_rate: 0.0154 - gradient_norm: 2.3048 - val_det_loss: 0.2646 - val_cls_loss: 0.2272 - val_box_loss: 7.4777e-04 - val_reg_l2_loss: 0.0905 - val_loss: 0.3551\n",
            "Epoch 41/125\n",
            "160/160 [==============================] - 84s 524ms/step - det_loss: 0.3084 - cls_loss: 0.2560 - box_loss: 0.0010 - reg_l2_loss: 0.0906 - loss: 0.3991 - learning_rate: 0.0152 - gradient_norm: 2.3555 - val_det_loss: 0.3142 - val_cls_loss: 0.2654 - val_box_loss: 9.7575e-04 - val_reg_l2_loss: 0.0908 - val_loss: 0.4050\n",
            "Epoch 42/125\n",
            "160/160 [==============================] - 83s 519ms/step - det_loss: 0.2955 - cls_loss: 0.2472 - box_loss: 9.6693e-04 - reg_l2_loss: 0.0909 - loss: 0.3864 - learning_rate: 0.0150 - gradient_norm: 2.2656 - val_det_loss: 0.2407 - val_cls_loss: 0.2170 - val_box_loss: 4.7435e-04 - val_reg_l2_loss: 0.0910 - val_loss: 0.3316\n",
            "Epoch 43/125\n",
            "160/160 [==============================] - 83s 522ms/step - det_loss: 0.2939 - cls_loss: 0.2448 - box_loss: 9.8249e-04 - reg_l2_loss: 0.0911 - loss: 0.3850 - learning_rate: 0.0147 - gradient_norm: 2.2894 - val_det_loss: 0.2906 - val_cls_loss: 0.2452 - val_box_loss: 9.0854e-04 - val_reg_l2_loss: 0.0912 - val_loss: 0.3818\n",
            "Epoch 44/125\n",
            "160/160 [==============================] - 83s 520ms/step - det_loss: 0.3009 - cls_loss: 0.2515 - box_loss: 9.8687e-04 - reg_l2_loss: 0.0913 - loss: 0.3922 - learning_rate: 0.0145 - gradient_norm: 2.3630 - val_det_loss: 0.2234 - val_cls_loss: 0.1844 - val_box_loss: 7.7986e-04 - val_reg_l2_loss: 0.0914 - val_loss: 0.3148\n",
            "Epoch 45/125\n",
            "160/160 [==============================] - 111s 696ms/step - det_loss: 0.2863 - cls_loss: 0.2375 - box_loss: 9.7583e-04 - reg_l2_loss: 0.0915 - loss: 0.3778 - learning_rate: 0.0143 - gradient_norm: 2.1597 - val_det_loss: 0.3542 - val_cls_loss: 0.3141 - val_box_loss: 8.0032e-04 - val_reg_l2_loss: 0.0916 - val_loss: 0.4458\n",
            "Epoch 46/125\n",
            "160/160 [==============================] - 84s 523ms/step - det_loss: 0.2758 - cls_loss: 0.2287 - box_loss: 9.4245e-04 - reg_l2_loss: 0.0917 - loss: 0.3675 - learning_rate: 0.0141 - gradient_norm: 2.2480 - val_det_loss: 0.2280 - val_cls_loss: 0.1918 - val_box_loss: 7.2577e-04 - val_reg_l2_loss: 0.0918 - val_loss: 0.3198\n",
            "Epoch 47/125\n",
            "160/160 [==============================] - 84s 526ms/step - det_loss: 0.2774 - cls_loss: 0.2293 - box_loss: 9.6242e-04 - reg_l2_loss: 0.0919 - loss: 0.3693 - learning_rate: 0.0138 - gradient_norm: 2.2504 - val_det_loss: 0.3414 - val_cls_loss: 0.2949 - val_box_loss: 9.3001e-04 - val_reg_l2_loss: 0.0919 - val_loss: 0.4333\n",
            "Epoch 48/125\n",
            "160/160 [==============================] - 83s 518ms/step - det_loss: 0.2735 - cls_loss: 0.2262 - box_loss: 9.4631e-04 - reg_l2_loss: 0.0920 - loss: 0.3655 - learning_rate: 0.0136 - gradient_norm: 2.2323 - val_det_loss: 0.2524 - val_cls_loss: 0.2237 - val_box_loss: 5.7415e-04 - val_reg_l2_loss: 0.0921 - val_loss: 0.3445\n",
            "Epoch 49/125\n",
            "160/160 [==============================] - 83s 521ms/step - det_loss: 0.2615 - cls_loss: 0.2189 - box_loss: 8.5195e-04 - reg_l2_loss: 0.0922 - loss: 0.3537 - learning_rate: 0.0134 - gradient_norm: 2.1912 - val_det_loss: 0.2130 - val_cls_loss: 0.1685 - val_box_loss: 8.9032e-04 - val_reg_l2_loss: 0.0922 - val_loss: 0.3053\n",
            "Epoch 50/125\n",
            "160/160 [==============================] - 111s 698ms/step - det_loss: 0.2612 - cls_loss: 0.2170 - box_loss: 8.8412e-04 - reg_l2_loss: 0.0923 - loss: 0.3535 - learning_rate: 0.0131 - gradient_norm: 2.2359 - val_det_loss: 0.2422 - val_cls_loss: 0.2163 - val_box_loss: 5.1889e-04 - val_reg_l2_loss: 0.0924 - val_loss: 0.3346\n",
            "Epoch 51/125\n",
            "160/160 [==============================] - 84s 522ms/step - det_loss: 0.2532 - cls_loss: 0.2087 - box_loss: 8.9056e-04 - reg_l2_loss: 0.0924 - loss: 0.3457 - learning_rate: 0.0129 - gradient_norm: 2.1531 - val_det_loss: 0.2565 - val_cls_loss: 0.2300 - val_box_loss: 5.3024e-04 - val_reg_l2_loss: 0.0925 - val_loss: 0.3490\n",
            "Epoch 52/125\n",
            "160/160 [==============================] - 82s 516ms/step - det_loss: 0.2527 - cls_loss: 0.2107 - box_loss: 8.3983e-04 - reg_l2_loss: 0.0926 - loss: 0.3453 - learning_rate: 0.0126 - gradient_norm: 2.2594 - val_det_loss: 0.2054 - val_cls_loss: 0.1861 - val_box_loss: 3.8596e-04 - val_reg_l2_loss: 0.0926 - val_loss: 0.2981\n",
            "Epoch 53/125\n",
            "160/160 [==============================] - 83s 519ms/step - det_loss: 0.2478 - cls_loss: 0.2052 - box_loss: 8.5188e-04 - reg_l2_loss: 0.0927 - loss: 0.3405 - learning_rate: 0.0124 - gradient_norm: 2.2853 - val_det_loss: 0.2475 - val_cls_loss: 0.2243 - val_box_loss: 4.6388e-04 - val_reg_l2_loss: 0.0928 - val_loss: 0.3402\n",
            "Epoch 54/125\n",
            "160/160 [==============================] - 84s 524ms/step - det_loss: 0.2472 - cls_loss: 0.2061 - box_loss: 8.2268e-04 - reg_l2_loss: 0.0928 - loss: 0.3401 - learning_rate: 0.0121 - gradient_norm: 2.2999 - val_det_loss: 0.2525 - val_cls_loss: 0.2227 - val_box_loss: 5.9571e-04 - val_reg_l2_loss: 0.0929 - val_loss: 0.3454\n",
            "Epoch 55/125\n",
            "160/160 [==============================] - 112s 705ms/step - det_loss: 0.2526 - cls_loss: 0.2077 - box_loss: 8.9811e-04 - reg_l2_loss: 0.0930 - loss: 0.3456 - learning_rate: 0.0119 - gradient_norm: 2.1826 - val_det_loss: 0.2414 - val_cls_loss: 0.2137 - val_box_loss: 5.5366e-04 - val_reg_l2_loss: 0.0930 - val_loss: 0.3344\n",
            "Epoch 56/125\n",
            "160/160 [==============================] - 84s 522ms/step - det_loss: 0.2418 - cls_loss: 0.1991 - box_loss: 8.5439e-04 - reg_l2_loss: 0.0931 - loss: 0.3349 - learning_rate: 0.0116 - gradient_norm: 2.1229 - val_det_loss: 0.2345 - val_cls_loss: 0.2045 - val_box_loss: 6.0033e-04 - val_reg_l2_loss: 0.0931 - val_loss: 0.3276\n",
            "Epoch 57/125\n",
            "160/160 [==============================] - 83s 521ms/step - det_loss: 0.2300 - cls_loss: 0.1898 - box_loss: 8.0465e-04 - reg_l2_loss: 0.0931 - loss: 0.3231 - learning_rate: 0.0114 - gradient_norm: 2.1174 - val_det_loss: 0.2288 - val_cls_loss: 0.2085 - val_box_loss: 4.0497e-04 - val_reg_l2_loss: 0.0932 - val_loss: 0.3220\n",
            "Epoch 58/125\n",
            "160/160 [==============================] - 83s 520ms/step - det_loss: 0.2409 - cls_loss: 0.2001 - box_loss: 8.1584e-04 - reg_l2_loss: 0.0932 - loss: 0.3341 - learning_rate: 0.0111 - gradient_norm: 2.2565 - val_det_loss: 0.2588 - val_cls_loss: 0.2355 - val_box_loss: 4.6742e-04 - val_reg_l2_loss: 0.0933 - val_loss: 0.3521\n",
            "Epoch 59/125\n",
            "160/160 [==============================] - 83s 517ms/step - det_loss: 0.2274 - cls_loss: 0.1883 - box_loss: 7.8300e-04 - reg_l2_loss: 0.0933 - loss: 0.3207 - learning_rate: 0.0109 - gradient_norm: 2.1065 - val_det_loss: 0.2185 - val_cls_loss: 0.1950 - val_box_loss: 4.6970e-04 - val_reg_l2_loss: 0.0933 - val_loss: 0.3119\n",
            "Epoch 60/125\n",
            "160/160 [==============================] - 113s 709ms/step - det_loss: 0.2220 - cls_loss: 0.1837 - box_loss: 7.6497e-04 - reg_l2_loss: 0.0934 - loss: 0.3153 - learning_rate: 0.0106 - gradient_norm: 2.2013 - val_det_loss: 0.1871 - val_cls_loss: 0.1435 - val_box_loss: 8.7097e-04 - val_reg_l2_loss: 0.0934 - val_loss: 0.2805\n",
            "Epoch 61/125\n",
            "160/160 [==============================] - 83s 521ms/step - det_loss: 0.2183 - cls_loss: 0.1795 - box_loss: 7.7463e-04 - reg_l2_loss: 0.0934 - loss: 0.3117 - learning_rate: 0.0104 - gradient_norm: 2.0464 - val_det_loss: 0.1755 - val_cls_loss: 0.1355 - val_box_loss: 7.9970e-04 - val_reg_l2_loss: 0.0935 - val_loss: 0.2690\n",
            "Epoch 62/125\n",
            "160/160 [==============================] - 83s 518ms/step - det_loss: 0.2129 - cls_loss: 0.1756 - box_loss: 7.4526e-04 - reg_l2_loss: 0.0935 - loss: 0.3063 - learning_rate: 0.0101 - gradient_norm: 2.0036 - val_det_loss: 0.1952 - val_cls_loss: 0.1741 - val_box_loss: 4.2192e-04 - val_reg_l2_loss: 0.0935 - val_loss: 0.2887\n",
            "Epoch 63/125\n",
            "160/160 [==============================] - 83s 522ms/step - det_loss: 0.2131 - cls_loss: 0.1761 - box_loss: 7.3978e-04 - reg_l2_loss: 0.0935 - loss: 0.3066 - learning_rate: 0.0099 - gradient_norm: 2.0555 - val_det_loss: 0.2164 - val_cls_loss: 0.1963 - val_box_loss: 4.0142e-04 - val_reg_l2_loss: 0.0935 - val_loss: 0.3099\n",
            "Epoch 64/125\n",
            "160/160 [==============================] - 83s 518ms/step - det_loss: 0.2180 - cls_loss: 0.1794 - box_loss: 7.7134e-04 - reg_l2_loss: 0.0935 - loss: 0.3115 - learning_rate: 0.0096 - gradient_norm: 2.1204 - val_det_loss: 0.1931 - val_cls_loss: 0.1716 - val_box_loss: 4.2979e-04 - val_reg_l2_loss: 0.0936 - val_loss: 0.2867\n",
            "Epoch 65/125\n",
            "160/160 [==============================] - 112s 701ms/step - det_loss: 0.2131 - cls_loss: 0.1755 - box_loss: 7.5310e-04 - reg_l2_loss: 0.0936 - loss: 0.3067 - learning_rate: 0.0094 - gradient_norm: 2.1251 - val_det_loss: 0.1889 - val_cls_loss: 0.1456 - val_box_loss: 8.6579e-04 - val_reg_l2_loss: 0.0936 - val_loss: 0.2825\n",
            "Epoch 66/125\n",
            "160/160 [==============================] - 83s 522ms/step - det_loss: 0.2025 - cls_loss: 0.1671 - box_loss: 7.0733e-04 - reg_l2_loss: 0.0936 - loss: 0.2961 - learning_rate: 0.0091 - gradient_norm: 1.9895 - val_det_loss: 0.1715 - val_cls_loss: 0.1439 - val_box_loss: 5.5219e-04 - val_reg_l2_loss: 0.0936 - val_loss: 0.2652\n",
            "Epoch 67/125\n",
            "160/160 [==============================] - 83s 518ms/step - det_loss: 0.2062 - cls_loss: 0.1698 - box_loss: 7.2783e-04 - reg_l2_loss: 0.0936 - loss: 0.2998 - learning_rate: 0.0089 - gradient_norm: 2.1456 - val_det_loss: 0.1723 - val_cls_loss: 0.1488 - val_box_loss: 4.7005e-04 - val_reg_l2_loss: 0.0937 - val_loss: 0.2660\n",
            "Epoch 68/125\n",
            "160/160 [==============================] - 83s 520ms/step - det_loss: 0.2062 - cls_loss: 0.1700 - box_loss: 7.2352e-04 - reg_l2_loss: 0.0937 - loss: 0.2998 - learning_rate: 0.0086 - gradient_norm: 2.1302 - val_det_loss: 0.1655 - val_cls_loss: 0.1470 - val_box_loss: 3.6980e-04 - val_reg_l2_loss: 0.0937 - val_loss: 0.2592\n",
            "Epoch 69/125\n",
            "160/160 [==============================] - 83s 518ms/step - det_loss: 0.2012 - cls_loss: 0.1656 - box_loss: 7.1261e-04 - reg_l2_loss: 0.0937 - loss: 0.2949 - learning_rate: 0.0084 - gradient_norm: 2.0009 - val_det_loss: 0.1861 - val_cls_loss: 0.1623 - val_box_loss: 4.7473e-04 - val_reg_l2_loss: 0.0937 - val_loss: 0.2798\n",
            "Epoch 70/125\n",
            "160/160 [==============================] - 112s 700ms/step - det_loss: 0.1941 - cls_loss: 0.1608 - box_loss: 6.6564e-04 - reg_l2_loss: 0.0937 - loss: 0.2878 - learning_rate: 0.0081 - gradient_norm: 1.9820 - val_det_loss: 0.1344 - val_cls_loss: 0.1118 - val_box_loss: 4.5357e-04 - val_reg_l2_loss: 0.0937 - val_loss: 0.2281\n",
            "Epoch 71/125\n",
            "160/160 [==============================] - 84s 522ms/step - det_loss: 0.1897 - cls_loss: 0.1566 - box_loss: 6.6150e-04 - reg_l2_loss: 0.0937 - loss: 0.2834 - learning_rate: 0.0079 - gradient_norm: 1.9852 - val_det_loss: 0.1527 - val_cls_loss: 0.1370 - val_box_loss: 3.1443e-04 - val_reg_l2_loss: 0.0937 - val_loss: 0.2465\n",
            "Epoch 72/125\n",
            "160/160 [==============================] - 84s 523ms/step - det_loss: 0.1902 - cls_loss: 0.1561 - box_loss: 6.8098e-04 - reg_l2_loss: 0.0937 - loss: 0.2839 - learning_rate: 0.0076 - gradient_norm: 1.9341 - val_det_loss: 0.1575 - val_cls_loss: 0.1411 - val_box_loss: 3.2885e-04 - val_reg_l2_loss: 0.0937 - val_loss: 0.2513\n",
            "Epoch 73/125\n",
            "160/160 [==============================] - 83s 517ms/step - det_loss: 0.1827 - cls_loss: 0.1512 - box_loss: 6.3072e-04 - reg_l2_loss: 0.0937 - loss: 0.2764 - learning_rate: 0.0074 - gradient_norm: 1.8263 - val_det_loss: 0.1599 - val_cls_loss: 0.1263 - val_box_loss: 6.7110e-04 - val_reg_l2_loss: 0.0937 - val_loss: 0.2536\n",
            "Epoch 74/125\n",
            "160/160 [==============================] - 83s 519ms/step - det_loss: 0.1881 - cls_loss: 0.1543 - box_loss: 6.7445e-04 - reg_l2_loss: 0.0937 - loss: 0.2818 - learning_rate: 0.0071 - gradient_norm: 2.0430 - val_det_loss: 0.1060 - val_cls_loss: 0.0895 - val_box_loss: 3.2944e-04 - val_reg_l2_loss: 0.0937 - val_loss: 0.1997\n",
            "Epoch 75/125\n",
            "160/160 [==============================] - 112s 699ms/step - det_loss: 0.1877 - cls_loss: 0.1539 - box_loss: 6.7481e-04 - reg_l2_loss: 0.0937 - loss: 0.2814 - learning_rate: 0.0069 - gradient_norm: 1.9724 - val_det_loss: 0.2344 - val_cls_loss: 0.2083 - val_box_loss: 5.2251e-04 - val_reg_l2_loss: 0.0937 - val_loss: 0.3281\n",
            "Epoch 76/125\n",
            "160/160 [==============================] - 83s 521ms/step - det_loss: 0.1781 - cls_loss: 0.1468 - box_loss: 6.2626e-04 - reg_l2_loss: 0.0937 - loss: 0.2718 - learning_rate: 0.0066 - gradient_norm: 1.8640 - val_det_loss: 0.1664 - val_cls_loss: 0.1460 - val_box_loss: 4.0878e-04 - val_reg_l2_loss: 0.0937 - val_loss: 0.2601\n",
            "Epoch 77/125\n",
            "160/160 [==============================] - 84s 523ms/step - det_loss: 0.1793 - cls_loss: 0.1481 - box_loss: 6.2397e-04 - reg_l2_loss: 0.0937 - loss: 0.2729 - learning_rate: 0.0064 - gradient_norm: 1.9220 - val_det_loss: 0.1787 - val_cls_loss: 0.1532 - val_box_loss: 5.1009e-04 - val_reg_l2_loss: 0.0937 - val_loss: 0.2724\n",
            "Epoch 78/125\n",
            "160/160 [==============================] - 83s 520ms/step - det_loss: 0.1728 - cls_loss: 0.1430 - box_loss: 5.9644e-04 - reg_l2_loss: 0.0937 - loss: 0.2665 - learning_rate: 0.0062 - gradient_norm: 1.8685 - val_det_loss: 0.1402 - val_cls_loss: 0.1168 - val_box_loss: 4.6789e-04 - val_reg_l2_loss: 0.0937 - val_loss: 0.2339\n",
            "Epoch 79/125\n",
            "160/160 [==============================] - 84s 523ms/step - det_loss: 0.1716 - cls_loss: 0.1420 - box_loss: 5.9223e-04 - reg_l2_loss: 0.0937 - loss: 0.2653 - learning_rate: 0.0059 - gradient_norm: 1.9600 - val_det_loss: 0.1228 - val_cls_loss: 0.1111 - val_box_loss: 2.3420e-04 - val_reg_l2_loss: 0.0937 - val_loss: 0.2165\n",
            "Epoch 80/125\n",
            "160/160 [==============================] - 112s 703ms/step - det_loss: 0.1746 - cls_loss: 0.1431 - box_loss: 6.3010e-04 - reg_l2_loss: 0.0936 - loss: 0.2682 - learning_rate: 0.0057 - gradient_norm: 1.8526 - val_det_loss: 0.1264 - val_cls_loss: 0.1071 - val_box_loss: 3.8611e-04 - val_reg_l2_loss: 0.0936 - val_loss: 0.2201\n",
            "Epoch 81/125\n",
            "160/160 [==============================] - 83s 521ms/step - det_loss: 0.1692 - cls_loss: 0.1383 - box_loss: 6.1819e-04 - reg_l2_loss: 0.0936 - loss: 0.2628 - learning_rate: 0.0055 - gradient_norm: 1.8144 - val_det_loss: 0.1306 - val_cls_loss: 0.1142 - val_box_loss: 3.2684e-04 - val_reg_l2_loss: 0.0936 - val_loss: 0.2242\n",
            "Epoch 82/125\n",
            "160/160 [==============================] - 85s 529ms/step - det_loss: 0.1614 - cls_loss: 0.1329 - box_loss: 5.7098e-04 - reg_l2_loss: 0.0936 - loss: 0.2550 - learning_rate: 0.0053 - gradient_norm: 1.6560 - val_det_loss: 0.1508 - val_cls_loss: 0.1396 - val_box_loss: 2.2434e-04 - val_reg_l2_loss: 0.0936 - val_loss: 0.2444\n",
            "Epoch 83/125\n",
            "160/160 [==============================] - 83s 519ms/step - det_loss: 0.1654 - cls_loss: 0.1365 - box_loss: 5.7775e-04 - reg_l2_loss: 0.0936 - loss: 0.2590 - learning_rate: 0.0050 - gradient_norm: 1.7256 - val_det_loss: 0.1438 - val_cls_loss: 0.1290 - val_box_loss: 2.9583e-04 - val_reg_l2_loss: 0.0936 - val_loss: 0.2374\n",
            "Epoch 84/125\n",
            "160/160 [==============================] - 83s 518ms/step - det_loss: 0.1606 - cls_loss: 0.1319 - box_loss: 5.7295e-04 - reg_l2_loss: 0.0935 - loss: 0.2541 - learning_rate: 0.0048 - gradient_norm: 1.7057 - val_det_loss: 0.1647 - val_cls_loss: 0.1428 - val_box_loss: 4.3798e-04 - val_reg_l2_loss: 0.0935 - val_loss: 0.2582\n",
            "Epoch 85/125\n",
            "160/160 [==============================] - 112s 702ms/step - det_loss: 0.1618 - cls_loss: 0.1337 - box_loss: 5.6242e-04 - reg_l2_loss: 0.0935 - loss: 0.2553 - learning_rate: 0.0046 - gradient_norm: 1.7741 - val_det_loss: 0.1517 - val_cls_loss: 0.1373 - val_box_loss: 2.8824e-04 - val_reg_l2_loss: 0.0935 - val_loss: 0.2452\n",
            "Epoch 86/125\n",
            "160/160 [==============================] - 83s 522ms/step - det_loss: 0.1602 - cls_loss: 0.1325 - box_loss: 5.5270e-04 - reg_l2_loss: 0.0935 - loss: 0.2537 - learning_rate: 0.0044 - gradient_norm: 1.8752 - val_det_loss: 0.1119 - val_cls_loss: 0.1017 - val_box_loss: 2.0384e-04 - val_reg_l2_loss: 0.0935 - val_loss: 0.2054\n",
            "Epoch 87/125\n",
            "160/160 [==============================] - 83s 520ms/step - det_loss: 0.1602 - cls_loss: 0.1315 - box_loss: 5.7390e-04 - reg_l2_loss: 0.0935 - loss: 0.2537 - learning_rate: 0.0042 - gradient_norm: 1.7525 - val_det_loss: 0.1517 - val_cls_loss: 0.1407 - val_box_loss: 2.1969e-04 - val_reg_l2_loss: 0.0935 - val_loss: 0.2452\n",
            "Epoch 88/125\n",
            "160/160 [==============================] - 83s 518ms/step - det_loss: 0.1607 - cls_loss: 0.1317 - box_loss: 5.7958e-04 - reg_l2_loss: 0.0935 - loss: 0.2542 - learning_rate: 0.0040 - gradient_norm: 1.7777 - val_det_loss: 0.1187 - val_cls_loss: 0.1077 - val_box_loss: 2.1968e-04 - val_reg_l2_loss: 0.0934 - val_loss: 0.2121\n",
            "Epoch 89/125\n",
            "160/160 [==============================] - 83s 518ms/step - det_loss: 0.1565 - cls_loss: 0.1290 - box_loss: 5.4986e-04 - reg_l2_loss: 0.0934 - loss: 0.2499 - learning_rate: 0.0038 - gradient_norm: 1.7358 - val_det_loss: 0.1695 - val_cls_loss: 0.1556 - val_box_loss: 2.7682e-04 - val_reg_l2_loss: 0.0934 - val_loss: 0.2629\n",
            "Epoch 90/125\n",
            "160/160 [==============================] - 113s 709ms/step - det_loss: 0.1490 - cls_loss: 0.1231 - box_loss: 5.1765e-04 - reg_l2_loss: 0.0934 - loss: 0.2424 - learning_rate: 0.0036 - gradient_norm: 1.7193 - val_det_loss: 0.1304 - val_cls_loss: 0.1180 - val_box_loss: 2.4954e-04 - val_reg_l2_loss: 0.0934 - val_loss: 0.2238\n",
            "Epoch 91/125\n",
            "160/160 [==============================] - 84s 527ms/step - det_loss: 0.1503 - cls_loss: 0.1247 - box_loss: 5.1222e-04 - reg_l2_loss: 0.0934 - loss: 0.2437 - learning_rate: 0.0034 - gradient_norm: 1.6679 - val_det_loss: 0.1399 - val_cls_loss: 0.1278 - val_box_loss: 2.4166e-04 - val_reg_l2_loss: 0.0934 - val_loss: 0.2333\n",
            "Epoch 92/125\n",
            "160/160 [==============================] - 83s 521ms/step - det_loss: 0.1528 - cls_loss: 0.1265 - box_loss: 5.2564e-04 - reg_l2_loss: 0.0934 - loss: 0.2462 - learning_rate: 0.0032 - gradient_norm: 1.7610 - val_det_loss: 0.1438 - val_cls_loss: 0.1309 - val_box_loss: 2.5917e-04 - val_reg_l2_loss: 0.0934 - val_loss: 0.2372\n",
            "Epoch 93/125\n",
            "160/160 [==============================] - 83s 519ms/step - det_loss: 0.1484 - cls_loss: 0.1229 - box_loss: 5.0983e-04 - reg_l2_loss: 0.0934 - loss: 0.2418 - learning_rate: 0.0030 - gradient_norm: 1.6378 - val_det_loss: 0.1488 - val_cls_loss: 0.1368 - val_box_loss: 2.3937e-04 - val_reg_l2_loss: 0.0933 - val_loss: 0.2421\n",
            "Epoch 94/125\n",
            "160/160 [==============================] - 83s 518ms/step - det_loss: 0.1456 - cls_loss: 0.1203 - box_loss: 5.0635e-04 - reg_l2_loss: 0.0933 - loss: 0.2390 - learning_rate: 0.0028 - gradient_norm: 1.6126 - val_det_loss: 0.1277 - val_cls_loss: 0.1140 - val_box_loss: 2.7428e-04 - val_reg_l2_loss: 0.0933 - val_loss: 0.2210\n",
            "Epoch 95/125\n",
            "160/160 [==============================] - 113s 709ms/step - det_loss: 0.1438 - cls_loss: 0.1186 - box_loss: 5.0382e-04 - reg_l2_loss: 0.0933 - loss: 0.2371 - learning_rate: 0.0027 - gradient_norm: 1.5450 - val_det_loss: 0.1320 - val_cls_loss: 0.1208 - val_box_loss: 2.2363e-04 - val_reg_l2_loss: 0.0933 - val_loss: 0.2253\n",
            "Epoch 96/125\n",
            "160/160 [==============================] - 82s 515ms/step - det_loss: 0.1399 - cls_loss: 0.1157 - box_loss: 4.8312e-04 - reg_l2_loss: 0.0933 - loss: 0.2332 - learning_rate: 0.0025 - gradient_norm: 1.4349 - val_det_loss: 0.1300 - val_cls_loss: 0.1191 - val_box_loss: 2.1817e-04 - val_reg_l2_loss: 0.0933 - val_loss: 0.2232\n",
            "Epoch 97/125\n",
            "160/160 [==============================] - 84s 524ms/step - det_loss: 0.1430 - cls_loss: 0.1183 - box_loss: 4.9455e-04 - reg_l2_loss: 0.0933 - loss: 0.2363 - learning_rate: 0.0023 - gradient_norm: 1.5725 - val_det_loss: 0.1359 - val_cls_loss: 0.1235 - val_box_loss: 2.4683e-04 - val_reg_l2_loss: 0.0933 - val_loss: 0.2291\n",
            "Epoch 98/125\n",
            "160/160 [==============================] - 84s 522ms/step - det_loss: 0.1397 - cls_loss: 0.1160 - box_loss: 4.7416e-04 - reg_l2_loss: 0.0932 - loss: 0.2329 - learning_rate: 0.0022 - gradient_norm: 1.4396 - val_det_loss: 0.1424 - val_cls_loss: 0.1298 - val_box_loss: 2.5234e-04 - val_reg_l2_loss: 0.0932 - val_loss: 0.2356\n",
            "Epoch 99/125\n",
            "160/160 [==============================] - 83s 522ms/step - det_loss: 0.1403 - cls_loss: 0.1159 - box_loss: 4.8804e-04 - reg_l2_loss: 0.0932 - loss: 0.2335 - learning_rate: 0.0020 - gradient_norm: 1.5845 - val_det_loss: 0.1297 - val_cls_loss: 0.1174 - val_box_loss: 2.4655e-04 - val_reg_l2_loss: 0.0932 - val_loss: 0.2230\n",
            "Epoch 100/125\n",
            "160/160 [==============================] - 112s 702ms/step - det_loss: 0.1451 - cls_loss: 0.1184 - box_loss: 5.3318e-04 - reg_l2_loss: 0.0932 - loss: 0.2383 - learning_rate: 0.0019 - gradient_norm: 1.5729 - val_det_loss: 0.1261 - val_cls_loss: 0.1160 - val_box_loss: 2.0175e-04 - val_reg_l2_loss: 0.0932 - val_loss: 0.2193\n",
            "Epoch 101/125\n",
            "160/160 [==============================] - 84s 523ms/step - det_loss: 0.1412 - cls_loss: 0.1155 - box_loss: 5.1359e-04 - reg_l2_loss: 0.0932 - loss: 0.2344 - learning_rate: 0.0017 - gradient_norm: 1.5390 - val_det_loss: 0.1326 - val_cls_loss: 0.1212 - val_box_loss: 2.2685e-04 - val_reg_l2_loss: 0.0932 - val_loss: 0.2258\n",
            "Epoch 102/125\n",
            "160/160 [==============================] - 83s 522ms/step - det_loss: 0.1418 - cls_loss: 0.1165 - box_loss: 5.0670e-04 - reg_l2_loss: 0.0932 - loss: 0.2350 - learning_rate: 0.0016 - gradient_norm: 1.5383 - val_det_loss: 0.1463 - val_cls_loss: 0.1324 - val_box_loss: 2.7765e-04 - val_reg_l2_loss: 0.0932 - val_loss: 0.2395\n",
            "Epoch 103/125\n",
            "160/160 [==============================] - 84s 525ms/step - det_loss: 0.1386 - cls_loss: 0.1153 - box_loss: 4.6698e-04 - reg_l2_loss: 0.0932 - loss: 0.2318 - learning_rate: 0.0014 - gradient_norm: 1.5561 - val_det_loss: 0.1342 - val_cls_loss: 0.1232 - val_box_loss: 2.1944e-04 - val_reg_l2_loss: 0.0932 - val_loss: 0.2274\n",
            "Epoch 104/125\n",
            "160/160 [==============================] - 84s 523ms/step - det_loss: 0.1367 - cls_loss: 0.1130 - box_loss: 4.7590e-04 - reg_l2_loss: 0.0932 - loss: 0.2299 - learning_rate: 0.0013 - gradient_norm: 1.4411 - val_det_loss: 0.1306 - val_cls_loss: 0.1192 - val_box_loss: 2.2913e-04 - val_reg_l2_loss: 0.0932 - val_loss: 0.2238\n",
            "Epoch 105/125\n",
            "160/160 [==============================] - 113s 705ms/step - det_loss: 0.1375 - cls_loss: 0.1141 - box_loss: 4.6622e-04 - reg_l2_loss: 0.0932 - loss: 0.2306 - learning_rate: 0.0012 - gradient_norm: 1.5251 - val_det_loss: 0.1195 - val_cls_loss: 0.1083 - val_box_loss: 2.2283e-04 - val_reg_l2_loss: 0.0931 - val_loss: 0.2126\n",
            "Epoch 106/125\n",
            "160/160 [==============================] - 83s 520ms/step - det_loss: 0.1352 - cls_loss: 0.1117 - box_loss: 4.6982e-04 - reg_l2_loss: 0.0931 - loss: 0.2284 - learning_rate: 0.0011 - gradient_norm: 1.3987 - val_det_loss: 0.1077 - val_cls_loss: 0.0970 - val_box_loss: 2.1483e-04 - val_reg_l2_loss: 0.0931 - val_loss: 0.2009\n",
            "Epoch 107/125\n",
            "160/160 [==============================] - 83s 519ms/step - det_loss: 0.1375 - cls_loss: 0.1133 - box_loss: 4.8449e-04 - reg_l2_loss: 0.0931 - loss: 0.2306 - learning_rate: 9.6714e-04 - gradient_norm: 1.4709 - val_det_loss: 0.1047 - val_cls_loss: 0.0936 - val_box_loss: 2.2179e-04 - val_reg_l2_loss: 0.0931 - val_loss: 0.1978\n",
            "Epoch 108/125\n",
            "160/160 [==============================] - 83s 520ms/step - det_loss: 0.1316 - cls_loss: 0.1088 - box_loss: 4.5596e-04 - reg_l2_loss: 0.0931 - loss: 0.2247 - learning_rate: 8.6136e-04 - gradient_norm: 1.3956 - val_det_loss: 0.1057 - val_cls_loss: 0.0949 - val_box_loss: 2.1551e-04 - val_reg_l2_loss: 0.0931 - val_loss: 0.1988\n",
            "Epoch 109/125\n",
            "160/160 [==============================] - 83s 521ms/step - det_loss: 0.1322 - cls_loss: 0.1093 - box_loss: 4.5898e-04 - reg_l2_loss: 0.0931 - loss: 0.2253 - learning_rate: 7.6146e-04 - gradient_norm: 1.3904 - val_det_loss: 0.0996 - val_cls_loss: 0.0886 - val_box_loss: 2.1957e-04 - val_reg_l2_loss: 0.0931 - val_loss: 0.1927\n",
            "Epoch 110/125\n",
            "160/160 [==============================] - 112s 703ms/step - det_loss: 0.1372 - cls_loss: 0.1142 - box_loss: 4.6112e-04 - reg_l2_loss: 0.0931 - loss: 0.2304 - learning_rate: 6.6748e-04 - gradient_norm: 1.5741 - val_det_loss: 0.1024 - val_cls_loss: 0.0921 - val_box_loss: 2.0613e-04 - val_reg_l2_loss: 0.0931 - val_loss: 0.1955\n",
            "Epoch 111/125\n",
            "160/160 [==============================] - 84s 522ms/step - det_loss: 0.1326 - cls_loss: 0.1098 - box_loss: 4.5662e-04 - reg_l2_loss: 0.0931 - loss: 0.2257 - learning_rate: 5.7949e-04 - gradient_norm: 1.4089 - val_det_loss: 0.1057 - val_cls_loss: 0.0944 - val_box_loss: 2.2565e-04 - val_reg_l2_loss: 0.0931 - val_loss: 0.1988\n",
            "Epoch 112/125\n",
            "160/160 [==============================] - 83s 522ms/step - det_loss: 0.1394 - cls_loss: 0.1151 - box_loss: 4.8684e-04 - reg_l2_loss: 0.0931 - loss: 0.2325 - learning_rate: 4.9755e-04 - gradient_norm: 1.5958 - val_det_loss: 0.0988 - val_cls_loss: 0.0879 - val_box_loss: 2.1778e-04 - val_reg_l2_loss: 0.0931 - val_loss: 0.1919\n",
            "Epoch 113/125\n",
            "160/160 [==============================] - 84s 522ms/step - det_loss: 0.1322 - cls_loss: 0.1096 - box_loss: 4.5256e-04 - reg_l2_loss: 0.0931 - loss: 0.2253 - learning_rate: 4.2171e-04 - gradient_norm: 1.3929 - val_det_loss: 0.1010 - val_cls_loss: 0.0900 - val_box_loss: 2.1976e-04 - val_reg_l2_loss: 0.0931 - val_loss: 0.1941\n",
            "Epoch 114/125\n",
            "160/160 [==============================] - 83s 520ms/step - det_loss: 0.1333 - cls_loss: 0.1102 - box_loss: 4.6212e-04 - reg_l2_loss: 0.0931 - loss: 0.2264 - learning_rate: 3.5202e-04 - gradient_norm: 1.4722 - val_det_loss: 0.1007 - val_cls_loss: 0.0896 - val_box_loss: 2.2155e-04 - val_reg_l2_loss: 0.0931 - val_loss: 0.1938\n",
            "Epoch 115/125\n",
            "160/160 [==============================] - 112s 702ms/step - det_loss: 0.1310 - cls_loss: 0.1093 - box_loss: 4.3427e-04 - reg_l2_loss: 0.0931 - loss: 0.2241 - learning_rate: 2.8852e-04 - gradient_norm: 1.3983 - val_det_loss: 0.1042 - val_cls_loss: 0.0926 - val_box_loss: 2.3170e-04 - val_reg_l2_loss: 0.0931 - val_loss: 0.1972\n",
            "Epoch 116/125\n",
            "160/160 [==============================] - 84s 526ms/step - det_loss: 0.1311 - cls_loss: 0.1079 - box_loss: 4.6500e-04 - reg_l2_loss: 0.0931 - loss: 0.2242 - learning_rate: 2.3125e-04 - gradient_norm: 1.3695 - val_det_loss: 0.1010 - val_cls_loss: 0.0894 - val_box_loss: 2.3165e-04 - val_reg_l2_loss: 0.0931 - val_loss: 0.1941\n",
            "Epoch 117/125\n",
            "160/160 [==============================] - 83s 521ms/step - det_loss: 0.1286 - cls_loss: 0.1065 - box_loss: 4.4121e-04 - reg_l2_loss: 0.0931 - loss: 0.2217 - learning_rate: 1.8025e-04 - gradient_norm: 1.3340 - val_det_loss: 0.1021 - val_cls_loss: 0.0907 - val_box_loss: 2.2782e-04 - val_reg_l2_loss: 0.0931 - val_loss: 0.1951\n",
            "Epoch 118/125\n",
            "160/160 [==============================] - 83s 519ms/step - det_loss: 0.1313 - cls_loss: 0.1085 - box_loss: 4.5520e-04 - reg_l2_loss: 0.0931 - loss: 0.2244 - learning_rate: 1.3556e-04 - gradient_norm: 1.3802 - val_det_loss: 0.1009 - val_cls_loss: 0.0895 - val_box_loss: 2.2764e-04 - val_reg_l2_loss: 0.0931 - val_loss: 0.1940\n",
            "Epoch 119/125\n",
            "160/160 [==============================] - 84s 524ms/step - det_loss: 0.1378 - cls_loss: 0.1140 - box_loss: 4.7751e-04 - reg_l2_loss: 0.0931 - loss: 0.2309 - learning_rate: 9.7197e-05 - gradient_norm: 1.5740 - val_det_loss: 0.1029 - val_cls_loss: 0.0914 - val_box_loss: 2.2915e-04 - val_reg_l2_loss: 0.0931 - val_loss: 0.1960\n",
            "Epoch 120/125\n",
            "160/160 [==============================] - 112s 705ms/step - det_loss: 0.1317 - cls_loss: 0.1084 - box_loss: 4.6670e-04 - reg_l2_loss: 0.0931 - loss: 0.2248 - learning_rate: 6.5190e-05 - gradient_norm: 1.4031 - val_det_loss: 0.1038 - val_cls_loss: 0.0923 - val_box_loss: 2.3071e-04 - val_reg_l2_loss: 0.0931 - val_loss: 0.1969\n",
            "Epoch 121/125\n",
            "160/160 [==============================] - 83s 519ms/step - det_loss: 0.1326 - cls_loss: 0.1097 - box_loss: 4.5739e-04 - reg_l2_loss: 0.0931 - loss: 0.2256 - learning_rate: 3.9560e-05 - gradient_norm: 1.4132 - val_det_loss: 0.1032 - val_cls_loss: 0.0917 - val_box_loss: 2.3037e-04 - val_reg_l2_loss: 0.0931 - val_loss: 0.1963\n",
            "Epoch 122/125\n",
            "160/160 [==============================] - 84s 524ms/step - det_loss: 0.1355 - cls_loss: 0.1119 - box_loss: 4.7018e-04 - reg_l2_loss: 0.0931 - loss: 0.2285 - learning_rate: 2.0323e-05 - gradient_norm: 1.4639 - val_det_loss: 0.1023 - val_cls_loss: 0.0909 - val_box_loss: 2.2837e-04 - val_reg_l2_loss: 0.0931 - val_loss: 0.1954\n",
            "Epoch 123/125\n",
            "160/160 [==============================] - 83s 516ms/step - det_loss: 0.1301 - cls_loss: 0.1083 - box_loss: 4.3587e-04 - reg_l2_loss: 0.0931 - loss: 0.2231 - learning_rate: 7.4911e-06 - gradient_norm: 1.3712 - val_det_loss: 0.1042 - val_cls_loss: 0.0927 - val_box_loss: 2.2906e-04 - val_reg_l2_loss: 0.0931 - val_loss: 0.1973\n",
            "Epoch 124/125\n",
            "160/160 [==============================] - 83s 522ms/step - det_loss: 0.1333 - cls_loss: 0.1107 - box_loss: 4.5145e-04 - reg_l2_loss: 0.0931 - loss: 0.2264 - learning_rate: 1.0731e-06 - gradient_norm: 1.4855 - val_det_loss: 0.1029 - val_cls_loss: 0.0914 - val_box_loss: 2.3009e-04 - val_reg_l2_loss: 0.0931 - val_loss: 0.1960\n",
            "Epoch 125/125\n",
            "160/160 [==============================] - 113s 708ms/step - det_loss: 0.1319 - cls_loss: 0.1087 - box_loss: 4.6417e-04 - reg_l2_loss: 0.0931 - loss: 0.2250 - learning_rate: 1.0729e-06 - gradient_norm: 1.3965 - val_det_loss: 0.1042 - val_cls_loss: 0.0928 - val_box_loss: 2.2793e-04 - val_reg_l2_loss: 0.0931 - val_loss: 0.1973\n"
          ]
        }
      ]
    },
    {
      "cell_type": "code",
      "source": [
        "model.evaluate(validation_data)"
      ],
      "metadata": {
        "id": "gNcVO2Jd5c35",
        "colab": {
          "base_uri": "https://localhost:8080/"
        },
        "outputId": "aab04883-47cf-4f95-cb37-90aea61674fa"
      },
      "execution_count": null,
      "outputs": [
        {
          "output_type": "stream",
          "name": "stdout",
          "text": [
            "18/18 [==============================] - 77s 2s/step\n",
            "\n"
          ]
        },
        {
          "output_type": "execute_result",
          "data": {
            "text/plain": [
              "{'AP': 0.76829636,\n",
              " 'AP50': 0.883775,\n",
              " 'AP75': 0.85657305,\n",
              " 'APs': -1.0,\n",
              " 'APm': 0.7086178,\n",
              " 'APl': 0.78909653,\n",
              " 'ARmax1': 0.8303958,\n",
              " 'ARmax10': 0.85381204,\n",
              " 'ARmax100': 0.85440767,\n",
              " 'ARs': -1.0,\n",
              " 'ARm': 0.7793835,\n",
              " 'ARl': 0.8683044,\n",
              " 'AP_/Abyssinian': 0.73773265,\n",
              " 'AP_/american_bulldog': 0.69163704,\n",
              " 'AP_/american_pit_bull_terrier': 0.5604282,\n",
              " 'AP_/basset_hound': 0.7807417,\n",
              " 'AP_/beagle': 0.62985563,\n",
              " 'AP_/Bengal': 0.70393306,\n",
              " 'AP_/Birman': 0.764478,\n",
              " 'AP_/Bombay': 0.90814966,\n",
              " 'AP_/boxer': 0.76699626,\n",
              " 'AP_/British_Shorthair': 0.90888387,\n",
              " 'AP_/chihuahua': 0.6612376,\n",
              " 'AP_/Egyptian_Mau': 0.6743122,\n",
              " 'AP_/english_cocker_spaniel': 0.70764196,\n",
              " 'AP_/english_setter': 0.8463919,\n",
              " 'AP_/german_shorthaired': 0.8143677,\n",
              " 'AP_/great_pyrenees': 0.7892545,\n",
              " 'AP_/havanese': 0.66640836,\n",
              " 'AP_/japanese_chin': 0.69545984,\n",
              " 'AP_/keeshond': 0.8302783,\n",
              " 'AP_/leonberger': 0.8198744,\n",
              " 'AP_/Maine_Coon': 0.80412185,\n",
              " 'AP_/miniature_pinscher': 0.6101174,\n",
              " 'AP_/newfoundland': 0.758459,\n",
              " 'AP_/Persian': 0.814413,\n",
              " 'AP_/pomeranian': 0.7702122,\n",
              " 'AP_/pug': 0.8960604,\n",
              " 'AP_/Ragdoll': 0.76712596,\n",
              " 'AP_/Russian_Blue': 0.9489792,\n",
              " 'AP_/saint_bernard': 0.77045256,\n",
              " 'AP_/samoyed': 0.8104761,\n",
              " 'AP_/scottish_terrier': 0.7116977,\n",
              " 'AP_/shiba_inu': 0.8954943,\n",
              " 'AP_/Siamese': 0.84809697,\n",
              " 'AP_/Sphynx': 0.9311091,\n",
              " 'AP_/staffordshire_bull_terrier': 0.7041756,\n",
              " 'AP_/wheaten_terrier': 0.67364645,\n",
              " 'AP_/yorkshire_terrier': 0.7542645}"
            ]
          },
          "metadata": {},
          "execution_count": 39
        }
      ]
    },
    {
      "cell_type": "code",
      "source": [
        "TFLITE_FILENAME = 'efficientdet-lite-oxfordIII.tflite'\n",
        "LABELS_FILENAME = 'oxfordIII-labels.txt'"
      ],
      "metadata": {
        "id": "r1XRQ0KC5eq_"
      },
      "execution_count": null,
      "outputs": []
    },
    {
      "cell_type": "code",
      "source": [
        "model.export(export_dir='.', tflite_filename=TFLITE_FILENAME, label_filename=LABELS_FILENAME,\n",
        "             export_format=[ExportFormat.TFLITE, ExportFormat.LABEL])"
      ],
      "metadata": {
        "id": "8gJe7nmR5f5v"
      },
      "execution_count": null,
      "outputs": []
    },
    {
      "cell_type": "code",
      "source": [
        "model.evaluate_tflite(TFLITE_FILENAME, validation_data)"
      ],
      "metadata": {
        "id": "80k6wAev5hqH",
        "colab": {
          "base_uri": "https://localhost:8080/"
        },
        "outputId": "6b9d84b7-e6bf-4f36-9bf0-51014ba1afef"
      },
      "execution_count": null,
      "outputs": [
        {
          "output_type": "stream",
          "name": "stdout",
          "text": [
            "1103/1103 [==============================] - 6032s 5s/step\n",
            "\n"
          ]
        },
        {
          "output_type": "execute_result",
          "data": {
            "text/plain": [
              "{'AP': 0.73396754,\n",
              " 'AP50': 0.84790933,\n",
              " 'AP75': 0.8229456,\n",
              " 'APs': -1.0,\n",
              " 'APm': 0.6869158,\n",
              " 'APl': 0.75262946,\n",
              " 'ARmax1': 0.7773169,\n",
              " 'ARmax10': 0.77796465,\n",
              " 'ARmax100': 0.77796465,\n",
              " 'ARs': -1.0,\n",
              " 'ARm': 0.7083427,\n",
              " 'ARl': 0.79372704,\n",
              " 'AP_/Abyssinian': 0.69222605,\n",
              " 'AP_/american_bulldog': 0.6329601,\n",
              " 'AP_/american_pit_bull_terrier': 0.5553651,\n",
              " 'AP_/basset_hound': 0.7682777,\n",
              " 'AP_/beagle': 0.59801847,\n",
              " 'AP_/Bengal': 0.6319874,\n",
              " 'AP_/Birman': 0.6886465,\n",
              " 'AP_/Bombay': 0.89593303,\n",
              " 'AP_/boxer': 0.72366774,\n",
              " 'AP_/British_Shorthair': 0.8939814,\n",
              " 'AP_/chihuahua': 0.5546516,\n",
              " 'AP_/Egyptian_Mau': 0.6446493,\n",
              " 'AP_/english_cocker_spaniel': 0.684677,\n",
              " 'AP_/english_setter': 0.7762489,\n",
              " 'AP_/german_shorthaired': 0.7681648,\n",
              " 'AP_/great_pyrenees': 0.6804982,\n",
              " 'AP_/havanese': 0.6567277,\n",
              " 'AP_/japanese_chin': 0.69678605,\n",
              " 'AP_/keeshond': 0.82249,\n",
              " 'AP_/leonberger': 0.80431336,\n",
              " 'AP_/Maine_Coon': 0.7574393,\n",
              " 'AP_/miniature_pinscher': 0.5424702,\n",
              " 'AP_/newfoundland': 0.6872431,\n",
              " 'AP_/Persian': 0.8120974,\n",
              " 'AP_/pomeranian': 0.70708925,\n",
              " 'AP_/pug': 0.890511,\n",
              " 'AP_/Ragdoll': 0.761983,\n",
              " 'AP_/Russian_Blue': 0.9349622,\n",
              " 'AP_/saint_bernard': 0.755752,\n",
              " 'AP_/samoyed': 0.8103187,\n",
              " 'AP_/scottish_terrier': 0.6662425,\n",
              " 'AP_/shiba_inu': 0.87953585,\n",
              " 'AP_/Siamese': 0.8455683,\n",
              " 'AP_/Sphynx': 0.8834156,\n",
              " 'AP_/staffordshire_bull_terrier': 0.65171456,\n",
              " 'AP_/wheaten_terrier': 0.67090774,\n",
              " 'AP_/yorkshire_terrier': 0.7292781}"
            ]
          },
          "metadata": {},
          "execution_count": 42
        }
      ]
    },
    {
      "cell_type": "code",
      "source": [
        "val_images_dir = '/content/dataset/validation/images'\n",
        "val_annotations_dir = '/content/dataset/validation/annotations'\n",
        "test_images_dir = '/content/dataset/validation/images'\n",
        "test_annotations_dir = '/content/dataset/validation/annotations'"
      ],
      "metadata": {
        "id": "w9ZvSqXbS1y7"
      },
      "execution_count": null,
      "outputs": []
    },
    {
      "cell_type": "code",
      "source": [
        "import random\n",
        "\n",
        "# If you're using a custom dataset, we take a random image from the test set:\n",
        "if use_custom_dataset:\n",
        "  images_path = test_images_dir if dataset_is_split else os.path.join(test_dir, \"images\")\n",
        "  filenames = os.listdir(os.path.join(images_path))\n",
        "  random_index = random.randint(0,len(filenames)-1)\n",
        "  INPUT_IMAGE = os.path.join(images_path, filenames[random_index])\n",
        "# else:\n",
        "#   # Download a test salad image\n",
        "#   INPUT_IMAGE = 'salad-test.jpg'\n",
        "#   DOWNLOAD_URL = \"https://storage.googleapis.com/cloud-ml-data/img/openimage/3/2520/3916261642_0a504acd60_o.jpg\"\n",
        "#   !wget -q -O $INPUT_IMAGE $DOWNLOAD_URL"
      ],
      "metadata": {
        "id": "hWQEMejs5jWP"
      },
      "execution_count": null,
      "outputs": []
    },
    {
      "cell_type": "code",
      "source": [
        "INPUT_IMAGE=\"/content/dataset/validation/images/Abyssinian_183.jpg\""
      ],
      "metadata": {
        "id": "-uY81RMJ8qxq"
      },
      "execution_count": null,
      "outputs": []
    },
    {
      "cell_type": "code",
      "source": [
        "! python3 -m pip install --extra-index-url https://google-coral.github.io/py-repo/ pycoral"
      ],
      "metadata": {
        "id": "KyYeMtbL7MqQ",
        "colab": {
          "base_uri": "https://localhost:8080/"
        },
        "outputId": "42a44268-e5f9-479b-daec-aa3f7a6e2cd9"
      },
      "execution_count": null,
      "outputs": [
        {
          "output_type": "stream",
          "name": "stdout",
          "text": [
            "Looking in indexes: https://pypi.org/simple, https://us-python.pkg.dev/colab-wheels/public/simple/, https://google-coral.github.io/py-repo/\n",
            "Collecting pycoral\n",
            "  Downloading https://github.com/google-coral/pycoral/releases/download/v2.0.0/pycoral-2.0.0-cp38-cp38-linux_x86_64.whl (380 kB)\n",
            "\u001b[K     |████████████████████████████████| 380 kB 3.5 MB/s \n",
            "\u001b[?25hCollecting tflite-runtime==2.5.0.post1\n",
            "  Downloading https://github.com/google-coral/pycoral/releases/download/v2.0.0/tflite_runtime-2.5.0.post1-cp38-cp38-linux_x86_64.whl (1.5 MB)\n",
            "\u001b[K     |████████████████████████████████| 1.5 MB 2.0 MB/s \n",
            "\u001b[?25hRequirement already satisfied: numpy>=1.16.0 in /usr/local/lib/python3.8/dist-packages (from pycoral) (1.21.6)\n",
            "Requirement already satisfied: Pillow>=4.0.0 in /usr/local/lib/python3.8/dist-packages (from pycoral) (7.1.2)\n",
            "Installing collected packages: tflite-runtime, pycoral\n",
            "Successfully installed pycoral-2.0.0 tflite-runtime-2.5.0.post1\n"
          ]
        }
      ]
    },
    {
      "cell_type": "code",
      "source": [
        "from PIL import Image\n",
        "from PIL import ImageDraw\n",
        "from PIL import ImageFont\n",
        "\n",
        "import tflite_runtime.interpreter as tflite \n",
        "from pycoral.adapters import common\n",
        "from pycoral.adapters import detect\n",
        "from pycoral.utils.dataset import read_label_file\n",
        "\n",
        "def draw_objects(draw, objs, scale_factor, labels):\n",
        "  \"\"\"Draws the bounding box and label for each object.\"\"\"\n",
        "  COLORS = np.random.randint(0, 255, size=(len(labels), 3), dtype=np.uint8)\n",
        "  for obj in objs:\n",
        "    bbox = obj.bbox\n",
        "    color = tuple(int(c) for c in COLORS[obj.id])\n",
        "    draw.rectangle([(bbox.xmin * scale_factor, bbox.ymin * scale_factor),\n",
        "                    (bbox.xmax * scale_factor, bbox.ymax * scale_factor)],\n",
        "                   outline=color, width=3)\n",
        "    font = ImageFont.truetype(\"LiberationSans-Regular.ttf\", size=15)\n",
        "    draw.text((bbox.xmin * scale_factor + 4, bbox.ymin * scale_factor + 4),\n",
        "              '%s\\n%.2f' % (labels.get(obj.id, obj.id), obj.score),\n",
        "              fill=color, font=font)\n",
        "\n",
        "# Load the TF Lite model\n",
        "labels = read_label_file(LABELS_FILENAME)\n",
        "interpreter = tflite.Interpreter(TFLITE_FILENAME)\n",
        "interpreter.allocate_tensors()\n",
        "\n",
        "# Resize the image for input\n",
        "image = Image.open(INPUT_IMAGE)\n",
        "_, scale = common.set_resized_input(\n",
        "    interpreter, image.size, lambda size: image.resize(size, Image.ANTIALIAS))\n",
        "\n",
        "# Run inference\n",
        "interpreter.invoke()\n",
        "objs = detect.get_objects(interpreter, score_threshold=0.4, image_scale=scale)\n",
        "\n",
        "# Resize again to a reasonable size for display\n",
        "display_width = 500\n",
        "scale_factor = display_width / image.width\n",
        "height_ratio = image.height / image.width\n",
        "image = image.resize((display_width, int(display_width * height_ratio)))\n",
        "draw_objects(ImageDraw.Draw(image), objs, scale_factor, labels)\n",
        "image"
      ],
      "metadata": {
        "id": "yTNV14Ih7PFn"
      },
      "execution_count": null,
      "outputs": []
    }
  ]
}