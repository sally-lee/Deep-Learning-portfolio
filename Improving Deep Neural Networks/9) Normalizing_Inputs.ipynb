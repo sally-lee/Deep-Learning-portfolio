{
 "cells": [
  {
   "cell_type": "markdown",
   "metadata": {
    "id": "KlWQlRr4g_Bu"
   },
   "source": [
    "# Normalizing Inputs"
   ]
  },
  {
   "cell_type": "markdown",
   "metadata": {
    "id": "_XUGKPtDhD3P"
   },
   "source": [
    "## 학습목표\n",
    "- 신경망의 훈련을 빠르게 할 수 있는 하나의 기법 <br>\n",
    "&rarr; 입력을 정규화하는 것에 대해 파악하기"
   ]
  },
  {
   "cell_type": "markdown",
   "metadata": {
    "id": "9LkeWbnChUMu"
   },
   "source": [
    "## 1. 평균($\\mu$)=0으로 만든다."
   ]
  },
  {
   "cell_type": "markdown",
   "metadata": {
    "id": "pEVUkLXviRoe"
   },
   "source": [
    "<center><img src=\"images/9_scatter1.PNG\"height=\"300px\" width=\"300px\" /></center>\n",
    "<p align=\"center\"> Figure1. scatter1 </p>\n"
   ]
  },
  {
   "cell_type": "markdown",
   "metadata": {
    "id": "xwlAPQWVikzO"
   },
   "source": [
    "- input feature : 2차원 \n",
    "$ x = $\n",
    "$ \\begin{bmatrix}\n",
    "  x_1 \\\\\n",
    "  x_2 \\\\ \n",
    "  \\end{bmatrix} $\n",
    "\n",
    "- $ \\mu=\\frac{1}{m} \\displaystyle \\sum_{i=1}^{m}{x^{i}}$\n",
    "> $x :=x-\\mu$\n",
    "\n",
    "- 0의 평균을 평균을 갖게 될때까지 train set를 이동"
   ]
  },
  {
   "cell_type": "markdown",
   "metadata": {
    "id": "B8EA31Qmhv4l"
   },
   "source": [
    "## 2. variance를 정규화"
   ]
  },
  {
   "cell_type": "markdown",
   "metadata": {
    "id": "oLjOdn-NjOtm"
   },
   "source": [
    "<center><img src=\"images/9_scatter2.PNG\"height=\"300px\" width=\"300px\" /></center>\n",
    "<p align=\"center\"> Figure2. scatter2 </p>"
   ]
  },
  {
   "cell_type": "markdown",
   "metadata": {
    "id": "DZorGnLojWLO"
   },
   "source": [
    "- $var(x_1) > var(x_2)$\n",
    "\n",
    "- $\\sigma^2=\\frac{1}{m} \\displaystyle \\sum_{i=1}^{m}{x^{(i)}}**2$ ( ** : element wise squaring (요소별 제곱)) \n",
    "\n",
    "- $\\sigma^2$ : 각 특성의 분산에 대한 벡터 \n",
    "\n",
    "- $x^{(i)}**2$ = 분산 (이미 평균 뺐기 때문)\n",
    "\n",
    "- 각각의 샘플을 얻어 $\\sigma^2$로 나눈다.<br>\n",
    ">  $x/=σ^2$"
   ]
  },
  {
   "cell_type": "markdown",
   "metadata": {
    "id": "FbP9T_Wwk6ZX"
   },
   "source": [
    "<center><img src=\"images/9_scatter3.PNG\"height=\"300px\" width=\"300px\" /></center>\n",
    "<p align=\"center\"> Figure3. scatter3 </p>"
   ]
  },
  {
   "cell_type": "markdown",
   "metadata": {
    "id": "Nd7qEhDIk8om"
   },
   "source": [
    "- $var(x_1) = var(x_2) = 1 $"
   ]
  },
  {
   "cell_type": "markdown",
   "metadata": {
    "id": "zmSDqVMJlF5O"
   },
   "source": [
    "### Tip\n",
    "- train 데이터를 확대하는데 사용한다면 test set를 정규화 할 때도 $\\mu$와 $\\sigma$사용\n",
    "- $\\mu=x-\\mu$\n",
    "- $\\sigma^2=\\displaystyle\\frac{x-\\mu}{\\sigma^2}$\n",
    "\n",
    "> 위 두가지 식에 사용하면 정확히 같은 방식으로 test set를 확장하게 된다."
   ]
  },
  {
   "cell_type": "markdown",
   "metadata": {
    "id": "q8-sth4wo4Mo"
   },
   "source": [
    "## Why normalize inputs?"
   ]
  },
  {
   "cell_type": "markdown",
   "metadata": {
    "id": "o9BHibwxtpva"
   },
   "source": [
    "### preview\n",
    "$J(w,b)$=$\\displaystyle\\frac{1}{m}$ $\\displaystyle \\sum_{i=1}^{m}L(\\hat{y}^{(i)}, y^{(i)})$"
   ]
  },
  {
   "cell_type": "markdown",
   "metadata": {
    "id": "Pmqvex2o1XtM"
   },
   "source": [
    "### Unnormalized Input"
   ]
  },
  {
   "cell_type": "markdown",
   "metadata": {
    "id": "ELRM3gro6cge"
   },
   "source": [
    "<center><img src=\"images/9_unnomalized1.PNG\"height=\"300px\" width=\"300px\" /></center>\n",
    "<p align=\"center\"> Figure4. unnomalized1 </p>"
   ]
  },
  {
   "cell_type": "markdown",
   "metadata": {
    "id": "aIPjgGrd6uUm"
   },
   "source": [
    "- 정규화되지 않은 입력 feature을 사용하면 비용함수가 위와 같은 모습이 된다."
   ]
  },
  {
   "cell_type": "markdown",
   "metadata": {
    "id": "Z3xPBbWavmI0"
   },
   "source": [
    "- 특성들이 다음과 같이 \n",
    "> $x_1$ : 1,...,1000 <br>\n",
    "$x_2$ : 0,...,1 <br>\n",
    "매우 다른 크기를 갖고 있다면 <br>parameter에 대한 비율, 값의 범위는 $w_1, w_2$가 굉장히 다른 값을 가지게 될 것이다."
   ]
  },
  {
   "cell_type": "markdown",
   "metadata": {
    "id": "uXnBxmSN7G-H"
   },
   "source": [
    "- 이 함수의 등고선을 그려보면 이와 같이 가늘고 긴 함수를 얻는다.\n",
    "- 매우 작은 learning rate를 사용하게 되고 경사하강법은 최솟값에 이르는 step까지 많은 단계가 필요하다."
   ]
  },
  {
   "cell_type": "markdown",
   "metadata": {
    "id": "Kqp8DGgd7K5e"
   },
   "source": [
    "<center><img src=\"images/9_unnomalized2.PNG\"height=\"300px\" width=\"300px\" /></center>\n",
    "<p align=\"center\"> Figure5. unnomalized2 </p>"
   ]
  },
  {
   "cell_type": "markdown",
   "metadata": {
    "id": "OZghz6IA1SbE"
   },
   "source": [
    "### Normalized Input"
   ]
  },
  {
   "cell_type": "markdown",
   "metadata": {
    "id": "o8nHbQUH7T29"
   },
   "source": [
    "<center><img src=\"images/9_nomalized1.PNG\"height=\"300px\" width=\"300px\" /></center>\n",
    "<p align=\"center\"> Figure6. nomalized1 </p>"
   ]
  },
  {
   "cell_type": "markdown",
   "metadata": {
    "id": "OMGdRMxJ7atN"
   },
   "source": [
    "- 평균적으로 대칭적인 모양\n",
    "- 경사하강법은 큰 step으로 최솟값에 바로 갈 수 있다.\n",
    "- feature이 비슷한 크기를 갖을 때 비용함수가 더 둥글고 최적화하기 쉬운 모습이 된다는 대략적인 직관을 얻을 수 있다.\n",
    "- 서로 비슷한 분산으로 비용함수 J를 최적화하기 쉽고 빠르게 만든다.\n",
    "> $x_1$ : 0 ~ 1 <br>\n",
    "> $x_2$ : -1 ~ 1 <br>\n",
    "> $x_3$ : 1 ~ 2 <br>\n",
    "$x_1, x_2, x_3$은 상당히 비슷한 범위를 가진다."
   ]
  },
  {
   "cell_type": "markdown",
   "metadata": {
    "id": "pFmqJ_2l8lyq"
   },
   "source": [
    "## 정리\n",
    "- 모든 것을 평균 0으로 설정하고 비슷한 크기로 보장할 수 있는 분산을 설정하면 학습 알고리즘이 빠르게 실행하는 것을 도울 것이다.\n",
    "- 만약 입력 feature이 매우 다른 크기를 갖는다면 feature을 정규화하는 것이 중요하다."
   ]
  },
  {
   "cell_type": "markdown",
   "metadata": {
    "id": "EQWt76G384kX"
   },
   "source": [
    "---\n",
    "# 참고\n",
    "[Andrew Ng-Normalizing Inputs](https://www.youtube.com/watch?v=FDCfw-YqWTE&list=PLkDaE6sCZn6Hn0vK8co82zjQtt3T2Nkqc&index=9)\n"
   ]
  }
 ],
 "metadata": {
  "colab": {
   "authorship_tag": "ABX9TyOnt//oMcGdnSSsjZaNRBsL",
   "provenance": []
  },
  "kernelspec": {
   "display_name": "Python 3 (ipykernel)",
   "language": "python",
   "name": "python3"
  },
  "language_info": {
   "codemirror_mode": {
    "name": "ipython",
    "version": 3
   },
   "file_extension": ".py",
   "mimetype": "text/x-python",
   "name": "python",
   "nbconvert_exporter": "python",
   "pygments_lexer": "ipython3",
   "version": "3.9.12"
  }
 },
 "nbformat": 4,
 "nbformat_minor": 1
}
