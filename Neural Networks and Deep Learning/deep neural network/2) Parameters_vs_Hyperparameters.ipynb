{
 "cells": [
  {
   "cell_type": "markdown",
   "metadata": {
    "id": "Vkgwmqufe49h"
   },
   "source": [
    "# Parameters vs Hyperparameters"
   ]
  },
  {
   "cell_type": "markdown",
   "metadata": {
    "id": "H5vKIzDf6A7h"
   },
   "source": [
    "## Parameter란?\n",
    "> learning target : $W^{[1]}, b^{[1]}, W^{[2]}, b^{[2]}, W^{[3]}, b^{[3]} ...$"
   ]
  },
  {
   "cell_type": "markdown",
   "metadata": {
    "id": "0vZrOClK5ct6"
   },
   "source": [
    "## Hyperparameter란?\n",
    "> parameter $w, b$를 control하는 parameter"
   ]
  },
  {
   "cell_type": "markdown",
   "metadata": {
    "id": "fWDr39G7AlrU"
   },
   "source": [
    "### 1. learning Rate ($\\alpha$) : 학습률\n",
    "> 경사하강법의 step을 결정하는 크기, $\\alpha$ 설정에 따라 parameter가 어떻게 변화되는지 결정된다."
   ]
  },
  {
   "cell_type": "markdown",
   "metadata": {
    "id": "BdzUBAwHAnuK"
   },
   "source": [
    "### 2. iterations : 경사하강법의 반복 횟수"
   ]
  },
  {
   "cell_type": "markdown",
   "metadata": {
    "id": "dmFgkUh0AqgD"
   },
   "source": [
    "### 3. hidden layers $L$"
   ]
  },
  {
   "cell_type": "markdown",
   "metadata": {
    "id": "LHAK1mfGAsSE"
   },
   "source": [
    "### 4. hidden units $ n^{[1]}, n^{[2]}, ... $"
   ]
  },
  {
   "cell_type": "markdown",
   "metadata": {
    "id": "D3akPZdh5in6"
   },
   "source": [
    "### 5. activation 선택 : ReLU, Tanh, Sigmoid"
   ]
  },
  {
   "cell_type": "markdown",
   "metadata": {
    "id": "pmkR0OPk9QHi"
   },
   "source": [
    "### 다른 hyperparameter\n",
    "\n",
    "  - Momentum 항, mini batch size, 다양한 형태의 regularization parameters\n",
    "    - 이후에 나올 예정"
   ]
  },
  {
   "cell_type": "markdown",
   "metadata": {
    "id": "Xh7pAqb1966a"
   },
   "source": [
    "초기 머신러닝의 시대와 반대로 딥러닝은 아주 많은 하이퍼파라미터를 가지고 있다.\n",
    "이렇게 많은 하이퍼파라미터가 없었던 머신러닝의 초기 시대에는 대부분 사람들이 α를 매개변수라고 불렀다 기술적으로 α는 매개변수가 맞다.\n",
    "\n",
    "따라서 α, 반복의 횟수 등을 hyperparameter라고 정의한다."
   ]
  },
  {
   "cell_type": "markdown",
   "metadata": {
    "id": "vgEMNxs0_a97"
   },
   "source": [
    "## 오늘날 딥러닝을 적용하는 것은 매우 경험적인 과정이다."
   ]
  },
  {
   "cell_type": "markdown",
   "metadata": {
    "id": "CfP-ekmV_mVb"
   },
   "source": [
    "<center><img src=\"images/p1.png\"height=\"300px\" width=\"300px\" /></center>\n",
    "<center>Figure1.process</center>\n"
   ]
  },
  {
   "cell_type": "markdown",
   "metadata": {
    "id": "pQshN_dIAKlM"
   },
   "source": [
    "1. Idea : 학습률에 가장 적합한 아이디어가 있을 때 $α= 0.01$로 두고 시도\n",
    "\n",
    "2. Code : 구현하고 시도해서 결과에 기반해\n",
    "\n",
    "3. Experiment : 어떻게 작동하는지 보면 $α= 0.05$로 변경할 수 있다."
   ]
  },
  {
   "cell_type": "markdown",
   "metadata": {
    "id": "s12iWR2OTQ1b"
   },
   "source": [
    "<p align=\"center\"><img src=\"images/cost1.PNG\"></p>\n",
    "<p align=\"center\">Figure2.cost1</p>"
   ]
  },
  {
   "cell_type": "markdown",
   "metadata": {
    "id": "kCa7gtyLBL6k"
   },
   "source": [
    "### 1) 어떤 값의 학습률을 사용해야 할지 확실하지 않다면 학습률 α에 하나의 값을 넣어 보고 비용함수 J가 이렇게 내려가는 것을 확인한다."
   ]
  },
  {
   "cell_type": "markdown",
   "metadata": {
    "id": "Fd114OFXQBSZ"
   },
   "source": [
    "### 2) 학습률에 더 큰 값 시도해보고 Cost함수가 올라가서 발산되는 것을 확인한다."
   ]
  },
  {
   "cell_type": "markdown",
   "metadata": {
    "id": "V8bikDzlULxy"
   },
   "source": [
    "<p align=\"center\"><img src=\"images/cost2.PNG\"></p>\n",
    "<p align=\"center\">Figure3.cost2</p>"
   ]
  },
  {
   "cell_type": "markdown",
   "metadata": {
    "id": "pBx-AtgDQQwQ"
   },
   "source": [
    "### 3) 다른 버전을 시도해서 매우 급격히 내려가서 더 높은값에 수렴하는것을 확인한다."
   ]
  },
  {
   "cell_type": "markdown",
   "metadata": {
    "id": "k83YyNBXURdC"
   },
   "source": [
    "### 4) 이렇게 값을 설정하는 시도를 한 뒤 이 α 값이 학습을 꽤 빠르게 하고 더 낮은 비용 함수 J로 수렴한다는 것을 알 수 있다. 그럼 이 α 값을 사용하게된다."
   ]
  },
  {
   "cell_type": "markdown",
   "metadata": {
    "id": "XsmgLfafUa_a"
   },
   "source": [
    "* 새로운 애플리케이션을 시작할 때 hyperparameter의 가장 적합한 값을 정확히 미리 아는 것이 매우 어렵다. <br>\n",
    "따라서 자주 사용하는 방법은 다양한 값을 시도하고 이 사이클을 따라서 몇 가지 값들을 시도한다."
   ]
  },
  {
   "cell_type": "markdown",
   "metadata": {
    "id": "KaVxQcMARe_J"
   },
   "source": [
    "> 예를 들어 이 개수의 은닉 유닛에 5개의 은닉층을 시도한다. Figure1의 과정을 구현하고 작동하는지 확인하고 이 과정을 반복한다.<br>\n",
    "경험적인 과정: 많은 것을 시도하고 작동되는지를 확인한다는 것"
   ]
  },
  {
   "cell_type": "markdown",
   "metadata": {
    "id": "97u9HiqcVwkr"
   },
   "source": [
    "## 정리\n",
    "> 오늘날의 딥러닝은 컴퓨터 비전부터 음성 인식, 자연어 처리까지 아주 다양한 범위의 문제에 적용된다. <br>\n",
    "온라인 광고, 웹 검색, 혹은 제품 추천처럼 구조화된 데이터 애플리케이션"
   ]
  },
  {
   "cell_type": "markdown",
   "metadata": {
    "id": "NfORXmX2XCxz"
   },
   "source": [
    "### 1. 값의 범위를 시도하고 무엇이 작동하는지 확인하기\n",
    "시스템적인 방법으로 값의 범위를 시도하는 방법을 살펴볼 것이다.\n",
    "\n"
   ]
  },
  {
   "cell_type": "markdown",
   "metadata": {
    "id": "lse6IGcMXFTD"
   },
   "source": [
    "### 2. 하나의 문제에 대해 장시간 다루는 경우에 주기적으로 하이퍼파라미터에 몇 가지 값을 시도하고 더 좋은 값이 있는지 이중으로 확인해보기\n",
    "그러면 문제에 가장 적합한 hyperparameter를 찾는 직관을 천천히 얻게 될 것이다. 이 hyperparameter에 대해 모든 값을 시도해봐야 한다는 것이 딥러닝의 만족스럽지 않은 부분이지만 hyperparameter의 가장 적합한 값으로 시스템을 설정해 놓았어도 지금으로부터 1년 뒤에는 그 값이 바뀔 수 있다. CPU나 GPU의 종류같은 컴퓨팅 기반 시설이 바뀔 수 있기때문에 이것도 한 시대일 뿐이다.\n",
    "> 오랫동안 하나의 애플리케이션에서 작업하고 있는 경우에도 <br>\n",
    "예를 들어 온라인 광고의 경우 문제에 대한 진전은 계속되고 학습률과 은닉 유닛의 개수 등에 관한 가장 적합한 값도 바뀔 가능성이 크다. \n",
    "\n"
   ]
  },
  {
   "cell_type": "markdown",
   "metadata": {
    "id": "dqekERyfrMI5"
   },
   "source": [
    "## 기대효과"
   ]
  },
  {
   "cell_type": "markdown",
   "metadata": {
    "id": "8EZ8mCpmXIAD"
   },
   "source": [
    "* 딥러닝 연구는 계속 발전하고 있고 시간이 흐르면서 가장 적합한 하이퍼파라미터를 찾는데 더 나은 지침을 줄 수 있을 것이다. \n",
    "\n",
    "* 그러나 CPU, GPU, 네트워크, 데이터가 모두 바뀌고 있기 때문에 어떤 경우에는 지침이 적용되지 않는 경우가 있을 수 있다. 그 경우에는 다양한 값을 시도하고 평가해야 한다. 그리고 해당 문제에 작동하는 값을 선택해야한다."
   ]
  },
  {
   "cell_type": "markdown",
   "metadata": {
    "id": "y9X-nh-lj6me"
   },
   "source": [
    "---\n",
    "# 참고\n",
    "[Andrew Ng-Parameters vs Hyperparameters](https://www.youtube.com/watch?v=VTE2KlfoO3Q&list=PLkDaE6sCZn6Ec-XTbcX1uRg2_u4xOEky0&index=42)\n"
   ]
  }
 ],
 "metadata": {
  "colab": {
   "authorship_tag": "ABX9TyMQyICEkqAqLBHMJaaZAgbz",
   "collapsed_sections": [],
   "provenance": []
  },
  "kernelspec": {
   "display_name": "Python 3 (ipykernel)",
   "language": "python",
   "name": "python3"
  },
  "language_info": {
   "codemirror_mode": {
    "name": "ipython",
    "version": 3
   },
   "file_extension": ".py",
   "mimetype": "text/x-python",
   "name": "python",
   "nbconvert_exporter": "python",
   "pygments_lexer": "ipython3",
   "version": "3.9.12"
  }
 },
 "nbformat": 4,
 "nbformat_minor": 1
}
