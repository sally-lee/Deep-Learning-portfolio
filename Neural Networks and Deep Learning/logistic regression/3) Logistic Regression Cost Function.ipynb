{
 "cells": [
  {
   "cell_type": "markdown",
   "metadata": {
    "id": "VXRxCpOOHXcl"
   },
   "source": [
    "#Logistic Regression Cost Function"
   ]
  },
  {
   "cell_type": "markdown",
   "metadata": {
    "id": "u7m2vyL5V7xv"
   },
   "source": [
    "## **1.Loss function이란**\n",
    "---\n",
    "* 출력값과 사용자가 원하는 출력값의 오차를 의미한다.\n",
    "* 훈련 샘플 하나에 관하여 정의돼서 그 하나가 얼마나 잘 예측 되었는지 측정해준다.\n"
   ]
  },
  {
   "cell_type": "markdown",
   "metadata": {
    "id": "bmF5kV1BVrnJ"
   },
   "source": [
    "### **Loss function식** \n",
    "알고리즘이 출력한 $y$의 예측값과 참 값 $y$의\n",
    "\n",
    "제곱 오차의 반으로 Loss function를 정의할 수 있다.\n",
    "\n",
    "$$L(\\hat{y},y) = \\frac{1}{2}(\\hat{y}- y)^{2}$$ \n",
    "\n"
   ]
  },
  {
   "cell_type": "markdown",
   "metadata": {
    "id": "i3CadA1ascWq"
   },
   "source": [
    "하지만 Logistic Regression 에서는 주로 사용하지 않는다.\n",
    " * 파라미터들을 학습하기 위해 풀어야할 최적화 함수가 Convex하지 않기 때문이다.\n",
    "그러므로 여러 개의 지역 최적값을 가지고 있게 되어 문제가 생긴다."
   ]
  },
  {
   "cell_type": "markdown",
   "metadata": {
    "id": "HIsaQImQtOEP"
   },
   "source": [
    "![zzz.jpg](data:image/jpeg;base64,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)"
   ]
  },
  {
   "cell_type": "markdown",
   "metadata": {
    "id": "4P48aiPVXLGZ"
   },
   "source": [
    "$\\Rightarrow$ Logistic Regression에서는 밑의 Loss function을 대신 사용합니다."
   ]
  },
  {
   "cell_type": "markdown",
   "metadata": {
    "id": "fdsLcaY3W6mI"
   },
   "source": [
    "\n",
    "$$L(\\hat{y},y) = -(ylog\\hat{y} + (1-y)log(1- \\hat{y}))$$\n"
   ]
  },
  {
   "cell_type": "markdown",
   "metadata": {
    "id": "_VTol1k_ZjVI"
   },
   "source": [
    "## **2. 제곱오차반을 쓰지 않는 이유**\n",
    "---"
   ]
  },
  {
   "cell_type": "markdown",
   "metadata": {
    "id": "bM0CnwjiHuNX"
   },
   "source": [
    "* IF $y=1$\n",
    "\n",
    "Loss function은 그냥 $−log$($y$의 예측값)이 된다.\n",
    "\n",
    "$$ L(\\hat{y},y)=-log\\hat{y}$$\n",
    "\n",
    "$y=1$이기 때문에\n",
    "$−log\\hat{y}$가 최대한 커지기를 원한다.\n",
    "\n",
    "따라서 $\\hat{y}$ 이 최대한 커야 한다.\n",
    "\n",
    "하지만 $\\hat{y}$ 은 Sigmoid function 값이기 때문에 $1$보다 클 수 없다.\n",
    "\n",
    "즉 $\\hat{y}$이 $1$보다 클 순 없으므로 $1$에 수렴하길 원한다는 뜻이다.\n",
    "\n",
    "\n"
   ]
  },
  {
   "cell_type": "markdown",
   "metadata": {
    "id": "7lyVUVEUZbno"
   },
   "source": [
    "* IF $y=0$\n",
    " \n",
    "Loss function는 −log(1−y의 예측값)이 된다.\n",
    "$$ L(\\hat{y},y)=-log(1- \\hat{y})$$\n",
    "\n",
    "Loss function 값을 줄이고 싶다면\n",
    "\n",
    "$log(1−\\hat{y})$이 최대한 커야 한다.\n",
    "\n",
    "즉 $\\hat{y}$이 최대한 작아야 한다.\n",
    "\n",
    "$\\hat{y}$은 $0$과 $1$사이어야 하므로 $y$가 $0$이면 Loss function는\n",
    "\n",
    "$\\hat{y}$이 $0$에 수렴하도록 파라미터들을 조정한다.\n"
   ]
  },
  {
   "cell_type": "markdown",
   "metadata": {
    "id": "oZeSK7eoaEwg"
   },
   "source": [
    " *  $y$가 $1$일 때 $\\hat{y}$이 크고 $y$가 $0$일 때 $\\hat{y}$이 작은성질을 가지고 있는 함수들은 많기때문에 제곱오차를 쓰지 않는다.\n"
   ]
  },
  {
   "cell_type": "markdown",
   "metadata": {
    "id": "mmOHuMHmazGx"
   },
   "source": [
    "## **3. Cost Function 이란**\n",
    "---\n",
    "\n",
    "훈련 세트 전체에 대해 Logistic regression 모델이 얼마나 잘 추측되었는지 측정해주는 함수이다.\n",
    "\n"
   ]
  },
  {
   "cell_type": "markdown",
   "metadata": {
    "id": "Z25EsbrEb-HY"
   },
   "source": [
    "###**Cost Function 식**\n",
    "$$J(w,b) =\\frac{1}{m}\\sum_{i=1}^{m}L(\\hat{y^{i}},y^{i}) = -\\frac{1}{m}\\sum_{i=1}^{m}[ylog\\hat{y} + (1-y)log(1- \\hat{y})]$$\n",
    "\n",
    "* Cost Function $J$는 파라미터 $w$와 $b$에 대해 Loss function를 각각의 훈련 샘플에 적용한 값의 합들의 평균 즉 $m$으로 나눈 값이다."
   ]
  },
  {
   "cell_type": "markdown",
   "metadata": {
    "id": "FY_RSdK3H1hn"
   },
   "source": [
    "## **4.결론** \n",
    "---\n"
   ]
  },
  {
   "cell_type": "markdown",
   "metadata": {
    "id": "QD31sEjqcK6x"
   },
   "source": [
    "* Logistic regression 모델을 학습하는 것이란 Cost Function 를 최소화해주는 파라미터 $w$와 $b$를 찾는 것이다."
   ]
  },
  {
   "cell_type": "markdown",
   "metadata": {
    "id": "2jb52g_781oR"
   },
   "source": [
    "### 참조\n",
    "https://www.youtube.com/watch?v=SHEPb1JHw5o&list=PLkDaE6sCZn6Ec-XTbcX1uRg2_u4xOEky0&index=9"
   ]
  },
  {
   "cell_type": "code",
   "execution_count": null,
   "metadata": {
    "id": "jLvyR40mGm3b"
   },
   "outputs": [],
   "source": []
  }
 ],
 "metadata": {
  "colab": {
   "authorship_tag": "ABX9TyOWK6EkTWgQG08wmtL0w9eE",
   "collapsed_sections": [],
   "name": "W2L3.Logistic Regression Cost Function.ipynb",
   "provenance": [],
   "toc_visible": true
  },
  "kernelspec": {
   "display_name": "Python 3 (ipykernel)",
   "language": "python",
   "name": "python3"
  },
  "language_info": {
   "codemirror_mode": {
    "name": "ipython",
    "version": 3
   },
   "file_extension": ".py",
   "mimetype": "text/x-python",
   "name": "python",
   "nbconvert_exporter": "python",
   "pygments_lexer": "ipython3",
   "version": "3.9.12"
  }
 },
 "nbformat": 4,
 "nbformat_minor": 1
}
