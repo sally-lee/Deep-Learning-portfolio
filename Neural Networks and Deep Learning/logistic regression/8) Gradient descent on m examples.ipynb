{
 "cells": [
  {
   "cell_type": "markdown",
   "metadata": {
    "id": "D-Qyaiy5bsza"
   },
   "source": [
    "#basics of Neural Network Programming"
   ]
  },
  {
   "cell_type": "markdown",
   "metadata": {
    "id": "5PaooHCJbyZf"
   },
   "source": [
    "##Gradient descent on m examples"
   ]
  },
  {
   "cell_type": "markdown",
   "metadata": {
    "id": "wv0m3wwNb2NX"
   },
   "source": [
    "###1. 학습 목표\n",
    "- - -"
   ]
  },
  {
   "cell_type": "markdown",
   "metadata": {
    "id": "mAMq3MMfcDV4"
   },
   "source": [
    "m개의 훈련 샘플에 대한 로지스틱 회귀의 경사 하강법을 구현해보기."
   ]
  },
  {
   "cell_type": "markdown",
   "metadata": {
    "id": "GOF2wkfkcMtI"
   },
   "source": [
    "###2. 비용 함수 J의 정의\n",
    "- - -"
   ]
  },
  {
   "cell_type": "markdown",
   "metadata": {
    "id": "TFwmurJLhkqJ"
   },
   "source": [
    "J(w,b) = $\\frac{1}{m}$ $\\sum_{i=1}^{m}$ L( $a^{(i)}$ , y)\n",
    "\n",
    "위식은 $\\frac{1}{m}$ 에 i= 1 부터 m까지 샘플 y에 대한 출력값 $a^{(i)}$ 의 손실의 합을 곱한것이다."
   ]
  },
  {
   "cell_type": "markdown",
   "metadata": {
    "id": "1D9U8LecjBCY"
   },
   "source": [
    "$a^{(i)}$ =$\\hat{y}^{(i)}$ = $\\sigma$( $z^{(i)}$)=   $\\sigma$( $w^T$$x^{(i)}$+b)\n",
    "\n",
    "\n",
    "\n",
    "$a^{(i)}$ : i번째 샘플의 예측값\n",
    "\n",
    "\n",
    "\n",
    "\n",
    "\n",
    "\n",
    "\n",
    "\n"
   ]
  },
  {
   "cell_type": "markdown",
   "metadata": {
    "id": "tn2suxLNr7vC"
   },
   "source": [
    "###3. 비용합수 J의 도함수\n",
    "- - -"
   ]
  },
  {
   "cell_type": "markdown",
   "metadata": {
    "id": "2QNBLCyRsFDx"
   },
   "source": [
    "$\\frac{d}{dw_1}$J(w,b)=$\\frac{1}{m}$ $\\sum_{i=1}^{m}$$\\frac{d}{dw_1}$\n",
    "L($a^{(i)}$ , $y^{(i)}$) \n",
    "\n",
    "$\\frac{d}{dw_1}$\n",
    "L($a^{(i)}$ , $y^{(i)}$) = $dw_1$$^{(i)}$ \n",
    "\n",
    "$w_1$ 에 대한 전체 비용 함수의 도함수는 $w_1$에 대한 각 손실 항 도함수의 평균이다. "
   ]
  },
  {
   "cell_type": "markdown",
   "metadata": {
    "id": "DcfGY8FGsO5R"
   },
   "source": [
    "\n",
    "$\\rightarrow$ 단일 훈현 샘플의 도함수를 구해 그 평균을 구하면 경사 하강법에 사용할 전체적인 경사를 구할 수 있다."
   ]
  },
  {
   "cell_type": "markdown",
   "metadata": {
    "id": "7t8KXFhWswf5"
   },
   "source": [
    "###4. 경사 하강법을 사용한 로지스틱 회귀를 구현하는 방법\n",
    "- - -"
   ]
  },
  {
   "cell_type": "markdown",
   "metadata": {
    "id": "SIlXb44Ct_Ox"
   },
   "source": [
    "#####1st step"
   ]
  },
  {
   "cell_type": "markdown",
   "metadata": {
    "id": "rlrW761Otgx6"
   },
   "source": [
    "J=0 ,$dw_1$ =0 ,$dw_2$=0,db=0 이라고 초귀화한다."
   ]
  },
  {
   "cell_type": "markdown",
   "metadata": {
    "id": "V8M-WC-uuJS5"
   },
   "source": [
    "2nd step"
   ]
  },
  {
   "cell_type": "markdown",
   "metadata": {
    "id": "JJJ6kzISuLTh"
   },
   "source": [
    "훈련 세트를 반복해 각 훈련 샘플에 대한 도함수를 계산하고 이를 더한다.\n",
    "\n",
    "for  i=1 to m\n",
    "\n",
    ">$z^{(i)}$= $w^T$$x^{(i)}$+b \n",
    "\n",
    ">$a^{(i)}$  = $\\sigma$( $z^{(i)}$)\n",
    "\n",
    ">J+=-($y^{(i)}$log($a^{(i)}$)+(1-$y^{(i)}$)log(1-$a^{(i)}$))\n",
    "\n",
    "\n",
    "i=1 에서 훈련 샘플의 개수 m까지인 for문에서 $z^{(i)}$= $w^T$$x^{(i)}$+b 와\n",
    "에측값 $a^{(i)}$  = $\\sigma$( $z^{(i)}$)를 계산하고 J에 더해준다."
   ]
  },
  {
   "cell_type": "markdown",
   "metadata": {
    "id": "lijVBxedwnHS"
   },
   "source": [
    "d$z^{(i)}$ = $a^{(i)}$ - $y^{(i)}$\n",
    "\n",
    "$\\frac{dL}{dw_1}$ += $x_1^{(i)}$d$z_1^{(i)}$\n",
    "\n",
    "$\\frac{dL}{dw_2}$ += $x_2^{(i)}$d$z_1^{(i)}$\n",
    "\n",
    "db += d$z^{(i)}$\n"
   ]
  },
  {
   "cell_type": "markdown",
   "metadata": {
    "id": "yTljeJBWyAFq"
   },
   "source": [
    "지금 계산은 특성이 두개 n=2라고 가정하고 한것이다."
   ]
  },
  {
   "cell_type": "markdown",
   "metadata": {
    "id": "cjnRBu1_y4RS"
   },
   "source": [
    "#####3rd step"
   ]
  },
  {
   "cell_type": "markdown",
   "metadata": {
    "id": "eQNQDQt_y9nB"
   },
   "source": [
    "평균을 계산하는 것이기 때문에 m으로 나누어야한다.\n",
    "\n",
    "J/=m  \n",
    "\n",
    "d$w_1$ /=m ; d$w_2$ /=m db /=m\n"
   ]
  },
  {
   "cell_type": "markdown",
   "metadata": {
    "id": "7Zz5Gy1MzfYK"
   },
   "source": [
    "단 !! d$w_1$ , d$w_2$ , db 는 값을 저장하는데 쓰고 있다. \n",
    "\n",
    "따라서 계산을 다하고 나면 d$w_1$ 은 w에 대한 전체 비용 함수의 도함수와 같다."
   ]
  },
  {
   "cell_type": "markdown",
   "metadata": {
    "id": "s8kl5Iyg0IWp"
   },
   "source": [
    "d$w_1$ = \n",
    "$\\frac{dJ}{dw_1}$ \n",
    "\n"
   ]
  },
  {
   "cell_type": "markdown",
   "metadata": {
    "id": "FKUXhyq_0WYK"
   },
   "source": [
    "d$w_1$ 와 d$w_2$ 는 첨자 i가 없는데 그 이유는 훈련세트 전체를 합한 값을 저장하고 있기 때문이다.\n",
    "\n",
    "비교해보면 d$z^{(i)}$ 는 훈련샘플 하나의 dz라서 계산하고 있는 훈련 샘플 하나를 나타내기 위해 첨자를 사용한다."
   ]
  },
  {
   "cell_type": "markdown",
   "metadata": {
    "id": "k8PDlrQK1HbM"
   },
   "source": [
    "<경사하강법의 한단계를 구하는법>"
   ]
  },
  {
   "cell_type": "markdown",
   "metadata": {
    "id": "LyLIiyTO1NuK"
   },
   "source": [
    "$w_1$ :=$w_1$ - $\\alpha$ d$w_1$\n",
    "\n",
    "\n",
    "$w_2$ :=$w_2$ - $\\alpha$ d$w_2$\n",
    "\n",
    "\n",
    "b:=b- $\\alpha$db"
   ]
  },
  {
   "cell_type": "markdown",
   "metadata": {
    "id": "yEa6OCF81cxz"
   },
   "source": [
    "여기서 d$w_1$  , d$w_2$ , db 는 방금 계산한 값을 쓴다."
   ]
  },
  {
   "cell_type": "markdown",
   "metadata": {
    "id": "LCJ4d_vz13rC"
   },
   "source": [
    "#####4th step"
   ]
  },
  {
   "cell_type": "markdown",
   "metadata": {
    "id": "LJOvouIB17pC"
   },
   "source": [
    "여기 있는 슬라이드는 모두 경사 하강법 한단계에 사용되는 것이다.\n",
    "\n",
    "따라서 경사 하강법을 여러번 진행하려면 이것을 계속 반복해야 한다."
   ]
  },
  {
   "cell_type": "markdown",
   "metadata": {
    "id": "kAv1Bdsp2pVa"
   },
   "source": [
    "###5. for구문을 이용한 방식으로 구현한 계산방식의 약점\n",
    "- - -"
   ]
  },
  {
   "cell_type": "markdown",
   "metadata": {
    "id": "4VpPbyIT3-MS"
   },
   "source": [
    "이렇게 로지스틱 회귀를 구현하려면 for구문을 두개 만들어야한다.\n",
    "첫번째 for문은 m개의 훈련 샘플을 반복하고\n",
    "\n",
    "$w_1$ :=$w_1$ - $\\alpha$ d$w_1$\n",
    "\n",
    "\n",
    "$w_2$ :=$w_2$ - $\\alpha$ d$w_2$\n",
    "\n",
    "\n",
    "b:=b- $\\alpha$db\n",
    "\n",
    "<두번째 for문>\n",
    "\n",
    " d$z^{(i)}$ = $a^{(i)}$ - $y^{(i)}$\n",
    "\n",
    "$\\frac{dL}{dw_1}$ += $x_1^{(i)}$d$z_1^{(i)}$\n",
    "\n",
    "$\\frac{dL}{dw_2}$ += $x_2^{(i)}$d$z_1^{(i)}$\n",
    "\n",
    "db += d$z^{(i)}$\n",
    "\n",
    "두 번째 for문은 위처럼 특성을 반복한다.여기는 n=2,특성이 두 개뿐이지만 특성이 더 많다면 d$w_n$ 까지 있을 것이기 때문에 n개의 특성을 반복하는 for문이 필요하다.\n",
    " 이것은 비효율적이다.\n",
    "\n",
    "$\\rightarrow$  벡터화를 사용하면 경사하강법의 한 단계를 for구문을 사용하지 않고 구현할수있게된다.\n"
   ]
  },
  {
   "cell_type": "markdown",
   "metadata": {
    "id": "9IwV54kAT3QS"
   },
   "source": [
    "###6.참조\n",
    "- - -\n",
    "\n"
   ]
  },
  {
   "cell_type": "markdown",
   "metadata": {
    "id": "UBXxWz1iT9up"
   },
   "source": [
    "https://www.youtube.com/watch?v=KKfZLXcF-aE\n"
   ]
  }
 ],
 "metadata": {
  "colab": {
   "authorship_tag": "ABX9TyP94rDRqkv+mpiwG/gCxGAz",
   "collapsed_sections": [],
   "name": "Gradient descent on m examples(10강).ipynb",
   "provenance": []
  },
  "kernelspec": {
   "display_name": "Python 3 (ipykernel)",
   "language": "python",
   "name": "python3"
  },
  "language_info": {
   "codemirror_mode": {
    "name": "ipython",
    "version": 3
   },
   "file_extension": ".py",
   "mimetype": "text/x-python",
   "name": "python",
   "nbconvert_exporter": "python",
   "pygments_lexer": "ipython3",
   "version": "3.9.12"
  }
 },
 "nbformat": 4,
 "nbformat_minor": 1
}
