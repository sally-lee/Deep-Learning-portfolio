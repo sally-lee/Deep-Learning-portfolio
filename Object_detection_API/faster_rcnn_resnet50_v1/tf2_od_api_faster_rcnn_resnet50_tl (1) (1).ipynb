{
 "cells": [
  {
   "cell_type": "markdown",
   "metadata": {
    "id": "IG-GkL2k5SzW"
   },
   "source": [
    "content/\n",
    "├─ scripts/ (Google Drive Mount)\n",
    "│  └─ preprocessing/\n",
    "├─ models/\n",
    "│  ├─ community/\n",
    "│  ├─ official/\n",
    "│  ├─ orbit/\n",
    "│  ├─ research/\n",
    "│  └─ ...\n",
    "└─ workspace/ (Google Drive Mount)\n",
    "    └─ training_demo/"
   ]
  },
  {
   "cell_type": "markdown",
   "metadata": {
    "id": "AsdGcY0s5Wlc"
   },
   "source": [
    "training_demo/\n",
    "├─ annotations/\n",
    "├─ exported-models/\n",
    "├─ images/\n",
    "│  ├─ test/\n",
    "│  └─ train/\n",
    "├─ models/\n",
    "├─ pre-trained-models/\n",
    "└─ README.md"
   ]
  },
  {
   "cell_type": "markdown",
   "metadata": {
    "id": "CI4VUeBL5ekW"
   },
   "source": [
    "#내 구글드라이브에 마운트를 하자"
   ]
  },
  {
   "cell_type": "code",
   "execution_count": null,
   "metadata": {
    "colab": {
     "base_uri": "https://localhost:8080/"
    },
    "id": "5MqjVTPd5iqU",
    "outputId": "ec60f898-d09f-4a5a-8772-6360f955b34b"
   },
   "outputs": [
    {
     "name": "stdout",
     "output_type": "stream",
     "text": [
      "Mounted at /content/google_drive\n"
     ]
    }
   ],
   "source": [
    "from google.colab import drive\n",
    "drive.mount('/content/google_drive')"
   ]
  },
  {
   "cell_type": "markdown",
   "metadata": {
    "id": "pWjIvQwt5Z-c"
   },
   "source": [
    "#디렉토리를 만들쟈!"
   ]
  },
  {
   "cell_type": "code",
   "execution_count": null,
   "metadata": {
    "id": "qVpDKGZ2-hpz"
   },
   "outputs": [],
   "source": [
    "%%bash\n",
    "mkdir \"/content/google_drive/MyDrive/Tensorflow_OD_API/faster_rcnn_resnet50_v1/workspace\"\n",
    "mkdir \"/content/google_drive/MyDrive/Tensorflow_OD_API/faster_rcnn_resnet50_v1/scripts\"\n",
    "mkdir \"/content/google_drive/MyDrive/Tensorflow_OD_API/faster_rcnn_resnet50_v1/scripts/preprocessing\"\n",
    "mkdir \"/content/google_drive/MyDrive/Tensorflow_OD_API/faster_rcnn_resnet50_v1/workspace/training_demo\"\n",
    "mkdir \"/content/google_drive/MyDrive/Tensorflow_OD_API/faster_rcnn_resnet50_v1/workspace/training_demo/exported-models\"\n",
    "mkdir \"/content/google_drive/MyDrive/Tensorflow_OD_API/faster_rcnn_resnet50_v1/workspace/training_demo/images\"\n",
    "mkdir \"/content/google_drive/MyDrive/Tensorflow_OD_API/faster_rcnn_resnet50_v1/workspace/training_demo/annotations\"\n",
    "mkdir \"/content/google_drive/MyDrive/Tensorflow_OD_API/faster_rcnn_resnet50_v1/workspace/training_demo/images/test\"\n",
    "mkdir \"/content/google_drive/MyDrive/Tensorflow_OD_API/faster_rcnn_resnet50_v1/workspace/training_demo/images/train\"\n",
    "mkdir \"/content/google_drive/MyDrive/Tensorflow_OD_API/faster_rcnn_resnet50_v1/workspace/training_demo/models\"\n",
    "mkdir \"/content/google_drive/MyDrive/Tensorflow_OD_API/faster_rcnn_resnet50_v1/workspace/training_demo/pre-trained-models\""
   ]
  },
  {
   "cell_type": "markdown",
   "metadata": {
    "id": "J4NOUzR57ZHL"
   },
   "source": [
    "#datasets을 content에 압축을 풀어준다."
   ]
  },
  {
   "cell_type": "code",
   "execution_count": null,
   "metadata": {
    "id": "Nn09decK6-c8"
   },
   "outputs": [],
   "source": [
    "!cp \"/content/google_drive/MyDrive/datasets/VOCtrainval_11-May-2012.tar\" ./"
   ]
  },
  {
   "cell_type": "code",
   "execution_count": null,
   "metadata": {
    "colab": {
     "base_uri": "https://localhost:8080/"
    },
    "id": "BtDrtiBR6_Mz",
    "outputId": "daf4a90c-425b-41fa-f414-0753aef2fc3a"
   },
   "outputs": [
    {
     "name": "stdout",
     "output_type": "stream",
     "text": [
      "/content\n"
     ]
    }
   ],
   "source": [
    "!pwd"
   ]
  },
  {
   "cell_type": "code",
   "execution_count": null,
   "metadata": {
    "id": "Az3y_U-I6_vD"
   },
   "outputs": [],
   "source": [
    "!tar -xvf ./VOCtrainval_11-May-2012.tar"
   ]
  },
  {
   "cell_type": "code",
   "execution_count": null,
   "metadata": {
    "colab": {
     "base_uri": "https://localhost:8080/"
    },
    "id": "aYmVamkA8AfT",
    "outputId": "7418a9ab-48aa-496f-b01c-ed70a58cd948"
   },
   "outputs": [
    {
     "name": "stdout",
     "output_type": "stream",
     "text": [
      "total 1952804\n",
      "drwxr-xr-x 1 root root       4096 Nov 22 11:28 .\n",
      "drwxr-xr-x 1 root root       4096 Nov 22 11:15 ..\n",
      "drwxr-xr-x 4 root root       4096 Nov 18 14:33 .config\n",
      "drwx------ 5 root root       4096 Nov 22 11:27 google_drive\n",
      "drwxr-xr-x 1 root root       4096 Nov 18 14:34 sample_data\n",
      "drwxrwxrwx 3 root root       4096 May 11  2012 VOCdevkit\n",
      "-rw------- 1 root root 1999639040 Nov 22 11:28 VOCtrainval_11-May-2012.tar\n"
     ]
    }
   ],
   "source": [
    "!ls -al"
   ]
  },
  {
   "cell_type": "code",
   "execution_count": null,
   "metadata": {
    "colab": {
     "base_uri": "https://localhost:8080/"
    },
    "id": "zDmM2vxU8JDT",
    "outputId": "07cd577a-3616-4eaa-81ef-015ab39711be"
   },
   "outputs": [
    {
     "name": "stdout",
     "output_type": "stream",
     "text": [
      "/content/VOCdevkit/VOC2012/JPEGImages\n"
     ]
    }
   ],
   "source": [
    "%cd ./VOCdevkit/VOC2012/JPEGImages/"
   ]
  },
  {
   "cell_type": "code",
   "execution_count": null,
   "metadata": {
    "colab": {
     "base_uri": "https://localhost:8080/"
    },
    "id": "36n8Cq1e8LKC",
    "outputId": "8f3d1ca0-a509-4cd9-85c8-885f79faee21"
   },
   "outputs": [
    {
     "name": "stdout",
     "output_type": "stream",
     "text": [
      "17125\n"
     ]
    }
   ],
   "source": [
    "!ls -l | grep ^- | wc -l\n"
   ]
  },
  {
   "cell_type": "code",
   "execution_count": null,
   "metadata": {
    "id": "35V35NjF8PYj"
   },
   "outputs": [],
   "source": [
    "imageDir = \"/content/VOCdevkit/VOC2012/JPEGImages\""
   ]
  },
  {
   "cell_type": "code",
   "execution_count": null,
   "metadata": {
    "id": "RZzRHc738ayi"
   },
   "outputs": [],
   "source": [
    "import os\n",
    "import pathlib\n",
    "import time\n",
    "\n",
    "import matplotlib\n",
    "import matplotlib.pyplot as plt\n",
    "\n",
    "import io\n",
    "import scipy.misc\n",
    "import numpy as np\n",
    "from six import BytesIO\n",
    "from PIL import Image, ImageDraw, ImageFont\n",
    "from six.moves.urllib.request import urlopen\n",
    "\n",
    "import tensorflow as tf\n",
    "# import tensorflow_hub as hub\n",
    "\n",
    "tf.get_logger().setLevel('ERROR')"
   ]
  },
  {
   "cell_type": "code",
   "execution_count": null,
   "metadata": {
    "id": "1S559JOF8c0K"
   },
   "outputs": [],
   "source": [
    "import re\n",
    "from shutil import copyfile\n",
    "import argparse\n",
    "import math\n",
    "import random"
   ]
  },
  {
   "cell_type": "code",
   "execution_count": null,
   "metadata": {
    "id": "rBwg9DPR8efi"
   },
   "outputs": [],
   "source": [
    "import numpy as np\n",
    "from PIL import Image\n",
    "import matplotlib.pyplot as plt\n",
    "import warnings\n",
    "warnings.filterwarnings('ignore')   # Suppress Matplotlib warnings"
   ]
  },
  {
   "cell_type": "code",
   "execution_count": null,
   "metadata": {
    "id": "vEVsGZl58RNU"
   },
   "outputs": [],
   "source": [
    "images = [f for f in os.listdir(imageDir)\n",
    "              if re.search(r'([a-zA-Z0-9\\s_\\\\.\\-\\(\\):])+(?i)(.jpg|.jpeg|.png)$', f)]        # 리눅스 정규식 표현 : 파일에 a-z,A-Z,0-9라 적혀있는 파일이면 모두 가져온다."
   ]
  },
  {
   "cell_type": "code",
   "execution_count": null,
   "metadata": {
    "id": "m6cBURw08l_S"
   },
   "outputs": [],
   "source": [
    "ratio=0.1"
   ]
  },
  {
   "cell_type": "markdown",
   "metadata": {
    "id": "F8BiGSLg8t8C"
   },
   "source": [
    "#images의10퍼센트를 test images에 저장한다."
   ]
  },
  {
   "cell_type": "code",
   "execution_count": null,
   "metadata": {
    "colab": {
     "base_uri": "https://localhost:8080/"
    },
    "id": "aN3DcXvq8r9K",
    "outputId": "e0faed0a-8e33-4b90-9aa9-9821c3682b07"
   },
   "outputs": [
    {
     "name": "stdout",
     "output_type": "stream",
     "text": [
      "1713\n"
     ]
    }
   ],
   "source": [
    "num_images = len(images)\n",
    "num_test_images = math.ceil(ratio*num_images)\n",
    "print(num_test_images)"
   ]
  },
  {
   "cell_type": "code",
   "execution_count": null,
   "metadata": {
    "id": "u-kPnJUr83Yi"
   },
   "outputs": [],
   "source": [
    "train_dir = \"/content/google_drive/MyDrive/Tensorflow_OD_API/faster_rcnn_resnet50_v1/workspace/training_demo/images/train\"\n",
    "test_dir = \"/content/google_drive/MyDrive/Tensorflow_OD_API/faster_rcnn_resnet50_v1/workspace/training_demo/images/test\""
   ]
  },
  {
   "cell_type": "code",
   "execution_count": null,
   "metadata": {
    "id": "NZhq8ccw9PW7"
   },
   "outputs": [],
   "source": [
    "source = imageDir"
   ]
  },
  {
   "cell_type": "code",
   "execution_count": null,
   "metadata": {
    "id": "6mkoU_2p9UmL"
   },
   "outputs": [],
   "source": [
    "copy_xml=True"
   ]
  },
  {
   "cell_type": "markdown",
   "metadata": {
    "id": "IxdKObTh9uYi"
   },
   "source": [
    "#* annotations: This folder will be used to store all *.csv files and the respective TensorFlow *.record files, which contain the list of annotations for our dataset images."
   ]
  },
  {
   "cell_type": "code",
   "execution_count": null,
   "metadata": {
    "id": "5nrvkLxG9WST"
   },
   "outputs": [],
   "source": [
    "sourceXML=\"/content/VOCdevkit/VOC2012/Annotations\""
   ]
  },
  {
   "cell_type": "code",
   "execution_count": null,
   "metadata": {
    "id": "fxk_6nKV9m0E"
   },
   "outputs": [],
   "source": [
    "for i in range(num_test_images):\n",
    "  idx = random.randint(0, len(images)-1)\n",
    "  filename = images[idx]\n",
    "  copyfile(os.path.join(source, filename), os.path.join(test_dir, filename))\n",
    "  if copy_xml:\n",
    "    xml_filename = os.path.splitext(filename)[0]+'.xml'\n",
    "    copyfile(os.path.join(sourceXML, xml_filename), os.path.join(test_dir,xml_filename))\n",
    "\n",
    "  images.remove(images[idx])\n",
    "\n",
    "for filename in images:\n",
    "  copyfile(os.path.join(source, filename), os.path.join(train_dir, filename))\n",
    "  if copy_xml:\n",
    "    xml_filename = os.path.splitext(filename)[0]+'.xml'\n",
    "    print(copyfile(os.path.join(sourceXML, xml_filename), os.path.join(train_dir, xml_filename)))"
   ]
  },
  {
   "cell_type": "markdown",
   "metadata": {
    "id": "SGLQmmVn_a96"
   },
   "source": [
    "#현재 작업하는 디렉토리를 변경할수있다."
   ]
  },
  {
   "cell_type": "code",
   "execution_count": null,
   "metadata": {
    "colab": {
     "base_uri": "https://localhost:8080/"
    },
    "id": "3FtULzae_FgK",
    "outputId": "d0c265a5-d979-4c02-ad90-a8c9bf970896"
   },
   "outputs": [
    {
     "name": "stdout",
     "output_type": "stream",
     "text": [
      "/content/google_drive/MyDrive/Tensorflow_OD_API/faster_rcnn_resnet50_v1/workspace/training_demo/images/train\n"
     ]
    }
   ],
   "source": [
    "%cd \"/content/google_drive/MyDrive/Tensorflow_OD_API/faster_rcnn_resnet50_v1/workspace/training_demo/images/train/\""
   ]
  },
  {
   "cell_type": "code",
   "execution_count": null,
   "metadata": {
    "colab": {
     "base_uri": "https://localhost:8080/"
    },
    "id": "7XTf4VJJ-DQx",
    "outputId": "6ccfb3ea-33e0-4a70-d359-412b83a6c950"
   },
   "outputs": [
    {
     "name": "stdout",
     "output_type": "stream",
     "text": [
      "30824\n"
     ]
    }
   ],
   "source": [
    "!ls -l | grep ^- | wc -l"
   ]
  },
  {
   "cell_type": "markdown",
   "metadata": {
    "id": "brc_IT9v_joi"
   },
   "source": [
    "#tensorflow2.5버전과 판다스를 깐다."
   ]
  },
  {
   "cell_type": "code",
   "execution_count": null,
   "metadata": {
    "id": "rFqNvMdb_ck6"
   },
   "outputs": [],
   "source": [
    "# This Colab requires TF 2.5.\n",
    "!pip install -U \"tensorflow>=2.5\""
   ]
  },
  {
   "cell_type": "code",
   "execution_count": null,
   "metadata": {
    "id": "xutWRTzj_jBS"
   },
   "outputs": [],
   "source": [
    "!pip install pandas"
   ]
  },
  {
   "cell_type": "code",
   "execution_count": null,
   "metadata": {
    "colab": {
     "base_uri": "https://localhost:8080/"
    },
    "id": "y1hRoZpNALmK",
    "outputId": "a4f2adc4-7d5c-46d8-85ae-66882d1840f2"
   },
   "outputs": [
    {
     "name": "stdout",
     "output_type": "stream",
     "text": [
      "/content\n"
     ]
    }
   ],
   "source": [
    "%cd /content/"
   ]
  },
  {
   "cell_type": "markdown",
   "metadata": {
    "id": "tUc0s74LAPHB"
   },
   "source": [
    "#content에  텐서플로우 모델 레파지토리를 클론한다."
   ]
  },
  {
   "cell_type": "code",
   "execution_count": null,
   "metadata": {
    "id": "wSDlQ_MrANS5"
   },
   "outputs": [],
   "source": [
    "# Clone the tensorflow models repository\n",
    "!git clone --depth 1 https://github.com/tensorflow/models"
   ]
  },
  {
   "cell_type": "code",
   "execution_count": null,
   "metadata": {
    "id": "Y6BHzoe5EtWQ"
   },
   "outputs": [],
   "source": [
    "!sudo apt install -y protobuf-compiler"
   ]
  },
  {
   "cell_type": "code",
   "execution_count": null,
   "metadata": {
    "id": "385bYjpiEvJo"
   },
   "outputs": [],
   "source": [
    "!cd /content/models/research"
   ]
  },
  {
   "cell_type": "code",
   "execution_count": null,
   "metadata": {
    "colab": {
     "base_uri": "https://localhost:8080/"
    },
    "id": "uVvAMtgTExPQ",
    "outputId": "99c0546e-f02c-4c10-98c7-2d88a18654aa"
   },
   "outputs": [
    {
     "name": "stdout",
     "output_type": "stream",
     "text": [
      "/content\n"
     ]
    }
   ],
   "source": [
    "!pwd"
   ]
  },
  {
   "cell_type": "markdown",
   "metadata": {
    "id": "L2ldxR_SAhtB"
   },
   "source": [
    "#content에 코코데이터셋을 클론한다."
   ]
  },
  {
   "cell_type": "code",
   "execution_count": null,
   "metadata": {
    "colab": {
     "base_uri": "https://localhost:8080/"
    },
    "id": "-2_Zh23wAfg5",
    "outputId": "d31bb312-c572-400c-f88a-3431f6240fc5"
   },
   "outputs": [
    {
     "name": "stdout",
     "output_type": "stream",
     "text": [
      "Cloning into 'cocoapi'...\n",
      "remote: Enumerating objects: 975, done.\u001b[K\n",
      "remote: Total 975 (delta 0), reused 0 (delta 0), pack-reused 975\u001b[K\n",
      "Receiving objects: 100% (975/975), 11.72 MiB | 33.91 MiB/s, done.\n",
      "Resolving deltas: 100% (576/576), done.\n"
     ]
    }
   ],
   "source": [
    "!git clone https://github.com/cocodataset/cocoapi.git"
   ]
  },
  {
   "cell_type": "code",
   "execution_count": null,
   "metadata": {
    "colab": {
     "base_uri": "https://localhost:8080/"
    },
    "id": "vCqF1xWDAmqS",
    "outputId": "3b88a6cf-b287-479f-f286-c2bce269dbb5"
   },
   "outputs": [
    {
     "name": "stdout",
     "output_type": "stream",
     "text": [
      "/content/cocoapi/PythonAPI\n"
     ]
    }
   ],
   "source": [
    "%cd /content/cocoapi/PythonAPI"
   ]
  },
  {
   "cell_type": "markdown",
   "metadata": {
    "id": "ev_M15xeA3b5"
   },
   "source": [
    "#시간을 단축시키기 위해 make명령어를 쓴다."
   ]
  },
  {
   "cell_type": "code",
   "execution_count": null,
   "metadata": {
    "id": "c6YkvtFCA5_5"
   },
   "outputs": [],
   "source": [
    "!make"
   ]
  },
  {
   "cell_type": "code",
   "execution_count": null,
   "metadata": {
    "colab": {
     "base_uri": "https://localhost:8080/"
    },
    "id": "EbumfVdlA-8i",
    "outputId": "07f6f954-e8b6-4db8-8547-286e5a243065"
   },
   "outputs": [
    {
     "name": "stdout",
     "output_type": "stream",
     "text": [
      "total 1780\n",
      "drwxr-xr-x 3 root root    4096 Nov 22 11:36 .\n",
      "drwxr-xr-x 8 root root    4096 Nov 22 11:35 ..\n",
      "-rw-r--r-- 1 root root     199 Nov 22 11:35 Makefile\n",
      "-rw-r--r-- 1 root root 1790308 Nov 22 11:35 pycocoDemo.ipynb\n",
      "-rw-r--r-- 1 root root    4456 Nov 22 11:35 pycocoEvalDemo.ipynb\n",
      "drwxr-xr-x 2 root root    4096 Nov 22 11:36 pycocotools\n",
      "-rw-r--r-- 1 root root     762 Nov 22 11:35 setup.py\n"
     ]
    }
   ],
   "source": [
    "!ls -al"
   ]
  },
  {
   "cell_type": "code",
   "execution_count": null,
   "metadata": {
    "id": "ylEI6e49BQeZ"
   },
   "outputs": [],
   "source": [
    "!cp -r pycocotools /content/models/research"
   ]
  },
  {
   "cell_type": "code",
   "execution_count": null,
   "metadata": {
    "colab": {
     "base_uri": "https://localhost:8080/"
    },
    "id": "GP-TYilvBHbZ",
    "outputId": "48b9ddc3-4ae5-4717-c5bc-f305e931b73e"
   },
   "outputs": [
    {
     "name": "stdout",
     "output_type": "stream",
     "text": [
      "/content/models/research\n"
     ]
    }
   ],
   "source": [
    "%cd /content/models/research"
   ]
  },
  {
   "cell_type": "code",
   "execution_count": null,
   "metadata": {
    "id": "YXgqJTYVBINh"
   },
   "outputs": [],
   "source": [
    "!ls -al"
   ]
  },
  {
   "cell_type": "code",
   "execution_count": null,
   "metadata": {
    "colab": {
     "base_uri": "https://localhost:8080/"
    },
    "id": "llicWNiCB8up",
    "outputId": "8cf35479-2895-4303-d57f-0072da40f76c"
   },
   "outputs": [
    {
     "name": "stdout",
     "output_type": "stream",
     "text": [
      "/content/models/research\n"
     ]
    }
   ],
   "source": [
    "!pwd"
   ]
  },
  {
   "cell_type": "markdown",
   "metadata": {
    "id": "qPnCkc9tGCh3"
   },
   "source": [
    "#필요한 프로그램 설치한다."
   ]
  },
  {
   "cell_type": "code",
   "execution_count": null,
   "metadata": {
    "id": "zOgxQVSaFk3x"
   },
   "outputs": [],
   "source": [
    "%%bash\n",
    "sudo apt install -y protobuf-compiler\n",
    "cd models/research/\n",
    "protoc object_detection/protos/*.proto --python_out=.\n",
    "cp object_detection/packages/tf2/setup.py .\n",
    "python -m pip install ."
   ]
  },
  {
   "cell_type": "code",
   "execution_count": null,
   "metadata": {
    "id": "mMyNZf94D7yw"
   },
   "outputs": [],
   "source": [
    "from object_detection.utils import label_map_util\n",
    "from object_detection.utils import visualization_utils as viz_utils\n",
    "from object_detection.utils import ops as utils_ops\n"
   ]
  },
  {
   "cell_type": "code",
   "execution_count": null,
   "metadata": {
    "id": "5X8bgjlWCjT3"
   },
   "outputs": [],
   "source": [
    "!cp \"/content/models/research/object_detection/data/pascal_label_map.pbtxt\" \\\n",
    "\"/content/google_drive/MyDrive/Tensorflow_OD_API/faster_rcnn_resnet50_v1/workspace/training_demo/annotations\"\n"
   ]
  },
  {
   "cell_type": "code",
   "execution_count": null,
   "metadata": {
    "id": "XyDbfuXKDLbZ"
   },
   "outputs": [],
   "source": [
    "!mv \"/content/google_drive/MyDrive/Tensorflow_OD_API/faster_rcnn_resnet50_v1/workspace/training_demo/annotations/pascal_label_map.pbtxt\" \\\n",
    "\"/content/google_drive/MyDrive/Tensorflow_OD_API/faster_rcnn_resnet50_v1/workspace/training_demo/annotations/label_map.pbtxt\""
   ]
  },
  {
   "cell_type": "code",
   "execution_count": null,
   "metadata": {
    "colab": {
     "base_uri": "https://localhost:8080/"
    },
    "id": "kJDm7rJHDmUR",
    "outputId": "fb924765-4657-4be1-c93e-618606bf9035"
   },
   "outputs": [
    {
     "name": "stdout",
     "output_type": "stream",
     "text": [
      "/content/google_drive/MyDrive/Tensorflow_OD_API/faster_rcnn_resnet50_v1/scripts/preprocessing\n"
     ]
    }
   ],
   "source": [
    "%cd \"/content/google_drive/MyDrive/Tensorflow_OD_API/faster_rcnn_resnet50_v1/scripts/preprocessing\""
   ]
  },
  {
   "cell_type": "code",
   "execution_count": null,
   "metadata": {
    "colab": {
     "base_uri": "https://localhost:8080/"
    },
    "id": "6cXgetLqDuxo",
    "outputId": "071e180f-5abf-4b4e-8bd1-5d61ebd4349b"
   },
   "outputs": [
    {
     "name": "stdout",
     "output_type": "stream",
     "text": [
      "/content/google_drive/MyDrive/Tensorflow_OD_API/faster_rcnn_resnet50_v1/scripts/preprocessing\n"
     ]
    }
   ],
   "source": [
    "!pwd"
   ]
  },
  {
   "cell_type": "markdown",
   "metadata": {
    "id": "qvm8fqgc-blH"
   },
   "source": [
    "#tf record만든다."
   ]
  },
  {
   "cell_type": "code",
   "execution_count": null,
   "metadata": {
    "colab": {
     "base_uri": "https://localhost:8080/"
    },
    "id": "6ob6HRg4F_Rw",
    "outputId": "4e0d8ffc-8c5b-4598-b3a4-d7584d802be2"
   },
   "outputs": [
    {
     "name": "stdout",
     "output_type": "stream",
     "text": [
      "2022-11-22 11:39:02.300807: E tensorflow/stream_executor/cuda/cuda_blas.cc:2981] Unable to register cuBLAS factory: Attempting to register factory for plugin cuBLAS when one has already been registered\n",
      "/usr/local/lib/python3.7/dist-packages/tensorflow_io/python/ops/__init__.py:98: UserWarning: unable to load libtensorflow_io_plugins.so: unable to open file: libtensorflow_io_plugins.so, from paths: ['/usr/local/lib/python3.7/dist-packages/tensorflow_io/python/ops/libtensorflow_io_plugins.so']\n",
      "caused by: ['/usr/local/lib/python3.7/dist-packages/tensorflow_io/python/ops/libtensorflow_io_plugins.so: undefined symbol: _ZN3tsl5mutexC1Ev']\n",
      "  warnings.warn(f\"unable to load libtensorflow_io_plugins.so: {e}\")\n",
      "/usr/local/lib/python3.7/dist-packages/tensorflow_io/python/ops/__init__.py:104: UserWarning: file system plugins are not loaded: unable to open file: libtensorflow_io.so, from paths: ['/usr/local/lib/python3.7/dist-packages/tensorflow_io/python/ops/libtensorflow_io.so']\n",
      "caused by: ['/usr/local/lib/python3.7/dist-packages/tensorflow_io/python/ops/libtensorflow_io.so: undefined symbol: _ZNK10tensorflow4data11DatasetBase8FinalizeEPNS_15OpKernelContextESt8functionIFN3tsl8StatusOrISt10unique_ptrIS1_NS5_4core15RefCountDeleterEEEEvEE']\n",
      "  warnings.warn(f\"file system plugins are not loaded: {e}\")\n",
      "Successfully created the TFRecord file: /content/google_drive/MyDrive/Tensorflow_OD_API/faster_rcnn_resnet50_v1/workspace/training_demo/annotations/train.record\n"
     ]
    }
   ],
   "source": [
    "!python generate_tfrecord.py \\\n",
    "-x \"/content/google_drive/MyDrive/Tensorflow_OD_API/faster_rcnn_resnet50_v1/workspace/training_demo/images/train\" \\\n",
    "-l \"/content/google_drive/MyDrive/Tensorflow_OD_API/faster_rcnn_resnet50_v1/workspace/training_demo/annotations/label_map.pbtxt\" \\\n",
    "-o \"/content/google_drive/MyDrive/Tensorflow_OD_API/faster_rcnn_resnet50_v1/workspace/training_demo/annotations/train.record\""
   ]
  },
  {
   "cell_type": "code",
   "execution_count": null,
   "metadata": {
    "colab": {
     "base_uri": "https://localhost:8080/"
    },
    "id": "HKTaXOdIIZgn",
    "outputId": "944f89fd-8f2c-402c-d615-0a9f7e3885e1"
   },
   "outputs": [
    {
     "name": "stdout",
     "output_type": "stream",
     "text": [
      "2022-11-22 11:40:20.890125: E tensorflow/stream_executor/cuda/cuda_blas.cc:2981] Unable to register cuBLAS factory: Attempting to register factory for plugin cuBLAS when one has already been registered\n",
      "/usr/local/lib/python3.7/dist-packages/tensorflow_io/python/ops/__init__.py:98: UserWarning: unable to load libtensorflow_io_plugins.so: unable to open file: libtensorflow_io_plugins.so, from paths: ['/usr/local/lib/python3.7/dist-packages/tensorflow_io/python/ops/libtensorflow_io_plugins.so']\n",
      "caused by: ['/usr/local/lib/python3.7/dist-packages/tensorflow_io/python/ops/libtensorflow_io_plugins.so: undefined symbol: _ZN3tsl5mutexC1Ev']\n",
      "  warnings.warn(f\"unable to load libtensorflow_io_plugins.so: {e}\")\n",
      "/usr/local/lib/python3.7/dist-packages/tensorflow_io/python/ops/__init__.py:104: UserWarning: file system plugins are not loaded: unable to open file: libtensorflow_io.so, from paths: ['/usr/local/lib/python3.7/dist-packages/tensorflow_io/python/ops/libtensorflow_io.so']\n",
      "caused by: ['/usr/local/lib/python3.7/dist-packages/tensorflow_io/python/ops/libtensorflow_io.so: undefined symbol: _ZNK10tensorflow4data11DatasetBase8FinalizeEPNS_15OpKernelContextESt8functionIFN3tsl8StatusOrISt10unique_ptrIS1_NS5_4core15RefCountDeleterEEEEvEE']\n",
      "  warnings.warn(f\"file system plugins are not loaded: {e}\")\n",
      "Successfully created the TFRecord file: /content/google_drive/MyDrive/Tensorflow_OD_API/faster_rcnn_resnet50_v1/workspace/training_demo/annotations/test.record\n"
     ]
    }
   ],
   "source": [
    "!python generate_tfrecord.py \\\n",
    "-x \"/content/google_drive/MyDrive/Tensorflow_OD_API/faster_rcnn_resnet50_v1/workspace/training_demo/images/test\" \\\n",
    "-l \"/content/google_drive/MyDrive/Tensorflow_OD_API/faster_rcnn_resnet50_v1/workspace/training_demo/annotations/label_map.pbtxt\" \\\n",
    "-o \"/content/google_drive/MyDrive/Tensorflow_OD_API/faster_rcnn_resnet50_v1/workspace/training_demo/annotations/test.record\""
   ]
  },
  {
   "cell_type": "code",
   "execution_count": null,
   "metadata": {
    "colab": {
     "base_uri": "https://localhost:8080/"
    },
    "id": "UAK_aIKRIe8H",
    "outputId": "0326134d-fdc0-44d1-f46b-2ac49b344ba9"
   },
   "outputs": [
    {
     "name": "stdout",
     "output_type": "stream",
     "text": [
      "/content/google_drive/MyDrive/Tensorflow_OD_API/faster_rcnn_resnet50_v1/scripts/preprocessing\n"
     ]
    }
   ],
   "source": [
    "!pwd"
   ]
  },
  {
   "cell_type": "code",
   "execution_count": null,
   "metadata": {
    "colab": {
     "base_uri": "https://localhost:8080/"
    },
    "id": "N6zFBT-XIf63",
    "outputId": "17373b94-7677-489d-cee6-65f79934f202"
   },
   "outputs": [
    {
     "name": "stdout",
     "output_type": "stream",
     "text": [
      "/content\n"
     ]
    }
   ],
   "source": [
    "%cd /content"
   ]
  },
  {
   "cell_type": "markdown",
   "metadata": {
    "id": "1ykxLkCgIkWn"
   },
   "source": [
    "#사용할 모델을 content에 다운로드 한다."
   ]
  },
  {
   "cell_type": "code",
   "execution_count": null,
   "metadata": {
    "colab": {
     "base_uri": "https://localhost:8080/"
    },
    "id": "wYgfcfVyIgS_",
    "outputId": "ba92d83c-560a-42b7-f6d0-0bc5debbe395"
   },
   "outputs": [
    {
     "name": "stdout",
     "output_type": "stream",
     "text": [
      "--2022-11-22 11:40:41--  http://download.tensorflow.org/models/object_detection/tf2/20200711/faster_rcnn_resnet50_v1_640x640_coco17_tpu-8.tar.gz\n",
      "Resolving download.tensorflow.org (download.tensorflow.org)... 74.125.26.128, 2607:f8b0:400c:c04::80\n",
      "Connecting to download.tensorflow.org (download.tensorflow.org)|74.125.26.128|:80... connected.\n",
      "HTTP request sent, awaiting response... 200 OK\n",
      "Length: 211996178 (202M) [application/x-tar]\n",
      "Saving to: ‘faster_rcnn_resnet50_v1_640x640_coco17_tpu-8.tar.gz’\n",
      "\n",
      "faster_rcnn_resnet5 100%[===================>] 202.17M   225MB/s    in 0.9s    \n",
      "\n",
      "2022-11-22 11:40:42 (225 MB/s) - ‘faster_rcnn_resnet50_v1_640x640_coco17_tpu-8.tar.gz’ saved [211996178/211996178]\n",
      "\n"
     ]
    }
   ],
   "source": [
    "!wget http://download.tensorflow.org/models/object_detection/tf2/20200711/faster_rcnn_resnet50_v1_640x640_coco17_tpu-8.tar.gz"
   ]
  },
  {
   "cell_type": "code",
   "execution_count": null,
   "metadata": {
    "colab": {
     "base_uri": "https://localhost:8080/"
    },
    "id": "pYXqkQv1Iqcv",
    "outputId": "0a8c1cb4-60cb-48b1-8c52-74e5ab61ea79"
   },
   "outputs": [
    {
     "name": "stdout",
     "output_type": "stream",
     "text": [
      "faster_rcnn_resnet50_v1_640x640_coco17_tpu-8/\n",
      "faster_rcnn_resnet50_v1_640x640_coco17_tpu-8/checkpoint/\n",
      "faster_rcnn_resnet50_v1_640x640_coco17_tpu-8/checkpoint/ckpt-0.data-00000-of-00001\n",
      "faster_rcnn_resnet50_v1_640x640_coco17_tpu-8/checkpoint/checkpoint\n",
      "faster_rcnn_resnet50_v1_640x640_coco17_tpu-8/checkpoint/ckpt-0.index\n",
      "faster_rcnn_resnet50_v1_640x640_coco17_tpu-8/pipeline.config\n",
      "faster_rcnn_resnet50_v1_640x640_coco17_tpu-8/saved_model/\n",
      "faster_rcnn_resnet50_v1_640x640_coco17_tpu-8/saved_model/saved_model.pb\n",
      "faster_rcnn_resnet50_v1_640x640_coco17_tpu-8/saved_model/variables/\n",
      "faster_rcnn_resnet50_v1_640x640_coco17_tpu-8/saved_model/variables/variables.data-00000-of-00001\n",
      "faster_rcnn_resnet50_v1_640x640_coco17_tpu-8/saved_model/variables/variables.index\n"
     ]
    }
   ],
   "source": [
    "!tar xvfzp \"/content/faster_rcnn_resnet50_v1_640x640_coco17_tpu-8.tar.gz\" \\\n",
    "-C \"/content/google_drive/MyDrive/Tensorflow_OD_API/faster_rcnn_resnet50_v1/workspace/training_demo/pre-trained-models\""
   ]
  },
  {
   "cell_type": "code",
   "execution_count": null,
   "metadata": {
    "id": "L_AjXkvxI12P"
   },
   "outputs": [],
   "source": [
    "!mkdir \"/content/google_drive/MyDrive/Tensorflow_OD_API/faster_rcnn_resnet50_v1/workspace/training_demo/models/myft_faster_rcnn_resnet50_v1\""
   ]
  },
  {
   "cell_type": "code",
   "execution_count": null,
   "metadata": {
    "id": "tpSmdZBWI9ZZ"
   },
   "outputs": [],
   "source": [
    "!cp \"/content/google_drive/MyDrive/Tensorflow_OD_API/faster_rcnn_resnet50_v1/pipeline.config\" \\\n",
    "\"/content/google_drive/MyDrive/Tensorflow_OD_API/faster_rcnn_resnet50_v1/workspace/training_demo/models/myft_faster_rcnn_resnet50_v1\""
   ]
  },
  {
   "cell_type": "markdown",
   "metadata": {
    "id": "uBKULmJM-g62"
   },
   "source": [
    "#모델을 돌린다."
   ]
  },
  {
   "cell_type": "code",
   "execution_count": null,
   "metadata": {
    "id": "dRSsJkG1JWzF"
   },
   "outputs": [],
   "source": [
    "!python /content/models/research/object_detection/model_main_tf2.py \\\n",
    "--model_dir=\"/content/google_drive/MyDrive/Tensorflow_OD_API/faster_rcnn_resnet50_v1/workspace/training_demo/models/myft_faster_rcnn_resnet50_v1\" \\\n",
    "--pipeline_config_path=\"/content/google_drive/MyDrive/Tensorflow_OD_API/faster_rcnn_resnet50_v1/workspace/training_demo/models/myft_faster_rcnn_resnet50_v1/pipeline.config\""
   ]
  },
  {
   "cell_type": "code",
   "execution_count": null,
   "metadata": {
    "id": "sdUeEMzjJice"
   },
   "outputs": [],
   "source": [
    "!python /content/models/research/object_detection/model_main_tf2.py \\\n",
    "--model_dir=\"/content/google_drive/MyDrive/Tensorflow_OD_API/faster_rcnn_resnet50_v1/workspace/training_demo/models/myft_faster_rcnn_resnet50_v1\" \\\n",
    "--pipeline_config_path=\"/content/google_drive/MyDrive/Tensorflow_OD_API/faster_rcnn_resnet50_v1/workspace/training_demo/models/myft_faster_rcnn_resnet50_v1/pipeline.config\" \\\n",
    "--checkpoint_dir=\"/content/google_drive/MyDrive/Tensorflow_OD_API/faster_rcnn_resnet50_v1/workspace/training_demo/models/myft_faster_rcnn_resnet50_v1\""
   ]
  },
  {
   "cell_type": "code",
   "execution_count": null,
   "metadata": {
    "id": "_X5ftFpTJuye"
   },
   "outputs": [],
   "source": [
    "%load_ext tensorboard"
   ]
  },
  {
   "cell_type": "code",
   "execution_count": null,
   "metadata": {
    "id": "BBDz5G1cJw_P"
   },
   "outputs": [],
   "source": [
    "%tensorboard --logdir=\"/content/google_drive/MyDrive/Tensorflow_OD_API/faster_rcnn_resnet50_v1/workspace/training_demo/models/myft_faster_rcnn_resnet50_v1\""
   ]
  },
  {
   "cell_type": "code",
   "execution_count": null,
   "metadata": {
    "id": "1KrZ1x21J1xu"
   },
   "outputs": [],
   "source": [
    "!mkdir \"/content/google_drive/MyDrive/Tensorflow_OD_API/faster_rcnn_resnet50_v1/workspace/training_demo/exported-models/saved_ster_rcnn_resnet50_v1\""
   ]
  },
  {
   "cell_type": "code",
   "execution_count": null,
   "metadata": {
    "id": "giX397ltKJYP"
   },
   "outputs": [],
   "source": [
    "!python /content/models/research/object_detection/exporter_main_v2.py \\\n",
    "--input_type image_tensor \\\n",
    "--pipeline_config_path \"/content/google_drive/MyDrive/Tensorflow_OD_API/faster_rcnn_resnet50_v1/workspace/training_demo/models/myft_faster_rcnn_resnet50_v1/pipeline.config\" \\\n",
    "--trained_checkpoint_dir \"/content/google_drive/MyDrive/Tensorflow_OD_API/faster_rcnn_resnet50_v1/workspace/training_demo/models/myft_faster_rcnn_resnet50_v1\" \\\n",
    "--output_directory \"/content/google_drive/MyDrive/Tensorflow_OD_API/faster_rcnn_resnet50_v1/workspace/training_demo/exported-models/saved_faster_rcnn_resnet50_v1\""
   ]
  },
  {
   "cell_type": "markdown",
   "metadata": {
    "id": "UwOjc9TM-lvv"
   },
   "source": [
    "#모델을 저장한다."
   ]
  },
  {
   "cell_type": "code",
   "execution_count": null,
   "metadata": {
    "id": "vNhzdsX4LSom"
   },
   "outputs": [],
   "source": [
    "PATH_TO_MODEL_DIR = \"/content/google_drive/MyDrive/Tensorflow_OD_API/faster_rcnn_resnet50_v1/workspace/training_demo/exported-models/saved_faster_rcnn_resnet50_v1\"\n",
    "PATH_TO_SAVED_MODEL = PATH_TO_MODEL_DIR + \"/saved_model\"\n",
    "print(PATH_TO_SAVED_MODEL)"
   ]
  },
  {
   "cell_type": "code",
   "execution_count": null,
   "metadata": {
    "id": "opzwxYLeLYm4"
   },
   "outputs": [],
   "source": [
    "import time"
   ]
  },
  {
   "cell_type": "code",
   "execution_count": null,
   "metadata": {
    "id": "veBeKXShLY82"
   },
   "outputs": [],
   "source": [
    "print('Loading model...', end='')\n",
    "start_time = time.time()\n",
    "\n",
    "# Load saved model and build the detection function\n",
    "detect_fn = tf.saved_model.load(PATH_TO_SAVED_MODEL)\n",
    "\n",
    "end_time = time.time()\n",
    "elapsed_time = end_time - start_time\n",
    "print('Done! Took {} seconds'.format(elapsed_time))"
   ]
  },
  {
   "cell_type": "code",
   "execution_count": null,
   "metadata": {
    "id": "jrnMi15QLbc2"
   },
   "outputs": [],
   "source": [
    "PATH_TO_LABELS = '/content/google_drive/MyDrive/Tensorflow_OD_API/faster_rcnn_resnet50_v1/workspace/training_demo/annotations/label_map.pbtxt'\n",
    "category_index = label_map_util.create_category_index_from_labelmap(PATH_TO_LABELS, use_display_name=True)"
   ]
  },
  {
   "cell_type": "code",
   "execution_count": null,
   "metadata": {
    "id": "doirqaCvLd3u"
   },
   "outputs": [],
   "source": [
    "TEST_IMAGE_PATH = \"/content/google_drive/MyDrive/Tensorflow_OD_API/faster_rcnn_resnet50_v1/workspace/training_demo/images/test/\""
   ]
  },
  {
   "cell_type": "code",
   "execution_count": null,
   "metadata": {
    "id": "GH8Xo9iCLfsO"
   },
   "outputs": [],
   "source": [
    "IMAGE_PATHS = [TEST_IMAGE_PATH + f for f in os.listdir('/content/google_drive/MyDrive/Tensorflow_OD_API/faster_rcnn_resnet50_v1/workspace/training_demo/images/test')\n",
    "              if re.search(r'([a-zA-Z0-9\\s_\\\\.\\-\\(\\):])+(?i)(.jpg|.jpeg)$', f)] "
   ]
  },
  {
   "cell_type": "code",
   "execution_count": null,
   "metadata": {
    "id": "rWbxjeUFLhXW"
   },
   "outputs": [],
   "source": [
    "IMAGE_PATHS_SELS = IMAGE_PATHS[1000:1005]"
   ]
  },
  {
   "cell_type": "markdown",
   "metadata": {
    "id": "faSLMeiQ-qWu"
   },
   "source": [
    "#object detection한 이미지를 보여준다."
   ]
  },
  {
   "cell_type": "code",
   "execution_count": null,
   "metadata": {
    "id": "vubV8I4rLjno"
   },
   "outputs": [],
   "source": [
    "def load_image_into_numpy_array(path):\n",
    "    \"\"\"Load an image from file into a numpy array.\n",
    "\n",
    "    Puts image into numpy array to feed into tensorflow graph.\n",
    "    Note that by convention we put it into a numpy array with shape\n",
    "    (height, width, channels), where channels=3 for RGB.\n",
    "\n",
    "    Args:\n",
    "      path: the file path to the image\n",
    "\n",
    "    Returns:\n",
    "      uint8 numpy array with shape (img_height, img_width, 3)\n",
    "    \"\"\"\n",
    "    return np.array(Image.open(path))"
   ]
  },
  {
   "cell_type": "code",
   "execution_count": null,
   "metadata": {
    "id": "vP-6nTk0Ll7m"
   },
   "outputs": [],
   "source": [
    "for image_path in IMAGE_PATHS_SELS:\n",
    "\n",
    "    print('Running inference for {}... '.format(image_path), end='')\n",
    "\n",
    "    # image_path = TEST_IMAGE_PATH + image_path\n",
    "    image_np = load_image_into_numpy_array(image_path)\n",
    "    \n",
    "    # Things to try:\n",
    "    # Flip horizontally\n",
    "    # image_np = np.fliplr(image_np).copy()\n",
    "\n",
    "    # Convert image to grayscale\n",
    "    # image_np = np.tile(\n",
    "    #     np.mean(image_np, 2, keepdims=True), (1, 1, 3)).astype(np.uint8)\n",
    "\n",
    "    # The input needs to be a tensor, convert it using `tf.convert_to_tensor`.\n",
    "    input_tensor = tf.convert_to_tensor(image_np)\n",
    "    # The model expects a batch of images, so add an axis with `tf.newaxis`.\n",
    "    input_tensor = input_tensor[tf.newaxis, ...]\n",
    "\n",
    "    # input_tensor = np.expand_dims(image_np, 0)\n",
    "    detections = detect_fn(input_tensor)\n",
    "\n",
    "    # All outputs are batches tensors.\n",
    "    # Convert to numpy arrays, and take index [0] to remove the batch dimension.\n",
    "    # We're only interested in the first num_detections.\n",
    "    num_detections = int(detections.pop('num_detections'))\n",
    "    detections = {key: value[0, :num_detections].numpy()\n",
    "                   for key, value in detections.items()}\n",
    "    detections['num_detections'] = num_detections\n",
    "\n",
    "    # detection_classes should be ints.\n",
    "    detections['detection_classes'] = detections['detection_classes'].astype(np.int64)\n",
    "\n",
    "    image_np_with_detections = image_np.copy()\n",
    "\n",
    "    viz_utils.visualize_boxes_and_labels_on_image_array(\n",
    "          image_np_with_detections,\n",
    "          detections['detection_boxes'],\n",
    "          detections['detection_classes'],\n",
    "          detections['detection_scores'],\n",
    "          category_index,\n",
    "          use_normalized_coordinates=True,\n",
    "          max_boxes_to_draw=200,\n",
    "          min_score_thresh=.50,\n",
    "          agnostic_mode=False)\n",
    "\n",
    "    plt.figure(figsize=(15,15))\n",
    "    plt.imshow(image_np_with_detections)\n",
    "    print('Done')\n",
    "\n",
    "plt.show()\n"
   ]
  }
 ],
 "metadata": {
  "accelerator": "GPU",
  "colab": {
   "machine_shape": "hm",
   "provenance": []
  },
  "gpuClass": "standard",
  "kernelspec": {
   "display_name": "Python 3 (ipykernel)",
   "language": "python",
   "name": "python3"
  },
  "language_info": {
   "codemirror_mode": {
    "name": "ipython",
    "version": 3
   },
   "file_extension": ".py",
   "mimetype": "text/x-python",
   "name": "python",
   "nbconvert_exporter": "python",
   "pygments_lexer": "ipython3",
   "version": "3.9.12"
  }
 },
 "nbformat": 4,
 "nbformat_minor": 1
}
