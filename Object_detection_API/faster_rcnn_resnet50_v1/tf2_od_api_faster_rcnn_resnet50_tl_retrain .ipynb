{
 "cells": [
  {
   "cell_type": "code",
   "execution_count": null,
   "metadata": {
    "colab": {
     "base_uri": "https://localhost:8080/"
    },
    "id": "-BK5ZQY5zaeY",
    "outputId": "09688112-cf5a-4b34-9cd8-ae2e9a5f4ad2"
   },
   "outputs": [
    {
     "name": "stdout",
     "output_type": "stream",
     "text": [
      "Mounted at /content/google_drive\n"
     ]
    }
   ],
   "source": [
    "from google.colab import drive\n",
    "drive.mount('/content/google_drive')"
   ]
  },
  {
   "cell_type": "code",
   "execution_count": null,
   "metadata": {
    "id": "27DYfNKMzgqv"
   },
   "outputs": [],
   "source": [
    "!nvidia-smi"
   ]
  },
  {
   "cell_type": "code",
   "execution_count": null,
   "metadata": {
    "id": "5OpGlzsvzmVP"
   },
   "outputs": [],
   "source": [
    "!pip install -U \"tensorflow>=2.5\""
   ]
  },
  {
   "cell_type": "markdown",
   "metadata": {
    "id": "TLCjoUPR0BUI"
   },
   "source": [
    "\n",
    "<div><div class=\"highlight-default notranslate\"><div class=\"highlight\"><pre><span></span>content/\n",
    "├─ scripts/ (Google Drive Mount)\n",
    "│  └─ preprocessing/\n",
    "├─ models/\n",
    "│  ├─ community/\n",
    "│  ├─ official/\n",
    "│  ├─ orbit/\n",
    "│  ├─ research/\n",
    "│  └─ ...\n",
    "└─ workspace/ (Google Drive Mount)\n",
    "    └─ training_demo/\n",
    "</pre></div>\n"
   ]
  },
  {
   "cell_type": "markdown",
   "metadata": {
    "id": "9oM3FUVS0Eqv"
   },
   "source": [
    "<div><div class=\"highlight-default notranslate\"><div class=\"highlight\"><pre><span></span>training_demo/\n",
    "├─ annotations/\n",
    "├─ exported-models/\n",
    "├─ images/\n",
    "│  ├─ test/\n",
    "│  └─ train/\n",
    "├─ models/\n",
    "├─ pre-trained-models/\n",
    "└─ README.md\n",
    "</pre></div>"
   ]
  },
  {
   "cell_type": "code",
   "execution_count": null,
   "metadata": {
    "id": "t6rEbMg-zx_Q"
   },
   "outputs": [],
   "source": [
    "import os\n",
    "import pathlib\n",
    "\n",
    "import matplotlib\n",
    "import matplotlib.pyplot as plt\n",
    "\n",
    "import io\n",
    "import scipy.misc\n",
    "import numpy as np\n",
    "from six import BytesIO\n",
    "from PIL import Image, ImageDraw, ImageFont\n",
    "from six.moves.urllib.request import urlopen\n",
    "\n",
    "import tensorflow as tf\n",
    "# import tensorflow_hub as hub\n",
    "\n",
    "tf.get_logger().setLevel('ERROR')"
   ]
  },
  {
   "cell_type": "code",
   "execution_count": null,
   "metadata": {
    "id": "9vJzHKphzz7f"
   },
   "outputs": [],
   "source": [
    "import re\n",
    "from shutil import copyfile\n",
    "import argparse\n",
    "import math\n",
    "import random"
   ]
  },
  {
   "cell_type": "code",
   "execution_count": null,
   "metadata": {
    "id": "VCjwoQZFz1z_"
   },
   "outputs": [],
   "source": [
    "import numpy as np\n",
    "from PIL import Image\n",
    "import matplotlib.pyplot as plt\n",
    "import warnings\n",
    "warnings.filterwarnings('ignore')   # Suppress Matplotlib warnings"
   ]
  },
  {
   "cell_type": "code",
   "execution_count": null,
   "metadata": {
    "colab": {
     "base_uri": "https://localhost:8080/"
    },
    "id": "4PsVxLrT0NQv",
    "outputId": "cb00148f-3b44-4d7e-facb-f20290cb0011"
   },
   "outputs": [
    {
     "name": "stdout",
     "output_type": "stream",
     "text": [
      "Cloning into 'models'...\n",
      "remote: Enumerating objects: 3529, done.\u001b[K\n",
      "remote: Counting objects: 100% (3529/3529), done.\u001b[K\n",
      "remote: Compressing objects: 100% (2939/2939), done.\u001b[K\n",
      "remote: Total 3529 (delta 933), reused 1514 (delta 536), pack-reused 0\u001b[K\n",
      "Receiving objects: 100% (3529/3529), 47.00 MiB | 28.66 MiB/s, done.\n",
      "Resolving deltas: 100% (933/933), done.\n"
     ]
    }
   ],
   "source": [
    "# Clone the tensorflow models repository\n",
    "!git clone --depth 1 https://github.com/tensorflow/models"
   ]
  },
  {
   "cell_type": "code",
   "execution_count": null,
   "metadata": {
    "colab": {
     "base_uri": "https://localhost:8080/"
    },
    "id": "aozPndWq0Pzf",
    "outputId": "b7e02461-fa7e-4058-d985-88d0f05f9066"
   },
   "outputs": [
    {
     "name": "stdout",
     "output_type": "stream",
     "text": [
      "Reading package lists... Done\n",
      "Building dependency tree       \n",
      "Reading state information... Done\n",
      "protobuf-compiler is already the newest version (3.0.0-9.1ubuntu1).\n",
      "The following package was automatically installed and is no longer required:\n",
      "  libnvidia-common-460\n",
      "Use 'sudo apt autoremove' to remove it.\n",
      "0 upgraded, 0 newly installed, 0 to remove and 5 not upgraded.\n"
     ]
    }
   ],
   "source": [
    "!sudo apt install -y protobuf-compiler"
   ]
  },
  {
   "cell_type": "code",
   "execution_count": null,
   "metadata": {
    "colab": {
     "base_uri": "https://localhost:8080/"
    },
    "id": "i73qSU9m0S83",
    "outputId": "b6a846ae-54e7-45cf-b553-4401b6f0cabb"
   },
   "outputs": [
    {
     "name": "stdout",
     "output_type": "stream",
     "text": [
      "/content/models/research\n"
     ]
    }
   ],
   "source": [
    "%cd /content/models/research"
   ]
  },
  {
   "cell_type": "code",
   "execution_count": null,
   "metadata": {
    "id": "GHhu2h020VOg"
   },
   "outputs": [],
   "source": [
    "!protoc object_detection/protos/*.proto --python_out=."
   ]
  },
  {
   "cell_type": "code",
   "execution_count": null,
   "metadata": {
    "colab": {
     "base_uri": "https://localhost:8080/"
    },
    "id": "Xce4UN3F0fIf",
    "outputId": "cb8990d5-de22-4fe9-c50f-e7dcc277dde4"
   },
   "outputs": [
    {
     "name": "stdout",
     "output_type": "stream",
     "text": [
      "/content\n"
     ]
    }
   ],
   "source": [
    "%cd /content"
   ]
  },
  {
   "cell_type": "code",
   "execution_count": null,
   "metadata": {
    "colab": {
     "base_uri": "https://localhost:8080/"
    },
    "id": "ZU9R3bUO0gb_",
    "outputId": "c4a1641d-8df5-4f1c-9842-0ee3b34c129a"
   },
   "outputs": [
    {
     "name": "stdout",
     "output_type": "stream",
     "text": [
      "Cloning into 'cocoapi'...\n",
      "remote: Enumerating objects: 975, done.\u001b[K\n",
      "remote: Total 975 (delta 0), reused 0 (delta 0), pack-reused 975\u001b[K\n",
      "Receiving objects: 100% (975/975), 11.72 MiB | 18.19 MiB/s, done.\n",
      "Resolving deltas: 100% (576/576), done.\n"
     ]
    }
   ],
   "source": [
    "!git clone https://github.com/cocodataset/cocoapi.git"
   ]
  },
  {
   "cell_type": "code",
   "execution_count": null,
   "metadata": {
    "colab": {
     "base_uri": "https://localhost:8080/"
    },
    "id": "lfWV62Cw0ho3",
    "outputId": "e28d4c40-c783-4e02-cd35-432fbc039588"
   },
   "outputs": [
    {
     "name": "stdout",
     "output_type": "stream",
     "text": [
      "/content/cocoapi/PythonAPI\n"
     ]
    }
   ],
   "source": [
    "%cd /content/cocoapi/PythonAPI"
   ]
  },
  {
   "cell_type": "code",
   "execution_count": null,
   "metadata": {
    "id": "lvsmL0q-0lGH"
   },
   "outputs": [],
   "source": [
    "!make"
   ]
  },
  {
   "cell_type": "code",
   "execution_count": null,
   "metadata": {
    "colab": {
     "base_uri": "https://localhost:8080/"
    },
    "id": "7mAgpRoE0na_",
    "outputId": "d210f017-8df9-4d80-c982-db34a9c96b6e"
   },
   "outputs": [
    {
     "name": "stdout",
     "output_type": "stream",
     "text": [
      "total 1780\n",
      "drwxr-xr-x 3 root root    4096 Nov 14 06:27 .\n",
      "drwxr-xr-x 8 root root    4096 Nov 14 06:27 ..\n",
      "-rw-r--r-- 1 root root     199 Nov 14 06:27 Makefile\n",
      "-rw-r--r-- 1 root root 1790308 Nov 14 06:27 pycocoDemo.ipynb\n",
      "-rw-r--r-- 1 root root    4456 Nov 14 06:27 pycocoEvalDemo.ipynb\n",
      "drwxr-xr-x 2 root root    4096 Nov 14 06:27 pycocotools\n",
      "-rw-r--r-- 1 root root     762 Nov 14 06:27 setup.py\n"
     ]
    }
   ],
   "source": [
    "!ls -al"
   ]
  },
  {
   "cell_type": "code",
   "execution_count": null,
   "metadata": {
    "id": "PQs6KxjS0r2Y"
   },
   "outputs": [],
   "source": [
    "!cp -r pycocotools /content/models/research"
   ]
  },
  {
   "cell_type": "code",
   "execution_count": null,
   "metadata": {
    "colab": {
     "base_uri": "https://localhost:8080/"
    },
    "id": "gHa61BA300aX",
    "outputId": "bbb44d87-b26a-4898-a839-db1611eea3d1"
   },
   "outputs": [
    {
     "name": "stdout",
     "output_type": "stream",
     "text": [
      "/content/models/research\n"
     ]
    }
   ],
   "source": [
    "%cd /content/models/research"
   ]
  },
  {
   "cell_type": "code",
   "execution_count": null,
   "metadata": {
    "id": "vkL9ifJG05UA"
   },
   "outputs": [],
   "source": [
    "!cp object_detection/packages/tf2/setup.py ."
   ]
  },
  {
   "cell_type": "code",
   "execution_count": null,
   "metadata": {
    "id": "L4pjiJhp0-nP"
   },
   "outputs": [],
   "source": [
    "!python -m pip install ."
   ]
  },
  {
   "cell_type": "code",
   "execution_count": null,
   "metadata": {
    "id": "iY62ev6X1DUA"
   },
   "outputs": [],
   "source": [
    "!python /content/models/research/object_detection/builders/model_builder_tf2_test.py"
   ]
  },
  {
   "cell_type": "code",
   "execution_count": null,
   "metadata": {
    "colab": {
     "base_uri": "https://localhost:8080/"
    },
    "id": "kwUZNyQ94unP",
    "outputId": "35a557c2-869e-460c-f459-5fa90704ad0b"
   },
   "outputs": [
    {
     "name": "stdout",
     "output_type": "stream",
     "text": [
      "2022-11-14 06:46:38.520405: E tensorflow/stream_executor/cuda/cuda_blas.cc:2981] Unable to register cuBLAS factory: Attempting to register factory for plugin cuBLAS when one has already been registered\n",
      "Successfully created the TFRecord file: /content/google_drive/MyDrive/Tensorflow_OD_API/faster_rcnn_resnet50_v1/workspace/training_demo/annotations/test.record\n"
     ]
    }
   ],
   "source": [
    "!python /content/google_drive/MyDrive/Tensorflow_OD_API/faster_rcnn_resnet50_v1/scripts/preprocessing/generate_tfrecord.py \\\n",
    "-x \"/content/google_drive/MyDrive/Tensorflow_OD_API/faster_rcnn_resnet50_v1/workspace/training_demo/images/test\" \\\n",
    "-l \"/content/google_drive/MyDrive/Tensorflow_OD_API/faster_rcnn_resnet50_v1/workspace/training_demo/annotations/label_map.pbtxt\" \\\n",
    "-o \"/content/google_drive/MyDrive/Tensorflow_OD_API/faster_rcnn_resnet50_v1/workspace/training_demo/annotations/test.record\""
   ]
  },
  {
   "cell_type": "markdown",
   "metadata": {
    "id": "nN-nUe8A5md3"
   },
   "source": [
    "/content/google_drive/MyDrive/Tensorflow_OD_API/faster_rcnn_resnet50_v1/workspace/training_demo/exported-models/"
   ]
  },
  {
   "cell_type": "code",
   "execution_count": null,
   "metadata": {
    "id": "uQUg__-r5hTn"
   },
   "outputs": [],
   "source": [
    "!mkdir \"/content/google_drive/MyDrive/Tensorflow_OD_API/faster_rcnn_resnet50_v1/workspace/training_demo/models/myft_faster_rcnn_resnet50_v2\""
   ]
  },
  {
   "cell_type": "code",
   "execution_count": null,
   "metadata": {
    "id": "wl5M8v5O5plF"
   },
   "outputs": [],
   "source": [
    "!cp \"/content/google_drive/MyDrive/Tensorflow_OD_API/faster_rcnn_resnet50_v1/workspace/training_demo/models/myft_faster_rcnn_resnet50_v1/pipeline.config\" \\\n",
    "\"/content/google_drive/MyDrive/Tensorflow_OD_API/faster_rcnn_resnet50_v1/workspace/training_demo/models/myft_faster_rcnn_resnet50_v2\""
   ]
  },
  {
   "cell_type": "code",
   "execution_count": null,
   "metadata": {
    "colab": {
     "base_uri": "https://localhost:8080/"
    },
    "id": "epALgo-S6kLF",
    "outputId": "d110234d-5f0c-4d14-e7b5-13574c6e0711"
   },
   "outputs": [
    {
     "name": "stdout",
     "output_type": "stream",
     "text": [
      "2022-11-14 06:56:19.903980: E tensorflow/stream_executor/cuda/cuda_blas.cc:2981] Unable to register cuBLAS factory: Attempting to register factory for plugin cuBLAS when one has already been registered\n",
      "2022-11-14 06:56:20.679367: W tensorflow/stream_executor/platform/default/dso_loader.cc:64] Could not load dynamic library 'libnvinfer.so.7'; dlerror: libnvinfer.so.7: cannot open shared object file: No such file or directory; LD_LIBRARY_PATH: /usr/lib64-nvidia\n",
      "2022-11-14 06:56:20.679461: W tensorflow/stream_executor/platform/default/dso_loader.cc:64] Could not load dynamic library 'libnvinfer_plugin.so.7'; dlerror: libnvinfer_plugin.so.7: cannot open shared object file: No such file or directory; LD_LIBRARY_PATH: /usr/lib64-nvidia\n",
      "2022-11-14 06:56:20.679479: W tensorflow/compiler/tf2tensorrt/utils/py_utils.cc:38] TF-TRT Warning: Cannot dlopen some TensorRT libraries. If you would like to use Nvidia GPU with TensorRT, please make sure the missing libraries mentioned above are installed properly.\n",
      "2022-11-14 06:56:23.719115: W tensorflow/core/common_runtime/gpu/gpu_bfc_allocator.cc:42] Overriding orig_value setting because the TF_FORCE_GPU_ALLOW_GROWTH environment variable is set. Original config value was 0.\n",
      "INFO:tensorflow:Using MirroredStrategy with devices ('/job:localhost/replica:0/task:0/device:GPU:0',)\n",
      "I1114 06:56:23.735788 139931064715136 mirrored_strategy.py:374] Using MirroredStrategy with devices ('/job:localhost/replica:0/task:0/device:GPU:0',)\n",
      "INFO:tensorflow:Maybe overwriting train_steps: None\n",
      "I1114 06:56:23.744160 139931064715136 config_util.py:552] Maybe overwriting train_steps: None\n",
      "INFO:tensorflow:Maybe overwriting use_bfloat16: False\n",
      "I1114 06:56:23.744335 139931064715136 config_util.py:552] Maybe overwriting use_bfloat16: False\n",
      "WARNING:tensorflow:From /usr/local/lib/python3.7/dist-packages/object_detection/model_lib_v2.py:564: StrategyBase.experimental_distribute_datasets_from_function (from tensorflow.python.distribute.distribute_lib) is deprecated and will be removed in a future version.\n",
      "Instructions for updating:\n",
      "rename to distribute_datasets_from_function\n",
      "W1114 06:56:23.780030 139931064715136 deprecation.py:356] From /usr/local/lib/python3.7/dist-packages/object_detection/model_lib_v2.py:564: StrategyBase.experimental_distribute_datasets_from_function (from tensorflow.python.distribute.distribute_lib) is deprecated and will be removed in a future version.\n",
      "Instructions for updating:\n",
      "rename to distribute_datasets_from_function\n",
      "INFO:tensorflow:Reading unweighted datasets: ['/content/google_drive/MyDrive/Tensorflow_OD_API/faster_rcnn_resnet50_v1/workspace/training_demo/annotations/train.record']\n",
      "I1114 06:56:23.800342 139931064715136 dataset_builder.py:162] Reading unweighted datasets: ['/content/google_drive/MyDrive/Tensorflow_OD_API/faster_rcnn_resnet50_v1/workspace/training_demo/annotations/train.record']\n",
      "INFO:tensorflow:Reading record datasets for input file: ['/content/google_drive/MyDrive/Tensorflow_OD_API/faster_rcnn_resnet50_v1/workspace/training_demo/annotations/train.record']\n",
      "I1114 06:56:23.800832 139931064715136 dataset_builder.py:79] Reading record datasets for input file: ['/content/google_drive/MyDrive/Tensorflow_OD_API/faster_rcnn_resnet50_v1/workspace/training_demo/annotations/train.record']\n",
      "INFO:tensorflow:Number of filenames to read: 1\n",
      "I1114 06:56:23.800946 139931064715136 dataset_builder.py:80] Number of filenames to read: 1\n",
      "WARNING:tensorflow:num_readers has been reduced to 1 to match input file shards.\n",
      "W1114 06:56:23.801029 139931064715136 dataset_builder.py:87] num_readers has been reduced to 1 to match input file shards.\n",
      "WARNING:tensorflow:From /usr/local/lib/python3.7/dist-packages/object_detection/builders/dataset_builder.py:104: parallel_interleave (from tensorflow.python.data.experimental.ops.interleave_ops) is deprecated and will be removed in a future version.\n",
      "Instructions for updating:\n",
      "Use `tf.data.Dataset.interleave(map_func, cycle_length, block_length, num_parallel_calls=tf.data.AUTOTUNE)` instead. If sloppy execution is desired, use `tf.data.Options.deterministic`.\n",
      "W1114 06:56:23.809139 139931064715136 deprecation.py:356] From /usr/local/lib/python3.7/dist-packages/object_detection/builders/dataset_builder.py:104: parallel_interleave (from tensorflow.python.data.experimental.ops.interleave_ops) is deprecated and will be removed in a future version.\n",
      "Instructions for updating:\n",
      "Use `tf.data.Dataset.interleave(map_func, cycle_length, block_length, num_parallel_calls=tf.data.AUTOTUNE)` instead. If sloppy execution is desired, use `tf.data.Options.deterministic`.\n",
      "WARNING:tensorflow:From /usr/local/lib/python3.7/dist-packages/object_detection/builders/dataset_builder.py:236: DatasetV1.map_with_legacy_function (from tensorflow.python.data.ops.dataset_ops) is deprecated and will be removed in a future version.\n",
      "Instructions for updating:\n",
      "Use `tf.data.Dataset.map()\n",
      "W1114 06:56:23.826080 139931064715136 deprecation.py:356] From /usr/local/lib/python3.7/dist-packages/object_detection/builders/dataset_builder.py:236: DatasetV1.map_with_legacy_function (from tensorflow.python.data.ops.dataset_ops) is deprecated and will be removed in a future version.\n",
      "Instructions for updating:\n",
      "Use `tf.data.Dataset.map()\n",
      "WARNING:tensorflow:From /usr/local/lib/python3.7/dist-packages/tensorflow/python/util/dispatch.py:1176: sparse_to_dense (from tensorflow.python.ops.sparse_ops) is deprecated and will be removed in a future version.\n",
      "Instructions for updating:\n",
      "Create a `tf.sparse.SparseTensor` and use `tf.sparse.to_dense` instead.\n",
      "W1114 06:56:30.754378 139931064715136 deprecation.py:356] From /usr/local/lib/python3.7/dist-packages/tensorflow/python/util/dispatch.py:1176: sparse_to_dense (from tensorflow.python.ops.sparse_ops) is deprecated and will be removed in a future version.\n",
      "Instructions for updating:\n",
      "Create a `tf.sparse.SparseTensor` and use `tf.sparse.to_dense` instead.\n",
      "WARNING:tensorflow:From /usr/local/lib/python3.7/dist-packages/tensorflow/python/util/dispatch.py:1176: to_float (from tensorflow.python.ops.math_ops) is deprecated and will be removed in a future version.\n",
      "Instructions for updating:\n",
      "Use `tf.cast` instead.\n",
      "W1114 06:56:33.611583 139931064715136 deprecation.py:356] From /usr/local/lib/python3.7/dist-packages/tensorflow/python/util/dispatch.py:1176: to_float (from tensorflow.python.ops.math_ops) is deprecated and will be removed in a future version.\n",
      "Instructions for updating:\n",
      "Use `tf.cast` instead.\n",
      "/usr/local/lib/python3.7/dist-packages/keras/backend.py:452: UserWarning: `tf.keras.backend.set_learning_phase` is deprecated and will be removed after 2020-10-11. To update it, simply pass a True/False value to the `training` argument of the `__call__` method of your layer or model.\n",
      "  \"`tf.keras.backend.set_learning_phase` is deprecated and \"\n",
      "INFO:tensorflow:depth of additional conv before box predictor: 0\n",
      "I1114 06:56:47.319429 139925577160448 convolutional_keras_box_predictor.py:153] depth of additional conv before box predictor: 0\n",
      "WARNING:tensorflow:From /usr/local/lib/python3.7/dist-packages/tensorflow/python/autograph/impl/api.py:459: Tensor.experimental_ref (from tensorflow.python.framework.ops) is deprecated and will be removed in a future version.\n",
      "Instructions for updating:\n",
      "Use ref() instead.\n",
      "W1114 06:57:02.996408 139925577160448 deprecation.py:356] From /usr/local/lib/python3.7/dist-packages/tensorflow/python/autograph/impl/api.py:459: Tensor.experimental_ref (from tensorflow.python.framework.ops) is deprecated and will be removed in a future version.\n",
      "Instructions for updating:\n",
      "Use ref() instead.\n",
      "WARNING:tensorflow:From /usr/local/lib/python3.7/dist-packages/tensorflow/python/util/dispatch.py:1176: softmax_cross_entropy_with_logits (from tensorflow.python.ops.nn_ops) is deprecated and will be removed in a future version.\n",
      "Instructions for updating:\n",
      "\n",
      "Future major versions of TensorFlow will allow gradients to flow\n",
      "into the labels input on backprop by default.\n",
      "\n",
      "See `tf.nn.softmax_cross_entropy_with_logits_v2`.\n",
      "\n",
      "W1114 06:57:11.672078 139925577160448 deprecation.py:356] From /usr/local/lib/python3.7/dist-packages/tensorflow/python/util/dispatch.py:1176: softmax_cross_entropy_with_logits (from tensorflow.python.ops.nn_ops) is deprecated and will be removed in a future version.\n",
      "Instructions for updating:\n",
      "\n",
      "Future major versions of TensorFlow will allow gradients to flow\n",
      "into the labels input on backprop by default.\n",
      "\n",
      "See `tf.nn.softmax_cross_entropy_with_logits_v2`.\n",
      "\n",
      "INFO:tensorflow:Reduce to /job:localhost/replica:0/task:0/device:CPU:0 then broadcast to ('/job:localhost/replica:0/task:0/device:CPU:0',).\n",
      "I1114 06:58:02.351575 139931064715136 cross_device_ops.py:618] Reduce to /job:localhost/replica:0/task:0/device:CPU:0 then broadcast to ('/job:localhost/replica:0/task:0/device:CPU:0',).\n",
      "INFO:tensorflow:Reduce to /job:localhost/replica:0/task:0/device:CPU:0 then broadcast to ('/job:localhost/replica:0/task:0/device:CPU:0',).\n",
      "I1114 06:58:02.354459 139931064715136 cross_device_ops.py:618] Reduce to /job:localhost/replica:0/task:0/device:CPU:0 then broadcast to ('/job:localhost/replica:0/task:0/device:CPU:0',).\n",
      "INFO:tensorflow:Reduce to /job:localhost/replica:0/task:0/device:CPU:0 then broadcast to ('/job:localhost/replica:0/task:0/device:CPU:0',).\n",
      "I1114 06:58:02.357225 139931064715136 cross_device_ops.py:618] Reduce to /job:localhost/replica:0/task:0/device:CPU:0 then broadcast to ('/job:localhost/replica:0/task:0/device:CPU:0',).\n",
      "INFO:tensorflow:Reduce to /job:localhost/replica:0/task:0/device:CPU:0 then broadcast to ('/job:localhost/replica:0/task:0/device:CPU:0',).\n",
      "I1114 06:58:02.358233 139931064715136 cross_device_ops.py:618] Reduce to /job:localhost/replica:0/task:0/device:CPU:0 then broadcast to ('/job:localhost/replica:0/task:0/device:CPU:0',).\n",
      "INFO:tensorflow:Reduce to /job:localhost/replica:0/task:0/device:CPU:0 then broadcast to ('/job:localhost/replica:0/task:0/device:CPU:0',).\n",
      "I1114 06:58:02.360869 139931064715136 cross_device_ops.py:618] Reduce to /job:localhost/replica:0/task:0/device:CPU:0 then broadcast to ('/job:localhost/replica:0/task:0/device:CPU:0',).\n",
      "INFO:tensorflow:Reduce to /job:localhost/replica:0/task:0/device:CPU:0 then broadcast to ('/job:localhost/replica:0/task:0/device:CPU:0',).\n",
      "I1114 06:58:02.361862 139931064715136 cross_device_ops.py:618] Reduce to /job:localhost/replica:0/task:0/device:CPU:0 then broadcast to ('/job:localhost/replica:0/task:0/device:CPU:0',).\n",
      "INFO:tensorflow:Reduce to /job:localhost/replica:0/task:0/device:CPU:0 then broadcast to ('/job:localhost/replica:0/task:0/device:CPU:0',).\n",
      "I1114 06:58:02.365645 139931064715136 cross_device_ops.py:618] Reduce to /job:localhost/replica:0/task:0/device:CPU:0 then broadcast to ('/job:localhost/replica:0/task:0/device:CPU:0',).\n",
      "INFO:tensorflow:Reduce to /job:localhost/replica:0/task:0/device:CPU:0 then broadcast to ('/job:localhost/replica:0/task:0/device:CPU:0',).\n",
      "I1114 06:58:02.366631 139931064715136 cross_device_ops.py:618] Reduce to /job:localhost/replica:0/task:0/device:CPU:0 then broadcast to ('/job:localhost/replica:0/task:0/device:CPU:0',).\n",
      "INFO:tensorflow:Reduce to /job:localhost/replica:0/task:0/device:CPU:0 then broadcast to ('/job:localhost/replica:0/task:0/device:CPU:0',).\n",
      "I1114 06:58:02.368192 139931064715136 cross_device_ops.py:618] Reduce to /job:localhost/replica:0/task:0/device:CPU:0 then broadcast to ('/job:localhost/replica:0/task:0/device:CPU:0',).\n",
      "INFO:tensorflow:Reduce to /job:localhost/replica:0/task:0/device:CPU:0 then broadcast to ('/job:localhost/replica:0/task:0/device:CPU:0',).\n",
      "I1114 06:58:02.369176 139931064715136 cross_device_ops.py:618] Reduce to /job:localhost/replica:0/task:0/device:CPU:0 then broadcast to ('/job:localhost/replica:0/task:0/device:CPU:0',).\n",
      "WARNING:tensorflow:From /usr/local/lib/python3.7/dist-packages/tensorflow/python/util/deprecation.py:629: calling map_fn_v2 (from tensorflow.python.ops.map_fn) with dtype is deprecated and will be removed in a future version.\n",
      "Instructions for updating:\n",
      "Use fn_output_signature instead\n",
      "W1114 06:58:03.506247 139925510018816 deprecation.py:560] From /usr/local/lib/python3.7/dist-packages/tensorflow/python/util/deprecation.py:629: calling map_fn_v2 (from tensorflow.python.ops.map_fn) with dtype is deprecated and will be removed in a future version.\n",
      "Instructions for updating:\n",
      "Use fn_output_signature instead\n",
      "INFO:tensorflow:Step 100 per-step time 2.173s\n",
      "I1114 07:01:40.598912 139931064715136 model_lib_v2.py:707] Step 100 per-step time 2.173s\n",
      "INFO:tensorflow:{'Loss/BoxClassifierLoss/classification_loss': 0.7181923,\n",
      " 'Loss/BoxClassifierLoss/localization_loss': 0.58616066,\n",
      " 'Loss/RPNLoss/localization_loss': 0.24590579,\n",
      " 'Loss/RPNLoss/objectness_loss': 0.20345348,\n",
      " 'Loss/regularization_loss': 0.0,\n",
      " 'Loss/total_loss': 1.7537122,\n",
      " 'learning_rate': 0.0186664}\n",
      "I1114 07:01:40.599284 139931064715136 model_lib_v2.py:708] {'Loss/BoxClassifierLoss/classification_loss': 0.7181923,\n",
      " 'Loss/BoxClassifierLoss/localization_loss': 0.58616066,\n",
      " 'Loss/RPNLoss/localization_loss': 0.24590579,\n",
      " 'Loss/RPNLoss/objectness_loss': 0.20345348,\n",
      " 'Loss/regularization_loss': 0.0,\n",
      " 'Loss/total_loss': 1.7537122,\n",
      " 'learning_rate': 0.0186664}\n",
      "INFO:tensorflow:Step 200 per-step time 0.571s\n",
      "I1114 07:02:37.478062 139931064715136 model_lib_v2.py:707] Step 200 per-step time 0.571s\n",
      "INFO:tensorflow:{'Loss/BoxClassifierLoss/classification_loss': 0.35077477,\n",
      " 'Loss/BoxClassifierLoss/localization_loss': 0.5241245,\n",
      " 'Loss/RPNLoss/localization_loss': 0.23722905,\n",
      " 'Loss/RPNLoss/objectness_loss': 0.23914735,\n",
      " 'Loss/regularization_loss': 0.0,\n",
      " 'Loss/total_loss': 1.3512757,\n",
      " 'learning_rate': 0.023999799}\n",
      "I1114 07:02:37.478361 139931064715136 model_lib_v2.py:708] {'Loss/BoxClassifierLoss/classification_loss': 0.35077477,\n",
      " 'Loss/BoxClassifierLoss/localization_loss': 0.5241245,\n",
      " 'Loss/RPNLoss/localization_loss': 0.23722905,\n",
      " 'Loss/RPNLoss/objectness_loss': 0.23914735,\n",
      " 'Loss/regularization_loss': 0.0,\n",
      " 'Loss/total_loss': 1.3512757,\n",
      " 'learning_rate': 0.023999799}\n",
      "INFO:tensorflow:Step 300 per-step time 0.557s\n",
      "I1114 07:03:33.131886 139931064715136 model_lib_v2.py:707] Step 300 per-step time 0.557s\n",
      "INFO:tensorflow:{'Loss/BoxClassifierLoss/classification_loss': 0.37265408,\n",
      " 'Loss/BoxClassifierLoss/localization_loss': 0.4892347,\n",
      " 'Loss/RPNLoss/localization_loss': 0.2475995,\n",
      " 'Loss/RPNLoss/objectness_loss': 0.17485529,\n",
      " 'Loss/regularization_loss': 0.0,\n",
      " 'Loss/total_loss': 1.2843435,\n",
      " 'learning_rate': 0.0293332}\n",
      "I1114 07:03:33.132197 139931064715136 model_lib_v2.py:708] {'Loss/BoxClassifierLoss/classification_loss': 0.37265408,\n",
      " 'Loss/BoxClassifierLoss/localization_loss': 0.4892347,\n",
      " 'Loss/RPNLoss/localization_loss': 0.2475995,\n",
      " 'Loss/RPNLoss/objectness_loss': 0.17485529,\n",
      " 'Loss/regularization_loss': 0.0,\n",
      " 'Loss/total_loss': 1.2843435,\n",
      " 'learning_rate': 0.0293332}\n",
      "INFO:tensorflow:Step 400 per-step time 0.575s\n",
      "I1114 07:04:30.621214 139931064715136 model_lib_v2.py:707] Step 400 per-step time 0.575s\n",
      "INFO:tensorflow:{'Loss/BoxClassifierLoss/classification_loss': 0.33231163,\n",
      " 'Loss/BoxClassifierLoss/localization_loss': 0.3160439,\n",
      " 'Loss/RPNLoss/localization_loss': 0.19142458,\n",
      " 'Loss/RPNLoss/objectness_loss': 0.13028654,\n",
      " 'Loss/regularization_loss': 0.0,\n",
      " 'Loss/total_loss': 0.97006667,\n",
      " 'learning_rate': 0.034666598}\n",
      "I1114 07:04:30.621514 139931064715136 model_lib_v2.py:708] {'Loss/BoxClassifierLoss/classification_loss': 0.33231163,\n",
      " 'Loss/BoxClassifierLoss/localization_loss': 0.3160439,\n",
      " 'Loss/RPNLoss/localization_loss': 0.19142458,\n",
      " 'Loss/RPNLoss/objectness_loss': 0.13028654,\n",
      " 'Loss/regularization_loss': 0.0,\n",
      " 'Loss/total_loss': 0.97006667,\n",
      " 'learning_rate': 0.034666598}\n",
      "INFO:tensorflow:Step 500 per-step time 0.584s\n",
      "I1114 07:05:29.058334 139931064715136 model_lib_v2.py:707] Step 500 per-step time 0.584s\n",
      "INFO:tensorflow:{'Loss/BoxClassifierLoss/classification_loss': 0.37608913,\n",
      " 'Loss/BoxClassifierLoss/localization_loss': 0.38125288,\n",
      " 'Loss/RPNLoss/localization_loss': 0.23852941,\n",
      " 'Loss/RPNLoss/objectness_loss': 0.15511873,\n",
      " 'Loss/regularization_loss': 0.0,\n",
      " 'Loss/total_loss': 1.1509901,\n",
      " 'learning_rate': 0.04}\n",
      "I1114 07:05:29.058624 139931064715136 model_lib_v2.py:708] {'Loss/BoxClassifierLoss/classification_loss': 0.37608913,\n",
      " 'Loss/BoxClassifierLoss/localization_loss': 0.38125288,\n",
      " 'Loss/RPNLoss/localization_loss': 0.23852941,\n",
      " 'Loss/RPNLoss/objectness_loss': 0.15511873,\n",
      " 'Loss/regularization_loss': 0.0,\n",
      " 'Loss/total_loss': 1.1509901,\n",
      " 'learning_rate': 0.04}\n",
      "INFO:tensorflow:Step 600 per-step time 0.585s\n",
      "I1114 07:06:27.600641 139931064715136 model_lib_v2.py:707] Step 600 per-step time 0.585s\n",
      "INFO:tensorflow:{'Loss/BoxClassifierLoss/classification_loss': 0.33096215,\n",
      " 'Loss/BoxClassifierLoss/localization_loss': 0.38855708,\n",
      " 'Loss/RPNLoss/localization_loss': 0.21506335,\n",
      " 'Loss/RPNLoss/objectness_loss': 0.1925801,\n",
      " 'Loss/regularization_loss': 0.0,\n",
      " 'Loss/total_loss': 1.1271627,\n",
      " 'learning_rate': 0.03995128}\n",
      "I1114 07:06:27.600935 139931064715136 model_lib_v2.py:708] {'Loss/BoxClassifierLoss/classification_loss': 0.33096215,\n",
      " 'Loss/BoxClassifierLoss/localization_loss': 0.38855708,\n",
      " 'Loss/RPNLoss/localization_loss': 0.21506335,\n",
      " 'Loss/RPNLoss/objectness_loss': 0.1925801,\n",
      " 'Loss/regularization_loss': 0.0,\n",
      " 'Loss/total_loss': 1.1271627,\n",
      " 'learning_rate': 0.03995128}\n"
     ]
    }
   ],
   "source": [
    "!python /content/models/research/object_detection/model_main_tf2.py \\\n",
    "--model_dir=\"/content/google_drive/MyDrive/Tensorflow_OD_API/faster_rcnn_resnet50_v1/workspace/training_demo/models/myft_faster_rcnn_resnet50_v2\" \\\n",
    "--pipeline_config_path=\"/content/google_drive/MyDrive/Tensorflow_OD_API/faster_rcnn_resnet50_v1/workspace/training_demo/models/myft_faster_rcnn_resnet50_v2/pipeline.config\" \\\n",
    "--alsologtostderr"
   ]
  },
  {
   "cell_type": "markdown",
   "metadata": {
    "id": "BQXy9OZb6z5-"
   },
   "source": [
    "Keyboard : standardinput \\\n",
    "monitor  : standardoutput \\\n",
    "error    : standarderror"
   ]
  }
 ],
 "metadata": {
  "accelerator": "GPU",
  "colab": {
   "machine_shape": "hm",
   "provenance": []
  },
  "gpuClass": "premium",
  "kernelspec": {
   "display_name": "Python 3 (ipykernel)",
   "language": "python",
   "name": "python3"
  },
  "language_info": {
   "codemirror_mode": {
    "name": "ipython",
    "version": 3
   },
   "file_extension": ".py",
   "mimetype": "text/x-python",
   "name": "python",
   "nbconvert_exporter": "python",
   "pygments_lexer": "ipython3",
   "version": "3.9.12"
  }
 },
 "nbformat": 4,
 "nbformat_minor": 1
}
