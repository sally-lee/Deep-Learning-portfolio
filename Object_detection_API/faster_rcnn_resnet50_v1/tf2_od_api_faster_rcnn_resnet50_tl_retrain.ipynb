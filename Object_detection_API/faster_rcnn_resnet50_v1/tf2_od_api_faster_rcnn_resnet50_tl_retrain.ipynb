{
  "nbformat": 4,
  "nbformat_minor": 0,
  "metadata": {
    "colab": {
      "provenance": [],
      "machine_shape": "hm",
      "include_colab_link": true
    },
    "kernelspec": {
      "name": "python3",
      "display_name": "Python 3"
    },
    "language_info": {
      "name": "python"
    },
    "accelerator": "GPU",
    "gpuClass": "premium"
  },
  "cells": [
    {
      "cell_type": "markdown",
      "metadata": {
        "id": "view-in-github",
        "colab_type": "text"
      },
      "source": [
        "<a href=\"https://colab.research.google.com/github/sally-lee/Deep-Learning-portfolio/blob/main/Object_detection_API/faster_rcnn_resnet50_v1/tf2_od_api_faster_rcnn_resnet50_tl_retrain.ipynb\" target=\"_parent\"><img src=\"https://colab.research.google.com/assets/colab-badge.svg\" alt=\"Open In Colab\"/></a>"
      ]
    },
    {
      "cell_type": "code",
      "execution_count": null,
      "metadata": {
        "colab": {
          "base_uri": "https://localhost:8080/"
        },
        "id": "-BK5ZQY5zaeY",
        "outputId": "09688112-cf5a-4b34-9cd8-ae2e9a5f4ad2"
      },
      "outputs": [
        {
          "output_type": "stream",
          "name": "stdout",
          "text": [
            "Mounted at /content/google_drive\n"
          ]
        }
      ],
      "source": [
        "from google.colab import drive\n",
        "drive.mount('/content/google_drive')"
      ]
    },
    {
      "cell_type": "code",
      "source": [
        "!nvidia-smi"
      ],
      "metadata": {
        "id": "27DYfNKMzgqv"
      },
      "execution_count": null,
      "outputs": []
    },
    {
      "cell_type": "code",
      "source": [
        "!pip install -U \"tensorflow>=2.5\""
      ],
      "metadata": {
        "id": "5OpGlzsvzmVP"
      },
      "execution_count": null,
      "outputs": []
    },
    {
      "cell_type": "markdown",
      "source": [
        "\n",
        "<div><div class=\"highlight-default notranslate\"><div class=\"highlight\"><pre><span></span>content/\n",
        "├─ scripts/ (Google Drive Mount)\n",
        "│  └─ preprocessing/\n",
        "├─ models/\n",
        "│  ├─ community/\n",
        "│  ├─ official/\n",
        "│  ├─ orbit/\n",
        "│  ├─ research/\n",
        "│  └─ ...\n",
        "└─ workspace/ (Google Drive Mount)\n",
        "    └─ training_demo/\n",
        "</pre></div>\n"
      ],
      "metadata": {
        "id": "TLCjoUPR0BUI"
      }
    },
    {
      "cell_type": "markdown",
      "source": [
        "<div><div class=\"highlight-default notranslate\"><div class=\"highlight\"><pre><span></span>training_demo/\n",
        "├─ annotations/\n",
        "├─ exported-models/\n",
        "├─ images/\n",
        "│  ├─ test/\n",
        "│  └─ train/\n",
        "├─ models/\n",
        "├─ pre-trained-models/\n",
        "└─ README.md\n",
        "</pre></div>"
      ],
      "metadata": {
        "id": "9oM3FUVS0Eqv"
      }
    },
    {
      "cell_type": "code",
      "source": [
        "import os\n",
        "import pathlib\n",
        "\n",
        "import matplotlib\n",
        "import matplotlib.pyplot as plt\n",
        "\n",
        "import io\n",
        "import scipy.misc\n",
        "import numpy as np\n",
        "from six import BytesIO\n",
        "from PIL import Image, ImageDraw, ImageFont\n",
        "from six.moves.urllib.request import urlopen\n",
        "\n",
        "import tensorflow as tf\n",
        "# import tensorflow_hub as hub\n",
        "\n",
        "tf.get_logger().setLevel('ERROR')"
      ],
      "metadata": {
        "id": "t6rEbMg-zx_Q"
      },
      "execution_count": null,
      "outputs": []
    },
    {
      "cell_type": "code",
      "source": [
        "import re\n",
        "from shutil import copyfile\n",
        "import argparse\n",
        "import math\n",
        "import random"
      ],
      "metadata": {
        "id": "9vJzHKphzz7f"
      },
      "execution_count": null,
      "outputs": []
    },
    {
      "cell_type": "code",
      "source": [
        "import numpy as np\n",
        "from PIL import Image\n",
        "import matplotlib.pyplot as plt\n",
        "import warnings\n",
        "warnings.filterwarnings('ignore')   # Suppress Matplotlib warnings"
      ],
      "metadata": {
        "id": "VCjwoQZFz1z_"
      },
      "execution_count": null,
      "outputs": []
    },
    {
      "cell_type": "code",
      "source": [
        "# Clone the tensorflow models repository\n",
        "!git clone --depth 1 https://github.com/tensorflow/models"
      ],
      "metadata": {
        "colab": {
          "base_uri": "https://localhost:8080/"
        },
        "id": "4PsVxLrT0NQv",
        "outputId": "cb00148f-3b44-4d7e-facb-f20290cb0011"
      },
      "execution_count": null,
      "outputs": [
        {
          "output_type": "stream",
          "name": "stdout",
          "text": [
            "Cloning into 'models'...\n",
            "remote: Enumerating objects: 3529, done.\u001b[K\n",
            "remote: Counting objects: 100% (3529/3529), done.\u001b[K\n",
            "remote: Compressing objects: 100% (2939/2939), done.\u001b[K\n",
            "remote: Total 3529 (delta 933), reused 1514 (delta 536), pack-reused 0\u001b[K\n",
            "Receiving objects: 100% (3529/3529), 47.00 MiB | 28.66 MiB/s, done.\n",
            "Resolving deltas: 100% (933/933), done.\n"
          ]
        }
      ]
    },
    {
      "cell_type": "code",
      "source": [
        "!sudo apt install -y protobuf-compiler"
      ],
      "metadata": {
        "colab": {
          "base_uri": "https://localhost:8080/"
        },
        "id": "aozPndWq0Pzf",
        "outputId": "b7e02461-fa7e-4058-d985-88d0f05f9066"
      },
      "execution_count": null,
      "outputs": [
        {
          "output_type": "stream",
          "name": "stdout",
          "text": [
            "Reading package lists... Done\n",
            "Building dependency tree       \n",
            "Reading state information... Done\n",
            "protobuf-compiler is already the newest version (3.0.0-9.1ubuntu1).\n",
            "The following package was automatically installed and is no longer required:\n",
            "  libnvidia-common-460\n",
            "Use 'sudo apt autoremove' to remove it.\n",
            "0 upgraded, 0 newly installed, 0 to remove and 5 not upgraded.\n"
          ]
        }
      ]
    },
    {
      "cell_type": "code",
      "source": [
        "%cd /content/models/research"
      ],
      "metadata": {
        "colab": {
          "base_uri": "https://localhost:8080/"
        },
        "id": "i73qSU9m0S83",
        "outputId": "b6a846ae-54e7-45cf-b553-4401b6f0cabb"
      },
      "execution_count": null,
      "outputs": [
        {
          "output_type": "stream",
          "name": "stdout",
          "text": [
            "/content/models/research\n"
          ]
        }
      ]
    },
    {
      "cell_type": "code",
      "source": [
        "!protoc object_detection/protos/*.proto --python_out=."
      ],
      "metadata": {
        "id": "GHhu2h020VOg"
      },
      "execution_count": null,
      "outputs": []
    },
    {
      "cell_type": "code",
      "source": [
        "%cd /content"
      ],
      "metadata": {
        "colab": {
          "base_uri": "https://localhost:8080/"
        },
        "id": "Xce4UN3F0fIf",
        "outputId": "cb8990d5-de22-4fe9-c50f-e7dcc277dde4"
      },
      "execution_count": null,
      "outputs": [
        {
          "output_type": "stream",
          "name": "stdout",
          "text": [
            "/content\n"
          ]
        }
      ]
    },
    {
      "cell_type": "code",
      "source": [
        "!git clone https://github.com/cocodataset/cocoapi.git"
      ],
      "metadata": {
        "colab": {
          "base_uri": "https://localhost:8080/"
        },
        "id": "ZU9R3bUO0gb_",
        "outputId": "c4a1641d-8df5-4f1c-9842-0ee3b34c129a"
      },
      "execution_count": null,
      "outputs": [
        {
          "output_type": "stream",
          "name": "stdout",
          "text": [
            "Cloning into 'cocoapi'...\n",
            "remote: Enumerating objects: 975, done.\u001b[K\n",
            "remote: Total 975 (delta 0), reused 0 (delta 0), pack-reused 975\u001b[K\n",
            "Receiving objects: 100% (975/975), 11.72 MiB | 18.19 MiB/s, done.\n",
            "Resolving deltas: 100% (576/576), done.\n"
          ]
        }
      ]
    },
    {
      "cell_type": "code",
      "source": [
        "%cd /content/cocoapi/PythonAPI"
      ],
      "metadata": {
        "colab": {
          "base_uri": "https://localhost:8080/"
        },
        "id": "lfWV62Cw0ho3",
        "outputId": "e28d4c40-c783-4e02-cd35-432fbc039588"
      },
      "execution_count": null,
      "outputs": [
        {
          "output_type": "stream",
          "name": "stdout",
          "text": [
            "/content/cocoapi/PythonAPI\n"
          ]
        }
      ]
    },
    {
      "cell_type": "code",
      "source": [
        "!make"
      ],
      "metadata": {
        "id": "lvsmL0q-0lGH"
      },
      "execution_count": null,
      "outputs": []
    },
    {
      "cell_type": "code",
      "source": [
        "!ls -al"
      ],
      "metadata": {
        "colab": {
          "base_uri": "https://localhost:8080/"
        },
        "id": "7mAgpRoE0na_",
        "outputId": "d210f017-8df9-4d80-c982-db34a9c96b6e"
      },
      "execution_count": null,
      "outputs": [
        {
          "output_type": "stream",
          "name": "stdout",
          "text": [
            "total 1780\n",
            "drwxr-xr-x 3 root root    4096 Nov 14 06:27 .\n",
            "drwxr-xr-x 8 root root    4096 Nov 14 06:27 ..\n",
            "-rw-r--r-- 1 root root     199 Nov 14 06:27 Makefile\n",
            "-rw-r--r-- 1 root root 1790308 Nov 14 06:27 pycocoDemo.ipynb\n",
            "-rw-r--r-- 1 root root    4456 Nov 14 06:27 pycocoEvalDemo.ipynb\n",
            "drwxr-xr-x 2 root root    4096 Nov 14 06:27 pycocotools\n",
            "-rw-r--r-- 1 root root     762 Nov 14 06:27 setup.py\n"
          ]
        }
      ]
    },
    {
      "cell_type": "code",
      "source": [
        "!cp -r pycocotools /content/models/research"
      ],
      "metadata": {
        "id": "PQs6KxjS0r2Y"
      },
      "execution_count": null,
      "outputs": []
    },
    {
      "cell_type": "code",
      "source": [
        "%cd /content/models/research"
      ],
      "metadata": {
        "colab": {
          "base_uri": "https://localhost:8080/"
        },
        "id": "gHa61BA300aX",
        "outputId": "bbb44d87-b26a-4898-a839-db1611eea3d1"
      },
      "execution_count": null,
      "outputs": [
        {
          "output_type": "stream",
          "name": "stdout",
          "text": [
            "/content/models/research\n"
          ]
        }
      ]
    },
    {
      "cell_type": "code",
      "source": [
        "!cp object_detection/packages/tf2/setup.py ."
      ],
      "metadata": {
        "id": "vkL9ifJG05UA"
      },
      "execution_count": null,
      "outputs": []
    },
    {
      "cell_type": "code",
      "source": [
        "!python -m pip install ."
      ],
      "metadata": {
        "id": "L4pjiJhp0-nP"
      },
      "execution_count": null,
      "outputs": []
    },
    {
      "cell_type": "code",
      "source": [
        "!python /content/models/research/object_detection/builders/model_builder_tf2_test.py"
      ],
      "metadata": {
        "id": "iY62ev6X1DUA"
      },
      "execution_count": null,
      "outputs": []
    },
    {
      "cell_type": "code",
      "source": [
        "!python /content/google_drive/MyDrive/Tensorflow_OD_API/faster_rcnn_resnet50_v1/scripts/preprocessing/generate_tfrecord.py \\\n",
        "-x \"/content/google_drive/MyDrive/Tensorflow_OD_API/faster_rcnn_resnet50_v1/workspace/training_demo/images/test\" \\\n",
        "-l \"/content/google_drive/MyDrive/Tensorflow_OD_API/faster_rcnn_resnet50_v1/workspace/training_demo/annotations/label_map.pbtxt\" \\\n",
        "-o \"/content/google_drive/MyDrive/Tensorflow_OD_API/faster_rcnn_resnet50_v1/workspace/training_demo/annotations/test.record\""
      ],
      "metadata": {
        "colab": {
          "base_uri": "https://localhost:8080/"
        },
        "id": "kwUZNyQ94unP",
        "outputId": "35a557c2-869e-460c-f459-5fa90704ad0b"
      },
      "execution_count": null,
      "outputs": [
        {
          "output_type": "stream",
          "name": "stdout",
          "text": [
            "2022-11-14 06:46:38.520405: E tensorflow/stream_executor/cuda/cuda_blas.cc:2981] Unable to register cuBLAS factory: Attempting to register factory for plugin cuBLAS when one has already been registered\n",
            "Successfully created the TFRecord file: /content/google_drive/MyDrive/Tensorflow_OD_API/faster_rcnn_resnet50_v1/workspace/training_demo/annotations/test.record\n"
          ]
        }
      ]
    },
    {
      "cell_type": "markdown",
      "source": [
        "/content/google_drive/MyDrive/Tensorflow_OD_API/faster_rcnn_resnet50_v1/workspace/training_demo/exported-models/"
      ],
      "metadata": {
        "id": "nN-nUe8A5md3"
      }
    },
    {
      "cell_type": "code",
      "source": [
        "!mkdir \"/content/google_drive/MyDrive/Tensorflow_OD_API/faster_rcnn_resnet50_v1/workspace/training_demo/models/myft_faster_rcnn_resnet50_v2\""
      ],
      "metadata": {
        "id": "uQUg__-r5hTn"
      },
      "execution_count": null,
      "outputs": []
    },
    {
      "cell_type": "code",
      "source": [
        "!cp \"/content/google_drive/MyDrive/Tensorflow_OD_API/faster_rcnn_resnet50_v1/workspace/training_demo/models/myft_faster_rcnn_resnet50_v1/pipeline.config\" \\\n",
        "\"/content/google_drive/MyDrive/Tensorflow_OD_API/faster_rcnn_resnet50_v1/workspace/training_demo/models/myft_faster_rcnn_resnet50_v2\""
      ],
      "metadata": {
        "id": "wl5M8v5O5plF"
      },
      "execution_count": null,
      "outputs": []
    },
    {
      "cell_type": "code",
      "source": [
        "!python /content/models/research/object_detection/model_main_tf2.py \\\n",
        "--model_dir=\"/content/google_drive/MyDrive/Tensorflow_OD_API/faster_rcnn_resnet50_v1/workspace/training_demo/models/myft_faster_rcnn_resnet50_v2\" \\\n",
        "--pipeline_config_path=\"/content/google_drive/MyDrive/Tensorflow_OD_API/faster_rcnn_resnet50_v1/workspace/training_demo/models/myft_faster_rcnn_resnet50_v2/pipeline.config\" \\\n",
        "--alsologtostderr"
      ],
      "metadata": {
        "id": "epALgo-S6kLF"
      },
      "execution_count": null,
      "outputs": []
    },
    {
      "cell_type": "markdown",
      "source": [
        "Keyboard : standardinput \\\n",
        "monitor  : standardoutput \\\n",
        "error    : standarderror"
      ],
      "metadata": {
        "id": "BQXy9OZb6z5-"
      }
    }
  ]
}